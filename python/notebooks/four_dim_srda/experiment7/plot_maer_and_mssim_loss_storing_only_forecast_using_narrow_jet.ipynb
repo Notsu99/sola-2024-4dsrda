{
 "cells": [
  {
   "cell_type": "code",
   "execution_count": null,
   "id": "b08e541a-6c1f-40f6-a823-0cdd53e027cb",
   "metadata": {
    "tags": []
   },
   "outputs": [],
   "source": [
    "%load_ext autoreload\n",
    "%autoreload 2\n",
    "%matplotlib inline"
   ]
  },
  {
   "attachments": {},
   "cell_type": "markdown",
   "id": "c2a0775a-4908-4fc5-95d8-2e6d014f9bf2",
   "metadata": {},
   "source": [
    "# Import libraries"
   ]
  },
  {
   "cell_type": "code",
   "execution_count": null,
   "id": "f38da3b4-ab94-4dc0-8c39-14e9f3b5fec5",
   "metadata": {
    "tags": []
   },
   "outputs": [],
   "source": [
    "import sys\n",
    "from logging import INFO, StreamHandler, getLogger\n",
    "\n",
    "logger = getLogger()\n",
    "if not logger.hasHandlers():\n",
    "    logger.addHandler(StreamHandler(sys.stdout))\n",
    "logger.setLevel(INFO)"
   ]
  },
  {
   "cell_type": "code",
   "execution_count": null,
   "id": "870761d2-a503-4bc1-b635-224d0cdd96dd",
   "metadata": {
    "tags": []
   },
   "outputs": [],
   "source": [
    "import os\n",
    "import pathlib\n",
    "\n",
    "import matplotlib.pyplot as plt\n",
    "import numpy as np\n",
    "import torch\n",
    "from src.four_dim_srda.config.experiment_config import CFDConfig\n",
    "from src.four_dim_srda.utils.io_pickle import read_pickle\n",
    "\n",
    "plt.rcParams[\"font.family\"] = \"serif\""
   ]
  },
  {
   "attachments": {},
   "cell_type": "markdown",
   "id": "f54fd779-f742-4ed9-bbcd-575a7812c438",
   "metadata": {},
   "source": [
    "# Define constants"
   ]
  },
  {
   "cell_type": "code",
   "execution_count": null,
   "id": "e629f2a3-afac-4f38-b439-cc58792f89e1",
   "metadata": {
    "tags": []
   },
   "outputs": [],
   "source": [
    "ROOT_DIR = pathlib.Path(os.environ[\"PYTHONPATH\"]).parent.resolve()"
   ]
  },
  {
   "cell_type": "code",
   "execution_count": null,
   "id": "53dffae9-0da2-4525-ab43-0e06e9ce0a18",
   "metadata": {},
   "outputs": [],
   "source": [
    "experiment_name = \"experiment7\""
   ]
  },
  {
   "cell_type": "code",
   "execution_count": null,
   "id": "52632b59-4e51-4566-866b-8867122ba055",
   "metadata": {
    "tags": []
   },
   "outputs": [],
   "source": [
    "# model_names = [\"ConvTransNetVer01\", \"UNetMaxVitVer01\", \"UNetVitVer02\"]\n",
    "model_names = [\"ConvTransNetVer01\", \"UNetMaxVitVer01\"]\n",
    "\n",
    "CFG_DIR = f\"{ROOT_DIR}/python/configs/four_dim_srda/{experiment_name}\"\n",
    "\n",
    "# srda\n",
    "dict_cfg_srda_name = {}\n",
    "for m_name in model_names:\n",
    "    if m_name == \"ConvTransNetVer01\":\n",
    "        dict_cfg_srda_name[\n",
    "            m_name\n",
    "        ] = \"bea2_bed2_dspe360_nsls100_ogx08_ogy08_bias1_bs12_lr1e-04\"\n",
    "    #\n",
    "    elif m_name == \"UNetMaxVitVer01\":\n",
    "        dict_cfg_srda_name[\n",
    "            m_name\n",
    "        ] = \"bea2_bed2_dspe360_nsls100_ogx08_ogy08_n3drb3_nmb6_bias0_bs12_lr1e-04\"\n",
    "    #\n",
    "    elif m_name == \"UNetVitVer02\":\n",
    "        dict_cfg_srda_name[\n",
    "            m_name\n",
    "        ] = \"bea2_bed2_dspe360_nsls100_ogx08_ogy08_n3drb3_nvb4_bias0_vits0_bs12_lr1e-04\"\n",
    "\n",
    "# config cfd\n",
    "CFG_CFD_PATH = f\"{CFG_DIR}/cfd_simulation/qg_model/gpu_evaluation_config.yml\"\n",
    "\n",
    "cfg_cfd = CFDConfig.load(pathlib.Path(CFG_CFD_PATH))\n",
    "\n",
    "DEVICE_CPU = \"cpu\"\n",
    "\n",
    "cfg_cfd.lr_base_config.device = (\n",
    "    cfg_cfd.hr_base_config.device\n",
    ") = cfg_cfd.uhr_base_config.device = DEVICE_CPU\n",
    "\n",
    "dict_cfg_srda_name"
   ]
  },
  {
   "cell_type": "code",
   "execution_count": null,
   "id": "94099c79-08a8-43ba-afaf-05ecf0164e93",
   "metadata": {
    "tags": []
   },
   "outputs": [],
   "source": [
    "_result_dir = f\"{ROOT_DIR}/python/results/four_dim_srda/{experiment_name}\"\n",
    "RESULT_DIR = f\"{_result_dir}/analysis/use_narrow_jet/store_only_forecast\"\n",
    "FIG_DIR = f\"{RESULT_DIR}/fig\"\n",
    "os.makedirs(FIG_DIR, exist_ok=True)"
   ]
  },
  {
   "cell_type": "code",
   "execution_count": null,
   "id": "45e5f798-fd15-4721-bbbc-672b502382f4",
   "metadata": {},
   "outputs": [],
   "source": [
    "ASSIMILATION_PERIOD = (\n",
    "    cfg_cfd.da_config.segment_length - cfg_cfd.da_config.forecast_span - 1\n",
    ")\n",
    "FORECAST_SPAN = cfg_cfd.da_config.forecast_span"
   ]
  },
  {
   "attachments": {},
   "cell_type": "markdown",
   "id": "15c36293-9b9e-4b4b-9125-48be9dc0048f",
   "metadata": {},
   "source": [
    "# Define methods"
   ]
  },
  {
   "cell_type": "code",
   "execution_count": null,
   "id": "379ed645-2623-4738-b987-efab75e91a78",
   "metadata": {
    "tags": []
   },
   "outputs": [],
   "source": [
    "def plot_metric(ax, x, y, label, color, linestyle, linewidth=2.2):\n",
    "    \"\"\"Helper function to plot data on a single axis\"\"\"\n",
    "    return ax.plot(\n",
    "        x, y, label=label, color=color, linestyle=linestyle, linewidth=linewidth\n",
    "    )\n",
    "\n",
    "\n",
    "def setup_axis(\n",
    "    ax,\n",
    "    x_ticks,\n",
    "    y_limits,\n",
    "    y_ticks,\n",
    "    title,\n",
    "    x_label,\n",
    "    y_label,\n",
    "    title_fontsize,\n",
    "    label_fontsize,\n",
    "    tick_label_fontsize,\n",
    "):\n",
    "    \"\"\"Helper function to configure the axis\"\"\"\n",
    "    ax.set_xticks(x_ticks)\n",
    "    ax.set_ylim(*y_limits)\n",
    "    ax.set_yticks(y_ticks)\n",
    "    ax.set_title(title, fontsize=title_fontsize, loc=\"left\", pad=20)\n",
    "    ax.set_xlabel(x_label, fontsize=label_fontsize)\n",
    "    ax.set_ylabel(y_label, fontsize=label_fontsize, labelpad=15)\n",
    "    ax.tick_params(axis=\"both\", which=\"major\", labelsize=tick_label_fontsize)\n",
    "\n",
    "\n",
    "def plot_maer_and_mssim_loss(\n",
    "    *,\n",
    "    dict_maer: dict[str, torch.Tensor],\n",
    "    dict_mssim_loss: dict[str, torch.Tensor],\n",
    "    time: torch.Tensor,\n",
    "    list_ylim_maer: tuple[int, int],\n",
    "    list_ylim_mssim_loss: list[int, int],\n",
    "    base_font_size: int,\n",
    "    list_fig_size_xy: tuple[float, float],\n",
    "    num_xticks: int = 5,\n",
    "    num_yticks: int = 5,\n",
    "    save_fig: bool = False,\n",
    "    fig_name: str = \"maer_and_mssim_loss_only_forecast_plots_for_paper\",\n",
    "):\n",
    "    \"\"\"Plot MAE ratio and MSSIM loss with configured subplots\"\"\"\n",
    "    plt.rcParams[\"font.size\"] = base_font_size\n",
    "\n",
    "    # Font size scales\n",
    "    title_fs_scale = 1.4\n",
    "    label_fs_scale = 1.2\n",
    "    legend_fs_scale = 1.0\n",
    "    tick_label_fs_scale = 1.0\n",
    "\n",
    "    lw = 2.2  # Line width\n",
    "\n",
    "    fig, (ax1, ax2) = plt.subplots(1, 2, figsize=list_fig_size_xy)\n",
    "\n",
    "    # Define styles for each dataset\n",
    "    styles = {\n",
    "        \"srda_lr\": {\n",
    "            \"color\": \"tab:blue\",\n",
    "            \"linestyle\": \"-.\",\n",
    "            \"label\": \"LR fluid simulation\",\n",
    "        },\n",
    "        \"srda\": {\"color\": \"tab:red\", \"linestyle\": \"-\", \"label\": \"4D-SRDA\"},\n",
    "        \"letkf\": {\"color\": \"tab:green\", \"linestyle\": \"--\", \"label\": \"HR-LETKF\"},\n",
    "    }\n",
    "\n",
    "    handles, labels = [], []\n",
    "\n",
    "    # Plot data for each dataset\n",
    "    for key1, style in styles.items():\n",
    "        if key1 not in dict_maer:\n",
    "            continue\n",
    "\n",
    "        if key1 == \"letkf\":\n",
    "            # Handle the \"letkf\" case directly\n",
    "            key = \"letkf\"\n",
    "            line1 = plot_metric(ax1, time, dict_maer[key], **style, linewidth=lw)\n",
    "            line2 = plot_metric(ax2, time, dict_mssim_loss[key], **style, linewidth=lw)\n",
    "        else:\n",
    "            # Handle \"srda_lr\" and \"srda\" cases with nested keys\n",
    "            for key in dict_maer[key1]:\n",
    "                if key != \"UNetMaxVitVer01\":\n",
    "                    continue\n",
    "                line1 = plot_metric(\n",
    "                    ax1, time, dict_maer[key1][key], **style, linewidth=lw\n",
    "                )\n",
    "                line2 = plot_metric(\n",
    "                    ax2, time, dict_mssim_loss[key1][key], **style, linewidth=lw\n",
    "                )\n",
    "\n",
    "        # Append handles and labels for the legend\n",
    "        handles.append(line2[0])\n",
    "        labels.append(style[\"label\"])\n",
    "\n",
    "    # Configure the x-ticks for both axes\n",
    "    x_ticks = np.linspace(0, 200, num_xticks)\n",
    "\n",
    "    # Configure ax1 (MAE Ratio)\n",
    "    setup_axis(\n",
    "        ax1,\n",
    "        x_ticks,\n",
    "        list_ylim_maer,\n",
    "        np.linspace(*list_ylim_maer, num_yticks),\n",
    "        \"(a) MAE Ratio in UHR space\",\n",
    "        \"Time\",\n",
    "        \"MAE Ratio\",\n",
    "        title_fs_scale * base_font_size,\n",
    "        label_fs_scale * base_font_size,\n",
    "        tick_label_fs_scale * base_font_size,\n",
    "    )\n",
    "\n",
    "    # Configure ax2 (MSSIM Loss)\n",
    "    setup_axis(\n",
    "        ax2,\n",
    "        x_ticks,\n",
    "        list_ylim_mssim_loss,\n",
    "        np.linspace(*list_ylim_mssim_loss, num_yticks),\n",
    "        \"(b) MSSIM Loss in UHR space\",\n",
    "        \"Time\",\n",
    "        \"MSSIM Loss\",\n",
    "        title_fs_scale * base_font_size,\n",
    "        label_fs_scale * base_font_size,\n",
    "        tick_label_fs_scale * base_font_size,\n",
    "    )\n",
    "\n",
    "    # Add legend to the second axis\n",
    "    legend = ax2.legend(\n",
    "        handles=handles,\n",
    "        labels=labels,\n",
    "        fontsize=legend_fs_scale * base_font_size,\n",
    "        edgecolor=\"black\",\n",
    "    )\n",
    "    legend.get_frame().set_alpha(1.0)\n",
    "    legend.get_frame().set_edgecolor(\"black\")\n",
    "\n",
    "    # Adjust layout\n",
    "    plt.tight_layout()\n",
    "\n",
    "    # Save figure if requested\n",
    "    if save_fig:\n",
    "        plt.savefig(\n",
    "            f\"{FIG_DIR}/{fig_name}.jpg\",\n",
    "            dpi=300,\n",
    "            bbox_inches=\"tight\",\n",
    "        )\n",
    "\n",
    "    # Display the plot\n",
    "    plt.show()"
   ]
  },
  {
   "attachments": {},
   "cell_type": "markdown",
   "id": "c06a036f-631d-4841-9a8d-8474f1cbfdc3",
   "metadata": {},
   "source": [
    "# Prepare data"
   ]
  },
  {
   "cell_type": "code",
   "execution_count": null,
   "id": "21e32b2a-2697-4012-9954-ac8dd58991e8",
   "metadata": {
    "tags": []
   },
   "outputs": [],
   "source": [
    "# Set it to use only data at last forecast time\n",
    "t_slice = FORECAST_SPAN"
   ]
  },
  {
   "cell_type": "code",
   "execution_count": null,
   "id": "47c71f74-e7a5-466a-a426-26fbdb202796",
   "metadata": {},
   "outputs": [],
   "source": [
    "# SRDA's results have NaN at it = 0, 1, ..., FORECAST_SPAN, so skip them\n",
    "# And only the last forecast in one cycle is needed\n",
    "# So, we set 2 * FORECAST_SPAN\n",
    "time = np.arange(\n",
    "    cfg_cfd.time_config.start_time,\n",
    "    cfg_cfd.time_config.end_time,\n",
    "    cfg_cfd.time_config.output_uhr_dt,\n",
    ")[2 * FORECAST_SPAN :: t_slice]"
   ]
  },
  {
   "cell_type": "code",
   "execution_count": null,
   "id": "786e18b9-5294-49c1-85d9-44407b2ba48e",
   "metadata": {
    "tags": []
   },
   "outputs": [],
   "source": [
    "all_maer = read_pickle(f\"{RESULT_DIR}/all_maer_only_forecast_result.pkl\")\n",
    "\n",
    "logger.info(\n",
    "    f\"Keys in all_maer:\\n {all_maer.keys()}\\n\"\n",
    "    f\"Keys in maer_selected_iz:\\n {all_maer['maer_selected_iz'].keys()}\\n\"\n",
    "    f\"Shape: {all_maer['maer_selected_iz']['letkf'].shape}\"\n",
    ")"
   ]
  },
  {
   "cell_type": "code",
   "execution_count": null,
   "id": "f49828a9-1a44-4245-b0ce-bf40a78a675b",
   "metadata": {
    "tags": []
   },
   "outputs": [],
   "source": [
    "# Uniform window (window_size of z is 5)\n",
    "all_mssim_loss_uniform_wsz5 = read_pickle(\n",
    "    f\"{RESULT_DIR}/all_mssim_loss_uniform_wsz5_only_forecast_result.pkl\"\n",
    ")\n",
    "\n",
    "logger.info(\n",
    "    f\"Keys in all_mssim_loss_uniform_wsz5:\\n {all_mssim_loss_uniform_wsz5.keys()}\\n\"\n",
    "    f\"mssim_loss_selected_iz keys:\\n {all_mssim_loss_uniform_wsz5['mssim_loss_selected_iz'].keys()}\\n\"\n",
    "    f\"Shape: {all_mssim_loss_uniform_wsz5['mssim_loss_selected_iz']['letkf'].shape}\"\n",
    ")"
   ]
  },
  {
   "attachments": {},
   "cell_type": "markdown",
   "id": "f857c665-77c8-4b1c-ae64-81870aa64946",
   "metadata": {},
   "source": [
    "# Plot"
   ]
  },
  {
   "cell_type": "code",
   "execution_count": null,
   "id": "f3d3536b-b06e-456e-a907-05fcdb0c332a",
   "metadata": {
    "tags": []
   },
   "outputs": [],
   "source": [
    "plot_maer_and_mssim_loss(\n",
    "    dict_maer=all_maer[\"maer_selected_iz\"],\n",
    "    dict_mssim_loss=all_mssim_loss_uniform_wsz5[\"mssim_loss_selected_iz\"],\n",
    "    time=time,\n",
    "    list_fig_size_xy=[16, 8],\n",
    "    list_ylim_maer=[0.00, 0.40],\n",
    "    list_ylim_mssim_loss=[0.00, 0.40],\n",
    "    base_font_size=20,\n",
    "    num_xticks=6,\n",
    "    num_yticks=6,\n",
    "    save_fig=False,\n",
    "    fig_name=\"fig5\",\n",
    ")"
   ]
  },
  {
   "cell_type": "code",
   "execution_count": null,
   "id": "9f2a2fc9-a5e2-4302-95fc-806c8b447a12",
   "metadata": {},
   "outputs": [],
   "source": []
  }
 ],
 "metadata": {
  "kernelspec": {
   "display_name": "Python 3 (ipykernel)",
   "language": "python",
   "name": "python3"
  },
  "language_info": {
   "codemirror_mode": {
    "name": "ipython",
    "version": 3
   },
   "file_extension": ".py",
   "mimetype": "text/x-python",
   "name": "python",
   "nbconvert_exporter": "python",
   "pygments_lexer": "ipython3",
   "version": "3.9.5"
  }
 },
 "nbformat": 4,
 "nbformat_minor": 5
}
