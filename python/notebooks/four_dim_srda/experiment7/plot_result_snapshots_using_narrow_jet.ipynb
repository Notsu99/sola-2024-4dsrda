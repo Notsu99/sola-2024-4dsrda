{
 "cells": [
  {
   "cell_type": "code",
   "execution_count": null,
   "id": "6864ad56-1f78-4648-873f-1f985e51ff8c",
   "metadata": {
    "tags": []
   },
   "outputs": [],
   "source": [
    "%load_ext autoreload\n",
    "%autoreload 2\n",
    "%matplotlib inline"
   ]
  },
  {
   "attachments": {},
   "cell_type": "markdown",
   "id": "197a1843-2e7c-4ea9-b264-16272d54b710",
   "metadata": {},
   "source": [
    "# Import"
   ]
  },
  {
   "cell_type": "code",
   "execution_count": null,
   "id": "c88dfedc-9a1e-4228-ada6-373bf8f7d55b",
   "metadata": {
    "tags": []
   },
   "outputs": [],
   "source": [
    "import sys\n",
    "from logging import INFO, StreamHandler, getLogger\n",
    "\n",
    "logger = getLogger()\n",
    "if not logger.hasHandlers():\n",
    "    logger.addHandler(StreamHandler(sys.stdout))\n",
    "logger.setLevel(INFO)"
   ]
  },
  {
   "cell_type": "code",
   "execution_count": null,
   "id": "66246eda-dd67-4f8d-8c97-c4279bd35f71",
   "metadata": {
    "tags": []
   },
   "outputs": [],
   "source": [
    "import os\n",
    "import pathlib\n",
    "\n",
    "import matplotlib.patches as patches\n",
    "import matplotlib.pyplot as plt\n",
    "import numpy as np\n",
    "import torch\n",
    "from src.four_dim_srda.config.config_loader import load_config\n",
    "from src.four_dim_srda.config.experiment_config import CFDConfig\n",
    "from src.four_dim_srda.utils.io_pickle import read_pickle\n",
    "from src.four_dim_srda.utils.torch_interpolator import (\n",
    "    interpolate_2d,\n",
    "    interpolate_along_z,\n",
    ")\n",
    "from src.qg_model.qg_model import QGModel\n",
    "\n",
    "plt.rcParams[\"font.family\"] = \"serif\""
   ]
  },
  {
   "attachments": {},
   "cell_type": "markdown",
   "id": "6325e9e7-6006-4330-a00d-80e002b65648",
   "metadata": {},
   "source": [
    "# Define constants"
   ]
  },
  {
   "cell_type": "code",
   "execution_count": null,
   "id": "4429024d-f5b9-427d-b993-d00447e7df7d",
   "metadata": {
    "tags": []
   },
   "outputs": [],
   "source": [
    "ROOT_DIR = pathlib.Path(os.environ[\"PYTHONPATH\"]).parent.resolve()"
   ]
  },
  {
   "cell_type": "code",
   "execution_count": null,
   "id": "953538c5-2440-404e-b1f0-7ecce23ff953",
   "metadata": {
    "tags": []
   },
   "outputs": [],
   "source": [
    "experiment_name = \"experiment7\""
   ]
  },
  {
   "cell_type": "code",
   "execution_count": null,
   "id": "d44e5064-acaa-4f2a-9a80-e017f98eb34e",
   "metadata": {
    "tags": []
   },
   "outputs": [],
   "source": [
    "# model_names = [\"ConvTransNetVer01\", \"UNetMaxVitVer01\", \"UNetVitVer02\"]\n",
    "model_names = [\"ConvTransNetVer01\", \"UNetMaxVitVer01\"]\n",
    "\n",
    "CFG_DIR = f\"{ROOT_DIR}/python/configs/four_dim_srda/{experiment_name}\"\n",
    "\n",
    "# srda\n",
    "dict_cfg_srda_name = {}\n",
    "for m_name in model_names:\n",
    "    if m_name == \"ConvTransNetVer01\":\n",
    "        dict_cfg_srda_name[\n",
    "            m_name\n",
    "        ] = \"bea2_bed2_dspe360_nsls100_ogx08_ogy08_bias1_bs12_lr1e-04\"\n",
    "    #\n",
    "    elif m_name == \"UNetMaxVitVer01\":\n",
    "        dict_cfg_srda_name[\n",
    "            m_name\n",
    "        ] = \"bea2_bed2_dspe360_nsls100_ogx08_ogy08_n3drb3_nmb6_bias0_bs12_lr1e-04\"\n",
    "    #\n",
    "    elif m_name == \"UNetVitVer02\":\n",
    "        dict_cfg_srda_name[\n",
    "            m_name\n",
    "        ] = \"bea2_bed2_dspe360_nsls100_ogx08_ogy08_n3drb3_nvb4_bias0_vits0_bs12_lr1e-04\"\n",
    "\n",
    "# config srda\n",
    "CFG_SRDA_PATH = f\"{CFG_DIR}/perform_4D_SRDA/{model_names[0]}/{dict_cfg_srda_name[model_names[0]]}.yml\"\n",
    "\n",
    "\n",
    "cfg_srda = load_config(model_name=model_names[0], config_path=CFG_SRDA_PATH)\n",
    "\n",
    "# config cfd\n",
    "CFG_CFD_PATH = f\"{CFG_DIR}/cfd_simulation/qg_model/gpu_evaluation_config.yml\"\n",
    "\n",
    "cfg_cfd = CFDConfig.load(pathlib.Path(CFG_CFD_PATH))\n",
    "\n",
    "DEVICE = \"cpu\"\n",
    "\n",
    "cfg_cfd.lr_base_config.device = (\n",
    "    cfg_cfd.hr_base_config.device\n",
    ") = cfg_cfd.uhr_base_config.device = DEVICE\n",
    "\n",
    "dict_cfg_srda_name"
   ]
  },
  {
   "cell_type": "code",
   "execution_count": null,
   "id": "c4ad67a9-7a2c-42e4-944a-360f5d247ca6",
   "metadata": {
    "tags": []
   },
   "outputs": [],
   "source": [
    "cfg_letkf_name = (\n",
    "    \"na3e-03_letkf_cfg_ogx08_ogy08_ne100_ch16e-04_cr6e+00_if12e-01_lr57e-01_bs6\"\n",
    ")\n",
    "cfg_letkf_name"
   ]
  },
  {
   "cell_type": "code",
   "execution_count": null,
   "id": "9d55caab-e88c-46c5-982c-ebc200204734",
   "metadata": {
    "tags": []
   },
   "outputs": [],
   "source": [
    "uhr_model = QGModel(cfg_cfd.uhr_base_config, show_input_cfg_info=False)"
   ]
  },
  {
   "cell_type": "code",
   "execution_count": null,
   "id": "d2f8eba5-80f9-44ca-8798-85c4dc6e1267",
   "metadata": {
    "tags": []
   },
   "outputs": [],
   "source": [
    "DATA_DIR = f\"{ROOT_DIR}/data/four_dim_srda\"\n",
    "\n",
    "LR_DATA_DIR = f\"{DATA_DIR}/{experiment_name}/cfd_simulation/qg_model/lr_pv_narrow_jet\"\n",
    "UHR_DATA_DIR = f\"{DATA_DIR}/{experiment_name}/cfd_simulation/qg_model/uhr_pv_narrow_jet\""
   ]
  },
  {
   "cell_type": "code",
   "execution_count": null,
   "id": "f0cf7c78-4313-48c7-bbe6-c9e1a876cd7a",
   "metadata": {
    "tags": []
   },
   "outputs": [],
   "source": [
    "_result_dir = f\"{ROOT_DIR}/python/results/four_dim_srda/{experiment_name}\"\n",
    "RESULT_DIR = f\"{_result_dir}/analysis/use_narrow_jet\"\n",
    "FIG_DIR = f\"{RESULT_DIR}/fig\"\n",
    "os.makedirs(FIG_DIR, exist_ok=True)"
   ]
  },
  {
   "cell_type": "code",
   "execution_count": null,
   "id": "0ca82d58-8930-4412-a0e0-c50a6e7d332e",
   "metadata": {
    "tags": []
   },
   "outputs": [],
   "source": [
    "ASSIMILATION_PERIOD = (\n",
    "    cfg_cfd.da_config.segment_length - cfg_cfd.da_config.forecast_span - 1\n",
    ")\n",
    "FORECAST_SPAN = cfg_cfd.da_config.forecast_span\n",
    "\n",
    "# 対象とする時間は0 <= t <= (NUM_TIMES - 1) * cfg_cfd.time_config.output_hr_dt\n",
    "NUM_TIMES = (\n",
    "    cfg_srda.dataset_config.max_start_time_index + ASSIMILATION_PERIOD + FORECAST_SPAN\n",
    ")\n",
    "NUM_TIMES_LR = cfg_cfd.time_config.end_time"
   ]
  },
  {
   "attachments": {},
   "cell_type": "markdown",
   "id": "7e6a1482-ee61-4615-a306-03f00e0fe31b",
   "metadata": {},
   "source": [
    "# Prepare"
   ]
  },
  {
   "cell_type": "code",
   "execution_count": null,
   "id": "5764189d-66fa-4c9b-832b-7c70444174a9",
   "metadata": {
    "tags": []
   },
   "outputs": [],
   "source": [
    "# Set it to use only data at analytical time\n",
    "t_slice = ASSIMILATION_PERIOD"
   ]
  },
  {
   "cell_type": "code",
   "execution_count": null,
   "id": "5b11f08b-679f-4c90-bfa9-07bc7bd61b8f",
   "metadata": {
    "tags": []
   },
   "outputs": [],
   "source": [
    "all_gt = []\n",
    "for i_seed_uhr in range(\n",
    "    cfg_cfd.seed_config.uhr_seed_start, cfg_cfd.seed_config.uhr_seed_end + 1\n",
    "):\n",
    "    uhr_data_path = f\"{UHR_DATA_DIR}/seed{i_seed_uhr:05}/seed{i_seed_uhr:05}_start000_end800_uhr_pv.npy\"\n",
    "    gt = np.load(f\"{uhr_data_path}\")\n",
    "    gt = torch.from_numpy(gt)[:NUM_TIMES][::t_slice]\n",
    "    all_gt.append(gt)\n",
    "\n",
    "all_gt = torch.stack(all_gt, dim=0)\n",
    "all_gt.shape, all_gt.dtype"
   ]
  },
  {
   "cell_type": "code",
   "execution_count": null,
   "id": "23428635-04b4-4b27-997e-723156b4345d",
   "metadata": {
    "tags": []
   },
   "outputs": [],
   "source": [
    "all_lr_fcst = []\n",
    "for i_seed_uhr in range(\n",
    "    cfg_cfd.seed_config.uhr_seed_start, cfg_cfd.seed_config.uhr_seed_end + 1\n",
    "):\n",
    "    lr_data_path = f\"{LR_DATA_DIR}/seed{i_seed_uhr:05}/seed{i_seed_uhr:05}_start000_end200_lr_pv.npy\"\n",
    "    lr_fcst = np.load(f\"{lr_data_path}\")\n",
    "    lr_fcst = torch.from_numpy(lr_fcst)[:NUM_TIMES_LR]\n",
    "    all_lr_fcst.append(lr_fcst)\n",
    "\n",
    "all_lr_fcst = torch.stack(all_lr_fcst, dim=0)\n",
    "all_lr_fcst.shape, all_lr_fcst.dtype"
   ]
  },
  {
   "cell_type": "code",
   "execution_count": null,
   "id": "06da54d1-1ee2-4623-ba6e-0b8d38c4749b",
   "metadata": {
    "tags": []
   },
   "outputs": [],
   "source": [
    "dict_srda_fcsts = {}\n",
    "for m_name in dict_cfg_srda_name.keys():\n",
    "    srda_hr_fcst = []\n",
    "    #\n",
    "    for i_seed_uhr in range(\n",
    "        cfg_cfd.seed_config.uhr_seed_start, cfg_cfd.seed_config.uhr_seed_end + 1\n",
    "    ):\n",
    "        _path = f\"{_result_dir}/srda/{m_name}/use_narrow_jet/{dict_cfg_srda_name[m_name]}/UHR_seed_{i_seed_uhr:05}.npz\"\n",
    "        _result_npz = np.load(_path)\n",
    "        _srda_hr_fcst = torch.from_numpy(_result_npz[\"srda_forecast\"])\n",
    "        srda_hr_fcst.append(_srda_hr_fcst[::t_slice])\n",
    "    #\n",
    "    srda_hr_fcst = torch.stack(srda_hr_fcst, dim=0)\n",
    "    dict_srda_fcsts[m_name] = srda_hr_fcst\n",
    "\n",
    "dict_srda_fcsts[m_name].shape, dict_srda_fcsts[m_name].dtype, dict_srda_fcsts.keys()"
   ]
  },
  {
   "cell_type": "code",
   "execution_count": null,
   "id": "872ff5ca-6135-40f2-82e5-00eaaf4ebd3b",
   "metadata": {
    "tags": []
   },
   "outputs": [],
   "source": [
    "path = f\"{_result_dir}/letkf/perform_letkf_hr_using_uhr/use_narrow_jet/{cfg_letkf_name}/all_letkf_fcst.npy\"\n",
    "letkf_hr_fcsts = np.load(path)\n",
    "letkf_hr_fcsts = torch.from_numpy(letkf_hr_fcsts[:, ::t_slice, ...])\n",
    "letkf_hr_fcsts.shape, letkf_hr_fcsts.dtype"
   ]
  },
  {
   "cell_type": "code",
   "execution_count": null,
   "id": "d18a874d-6988-4cac-9b87-46340e25455e",
   "metadata": {
    "tags": []
   },
   "outputs": [],
   "source": [
    "# interpolation\n",
    "\n",
    "all_lr_fcst_uhr = []\n",
    "\n",
    "for ib in range(len(all_lr_fcst)):\n",
    "    _tmp = interpolate_2d(\n",
    "        data=all_lr_fcst[ib],\n",
    "        nx=cfg_cfd.uhr_base_config.nx,\n",
    "        ny=cfg_cfd.uhr_base_config.ny,\n",
    "        mode=\"nearest-exact\",\n",
    "    )\n",
    "    _lr_fcst_uhr = interpolate_along_z(\n",
    "        data=_tmp,\n",
    "        nz=cfg_cfd.uhr_base_config.nz,\n",
    "        mode=\"nearest-exact\",\n",
    "    )\n",
    "    all_lr_fcst_uhr.append(_lr_fcst_uhr)\n",
    "#\n",
    "all_lr_fcst_uhr = torch.stack(all_lr_fcst_uhr, dim=0)\n",
    "assert all_gt.shape == all_lr_fcst_uhr.shape\n",
    "\n",
    "all_lr_fcst_uhr.shape"
   ]
  },
  {
   "cell_type": "code",
   "execution_count": null,
   "id": "4c86b9e6-bca7-4d5e-95fc-2bbfd13f7fe8",
   "metadata": {
    "tags": []
   },
   "outputs": [],
   "source": [
    "# interpolation\n",
    "\n",
    "dict_srda_uhr_fcsts = {}\n",
    "for m_model in dict_srda_fcsts.keys():\n",
    "    srda_uhr_fcsts = []\n",
    "    for ib in range(len(dict_srda_fcsts[m_model])):\n",
    "        _tmp = interpolate_2d(\n",
    "            data=dict_srda_fcsts[m_model][ib],\n",
    "            nx=cfg_cfd.uhr_base_config.nx,\n",
    "            ny=cfg_cfd.uhr_base_config.ny,\n",
    "            mode=\"nearest-exact\",\n",
    "        )\n",
    "        _srda_uhr_fcst = interpolate_along_z(\n",
    "            data=_tmp,\n",
    "            nz=cfg_cfd.uhr_base_config.nz,\n",
    "            mode=\"nearest-exact\",\n",
    "        )\n",
    "        srda_uhr_fcsts.append(_srda_uhr_fcst)\n",
    "    #\n",
    "    srda_uhr_fcsts = torch.stack(srda_uhr_fcsts, dim=0)\n",
    "    assert all_gt.shape == srda_uhr_fcsts.shape\n",
    "\n",
    "    dict_srda_uhr_fcsts[m_model] = srda_uhr_fcsts\n",
    "\n",
    "dict_srda_uhr_fcsts[m_model].shape"
   ]
  },
  {
   "cell_type": "code",
   "execution_count": null,
   "id": "60c9a29c-f61c-4635-9c7e-31a1b6e7fd52",
   "metadata": {
    "tags": []
   },
   "outputs": [],
   "source": [
    "# interpolation\n",
    "\n",
    "letkf_uhr_fcsts = []\n",
    "for ib in range(len(letkf_hr_fcsts)):\n",
    "    _tmp = interpolate_2d(\n",
    "        data=letkf_hr_fcsts[ib],\n",
    "        nx=cfg_cfd.uhr_base_config.nx,\n",
    "        ny=cfg_cfd.uhr_base_config.ny,\n",
    "        mode=\"nearest-exact\",\n",
    "    )\n",
    "    _letkf_uhr_fcsts = interpolate_along_z(\n",
    "        data=_tmp,\n",
    "        nz=cfg_cfd.uhr_base_config.nz,\n",
    "        mode=\"nearest-exact\",\n",
    "    )\n",
    "    letkf_uhr_fcsts.append(_letkf_uhr_fcsts)\n",
    "\n",
    "letkf_uhr_fcsts = torch.stack(letkf_uhr_fcsts, dim=0)\n",
    "assert all_gt.shape == letkf_uhr_fcsts.shape\n",
    "\n",
    "letkf_uhr_fcsts.shape"
   ]
  },
  {
   "cell_type": "code",
   "execution_count": null,
   "id": "0adec044-0617-4aec-a628-baf2e021fb41",
   "metadata": {
    "tags": []
   },
   "outputs": [],
   "source": [
    "all_maer = read_pickle(f\"{RESULT_DIR}/all_maer_result.pkl\")\n",
    "all_maer.keys(), all_maer[\"maer\"].keys(), all_maer[\"maer_selected_iz\"][\n",
    "    \"ConvTransNetVer01\"\n",
    "].shape"
   ]
  },
  {
   "attachments": {},
   "cell_type": "markdown",
   "id": "6aea2ccd-ac84-4829-b29a-17cd6cadd2ec",
   "metadata": {},
   "source": [
    "# Plot"
   ]
  },
  {
   "cell_type": "code",
   "execution_count": null,
   "id": "7dbcf8cc-509b-4b5b-9c95-4451b1fb8fa3",
   "metadata": {},
   "outputs": [],
   "source": [
    "time = torch.arange(\n",
    "    cfg_cfd.time_config.start_time,\n",
    "    cfg_cfd.time_config.end_time,\n",
    "    cfg_cfd.time_config.output_uhr_dt,\n",
    ")\n",
    "time = time[::t_slice]\n",
    "\n",
    "uhr_grids = uhr_model.get_grids()"
   ]
  },
  {
   "cell_type": "code",
   "execution_count": null,
   "id": "5145fde1-5332-49c2-a485-83a185139b4a",
   "metadata": {
    "tags": []
   },
   "outputs": [],
   "source": [
    "# 2行プロット\n",
    "\n",
    "key_mapping = {\n",
    "    \"YO23\": \"ConvTransNetVer01\",\n",
    "    \"HR-LETKF\": \"letkf\",\n",
    "    \"4D-SRDA\": \"UNetMaxVitVer01\",\n",
    "}\n",
    "\n",
    "all_iz = [-1, 0]\n",
    "i_data = 0\n",
    "# 0 for t=130\n",
    "# 5 for t=70\n",
    "\n",
    "\n",
    "base_font_size = 20\n",
    "plt.rcParams[\"font.size\"] = base_font_size\n",
    "title_fs_scale = 1.6\n",
    "label_fs_scale = 1.6\n",
    "bar_fs_scale = 1.2\n",
    "\n",
    "all_data = [\n",
    "    (all_gt[i_data], uhr_grids, \"UHR\\nGround Truth\"),\n",
    "    (all_lr_fcst_uhr[i_data], uhr_grids, \"LR-Forecast\\n(Without DA)\"),\n",
    "]\n",
    "for title, key in key_mapping.items():\n",
    "    if title == \"HR-LETKF\":\n",
    "        #\n",
    "        all_data.append((letkf_uhr_fcsts[i_data], uhr_grids, title))\n",
    "    else:\n",
    "        #\n",
    "        all_data.append((dict_srda_uhr_fcsts[key][i_data], uhr_grids, title))\n",
    "\n",
    "for its in range(130, 131):\n",
    "    # for its in range(70, 71):\n",
    "    fig, axes = plt.subplots(\n",
    "        len(all_iz),  # 行数：レイヤー数\n",
    "        len(all_data),  # 列数：データセット数\n",
    "        sharex=True,\n",
    "        sharey=True,\n",
    "        figsize=(5.4 * len(all_data), 3.85 * len(all_iz)),\n",
    "    )\n",
    "    # plt.suptitle(f\"Potential Vorticity, $t$ = {time[its]:.2f}\", fontsize=20)\n",
    "    plt.subplots_adjust(wspace=0.005)\n",
    "\n",
    "    for row_idx, iz in enumerate(all_iz):\n",
    "        layer_label = (\n",
    "            \"Top\\nLayer\"\n",
    "            if iz == -1\n",
    "            else \"Bottom\\nLayer\"\n",
    "            if iz == 0\n",
    "            else f\"iz = {iz:02}\"\n",
    "        )\n",
    "        for col_idx, (data, grids, title) in enumerate(all_data):\n",
    "            ax = axes[row_idx, col_idx] if len(all_iz) > 1 else axes[col_idx]\n",
    "\n",
    "            #\n",
    "            vmin = torch.min(all_gt[-1, its, iz]).item()\n",
    "            vmax = torch.max(all_gt[-1, its, iz]).item()\n",
    "            _max = max(abs(vmin), abs(vmax))\n",
    "            vmin, vmax = -_max, _max\n",
    "\n",
    "            #\n",
    "            cnt = ax.pcolormesh(\n",
    "                grids.x[iz],\n",
    "                grids.y[iz],\n",
    "                data[its, iz],\n",
    "                vmin=vmin,\n",
    "                vmax=vmax,\n",
    "                cmap=\"twilight_shifted\",\n",
    "            )\n",
    "\n",
    "            if title in key_mapping and row_idx == 0:\n",
    "                ax.set_title(\n",
    "                    f\"{title}\", fontsize=title_fs_scale * base_font_size, pad=45\n",
    "                )\n",
    "                key = key_mapping[title]\n",
    "                maer_value = all_maer[\"maer_selected_iz\"][key][its]\n",
    "                ax.text(\n",
    "                    0.5,\n",
    "                    1.15,\n",
    "                    f\"(MAE Ratio = {maer_value:.2f})\",\n",
    "                    fontsize=0.85 * title_fs_scale * base_font_size,\n",
    "                    ha=\"center\",\n",
    "                    va=\"top\",\n",
    "                    transform=ax.transAxes,\n",
    "                )\n",
    "            elif row_idx == 0:\n",
    "                ax.set_title(\n",
    "                    f\"{title}\", fontsize=title_fs_scale * base_font_size, pad=10\n",
    "                )\n",
    "\n",
    "            if col_idx == 0:\n",
    "                ax.set_ylabel(\n",
    "                    f\"{layer_label}\",\n",
    "                    fontsize=label_fs_scale * base_font_size,\n",
    "                )\n",
    "                ax.yaxis.set_label_coords(-0.05, 0.5)\n",
    "\n",
    "            ax.tick_params(left=False, bottom=False, labelleft=False, labelbottom=False)\n",
    "            cbar = fig.colorbar(cnt, ax=ax, extend=\"both\")\n",
    "            if col_idx == len(all_data) - 1:\n",
    "                # 右端のカラーバー\n",
    "                cbar.ax.tick_params(labelsize=bar_fs_scale * base_font_size)\n",
    "            else:\n",
    "                # それ以外のカラーバー\n",
    "                cbar.ax.tick_params(labelsize=0.5 * base_font_size)\n",
    "\n",
    "            if title != \"LR-Forecast\\n(Without DA)\" and row_idx == 1:\n",
    "                r = patches.Rectangle(\n",
    "                    xy=(0.1, 0.1),\n",
    "                    width=2.9,\n",
    "                    height=2.2,\n",
    "                    edgecolor=\"g\",\n",
    "                    fill=False,\n",
    "                    linewidth=6,\n",
    "                )  # for t=130\n",
    "                # r = patches.Rectangle(\n",
    "                #     xy=(3.0, 0.1),\n",
    "                #     width=2.9,\n",
    "                #     height=2.5,\n",
    "                #     edgecolor=\"g\",\n",
    "                #     fill=False,\n",
    "                #     linewidth=6,\n",
    "                # )  # for t=70\n",
    "                ax.add_patch(r)\n",
    "\n",
    "    plt.savefig(\n",
    "        f\"{FIG_DIR}/result_snapshot_two_rows_ts{its}_for_paper.jpg\",\n",
    "        bbox_inches=\"tight\",\n",
    "        dpi=300,\n",
    "    )\n",
    "\n",
    "    plt.show()"
   ]
  }
 ],
 "metadata": {
  "kernelspec": {
   "display_name": "Python 3 (ipykernel)",
   "language": "python",
   "name": "python3"
  },
  "language_info": {
   "codemirror_mode": {
    "name": "ipython",
    "version": 3
   },
   "file_extension": ".py",
   "mimetype": "text/x-python",
   "name": "python",
   "nbconvert_exporter": "python",
   "pygments_lexer": "ipython3",
   "version": "3.9.5"
  }
 },
 "nbformat": 4,
 "nbformat_minor": 5
}
