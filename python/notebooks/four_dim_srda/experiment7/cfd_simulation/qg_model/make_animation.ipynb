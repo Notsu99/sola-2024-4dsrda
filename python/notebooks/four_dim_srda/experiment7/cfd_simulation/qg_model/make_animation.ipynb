{
 "cells": [
  {
   "cell_type": "code",
   "execution_count": null,
   "id": "ee8f591c-5632-4b7e-9e6f-c836d1261b96",
   "metadata": {
    "tags": []
   },
   "outputs": [],
   "source": [
    "%load_ext autoreload\n",
    "%autoreload 2\n",
    "%matplotlib inline"
   ]
  },
  {
   "attachments": {},
   "cell_type": "markdown",
   "id": "7312131a-5388-44cd-8a46-3b852a07b58e",
   "metadata": {},
   "source": [
    "# Import libraries"
   ]
  },
  {
   "cell_type": "code",
   "execution_count": null,
   "id": "990bc59c-fab2-4275-8b1c-774fbda113cb",
   "metadata": {
    "tags": []
   },
   "outputs": [],
   "source": [
    "import sys\n",
    "from logging import INFO, StreamHandler, getLogger\n",
    "\n",
    "logger = getLogger()\n",
    "if not logger.hasHandlers():\n",
    "    logger.addHandler(StreamHandler(sys.stdout))\n",
    "logger.setLevel(INFO)"
   ]
  },
  {
   "cell_type": "code",
   "execution_count": null,
   "id": "6ead1677-8789-443f-bf01-a0fd402b3727",
   "metadata": {
    "tags": []
   },
   "outputs": [],
   "source": [
    "import io\n",
    "import os\n",
    "import pathlib\n",
    "\n",
    "import matplotlib.pyplot as plt\n",
    "import numpy as np\n",
    "import plotly.graph_objects as go\n",
    "from PIL import Image\n",
    "from src.four_dim_srda.config.experiment_config import CFDConfig\n",
    "from src.qg_model.qg_model import QGModel\n",
    "from tqdm.notebook import tqdm\n",
    "\n",
    "plt.rcParams[\"font.family\"] = \"serif\""
   ]
  },
  {
   "attachments": {},
   "cell_type": "markdown",
   "id": "07cc4720-349e-407b-b17b-36b0711de9a3",
   "metadata": {},
   "source": [
    "# Define constants"
   ]
  },
  {
   "cell_type": "code",
   "execution_count": null,
   "id": "1e98dc18-c062-4b0e-bdb2-3c95c6ecba0f",
   "metadata": {
    "tags": []
   },
   "outputs": [],
   "source": [
    "ROOT_DIR = pathlib.Path(os.environ[\"PYTHONPATH\"]).parent.resolve()"
   ]
  },
  {
   "cell_type": "code",
   "execution_count": null,
   "id": "b0fdb4b4-5bdf-4a4a-a50c-3c37f1265662",
   "metadata": {
    "tags": []
   },
   "outputs": [],
   "source": [
    "experiment_name = \"experiment7\""
   ]
  },
  {
   "cell_type": "code",
   "execution_count": null,
   "id": "94cba5cf-e63e-463f-86ec-fdb420bdccfd",
   "metadata": {
    "tags": []
   },
   "outputs": [],
   "source": [
    "CFG_DIR = f\"{ROOT_DIR}/python/configs/four_dim_srda/{experiment_name}\"\n",
    "CFG_CFD_PATH = f\"{CFG_DIR}/cfd_simulation/qg_model/gpu_evaluation_config.yml\"\n",
    "\n",
    "cfg_cfd = CFDConfig.load(pathlib.Path(CFG_CFD_PATH))\n",
    "\n",
    "DEVICE_CPU = \"cpu\"\n",
    "\n",
    "cfg_cfd.lr_base_config.device = (\n",
    "    cfg_cfd.hr_base_config.device\n",
    ") = cfg_cfd.uhr_base_config.device = DEVICE_CPU"
   ]
  },
  {
   "cell_type": "code",
   "execution_count": null,
   "id": "98e6bdd9-1db1-41cb-93f8-d69658dcf63c",
   "metadata": {
    "tags": []
   },
   "outputs": [],
   "source": [
    "DATA_DIR = f\"{ROOT_DIR}/data/four_dim_srda/{experiment_name}/cfd_simulation/qg_model\"\n",
    "\n",
    "FIG_DIR = f\"{DATA_DIR}/animation/hr_pv\"\n",
    "os.makedirs(FIG_DIR, exist_ok=True)"
   ]
  },
  {
   "cell_type": "code",
   "execution_count": null,
   "id": "75d183af-ceec-4920-a8c9-d7afc0808226",
   "metadata": {
    "tags": []
   },
   "outputs": [],
   "source": [
    "i_seed = 0\n",
    "i_b = 0\n",
    "hr_pv = np.load(\n",
    "    f\"{DATA_DIR}/hr_pv/seed{i_seed:05}/seed{i_seed:05}_start000_end800_hr_pv_{i_b:02}.npy\"\n",
    ")\n",
    "\n",
    "hr_pv.shape"
   ]
  },
  {
   "cell_type": "code",
   "execution_count": null,
   "id": "2466e915-b31a-490d-8bc4-24232f11990c",
   "metadata": {
    "tags": []
   },
   "outputs": [],
   "source": [
    "time = np.arange(\n",
    "    cfg_cfd.time_config.start_time,\n",
    "    cfg_cfd.time_config.end_time + cfg_cfd.time_config.output_hr_dt,\n",
    "    cfg_cfd.time_config.output_hr_dt,\n",
    ")\n",
    "time.shape"
   ]
  },
  {
   "cell_type": "code",
   "execution_count": null,
   "id": "5c2ec74c-bcf6-460b-be2c-4c08191e51f4",
   "metadata": {
    "tags": []
   },
   "outputs": [],
   "source": [
    "t_slice = 8\n",
    "\n",
    "hr_pv = hr_pv[::t_slice]\n",
    "time = time[::t_slice]\n",
    "\n",
    "hr_pv.shape, time.shape"
   ]
  },
  {
   "cell_type": "code",
   "execution_count": null,
   "id": "c553c14c-ba38-40cc-adc5-a9b27c91e567",
   "metadata": {
    "tags": []
   },
   "outputs": [],
   "source": [
    "model = QGModel(cfg_cfd.hr_base_config, show_input_cfg_info=False)\n",
    "xs, ys, zs = model.get_grids()\n",
    "xs.shape"
   ]
  },
  {
   "attachments": {},
   "cell_type": "markdown",
   "id": "c0cc3e9d-eb7f-4a88-a122-825fe87fd097",
   "metadata": {},
   "source": [
    "# Make 3D animation"
   ]
  },
  {
   "attachments": {},
   "cell_type": "markdown",
   "id": "7407dcd0-f02d-4c51-9f3f-fa963d55e8c5",
   "metadata": {},
   "source": [
    "## Setting"
   ]
  },
  {
   "cell_type": "code",
   "execution_count": null,
   "id": "bca35f9b-2d7a-4b43-b8c5-e65db5c24f0c",
   "metadata": {
    "tags": []
   },
   "outputs": [],
   "source": [
    "# Data-related\n",
    "val_slice = 3\n",
    "\n",
    "lower_percentile = 20\n",
    "upper_percentile = 80\n",
    "\n",
    "# Retrieve clipping range from hr_pv\n",
    "clip_min = np.percentile(hr_pv[:, :, ::val_slice, ::val_slice], lower_percentile)\n",
    "clip_max = np.percentile(hr_pv[:, :, ::val_slice, ::val_slice], upper_percentile)\n",
    "\n",
    "# Apply clipping\n",
    "clipped_data = np.clip(hr_pv[:, :, ::val_slice, ::val_slice], clip_min, clip_max)\n",
    "\n",
    "# Scaling after clipping\n",
    "scaled_data = (\n",
    "    2\n",
    "    * (clipped_data - np.min(clipped_data))\n",
    "    / (np.max(clipped_data) - np.min(clipped_data))\n",
    "    - 1\n",
    ")\n",
    "\n",
    "data = scaled_data.flatten()\n",
    "x = xs[:, ::val_slice, ::val_slice].numpy().flatten()\n",
    "y = ys[:, ::val_slice, ::val_slice].numpy().flatten()\n",
    "z = zs[:, ::val_slice, ::val_slice].numpy().flatten()\n",
    "\n",
    "vmin = np.min(data)\n",
    "vmax = np.max(data)\n",
    "_max = min(abs(vmin), abs(vmax))\n",
    "vmin, vmax = -_max, _max\n",
    "\n",
    "colorscale = [\n",
    "    [0.0, \"rgb(30, 60, 150)\"],  # Deep blue (minimum value)\n",
    "    [0.3, \"rgb(70, 130, 220)\"],  # Dark cyan\n",
    "    [0.4, \"rgb(170, 210, 240)\"],  # Light cyan\n",
    "    [0.5, \"rgb(255, 245, 200)\"],  # Soft cream (center)\n",
    "    [0.6, \"rgb(255, 220, 160)\"],  # Bright orange\n",
    "    [0.8, \"rgb(220, 90, 90)\"],  # Vivid red\n",
    "    [1.0, \"rgb(120, 30, 30)\"],  # Deep red (maximum value)\n",
    "]\n",
    "\n",
    "# Layout\n",
    "layout = go.Layout(\n",
    "    width=512,\n",
    "    height=300,\n",
    "    margin_b=0,\n",
    "    margin_t=0,\n",
    "    margin_r=0,\n",
    "    margin_l=0,\n",
    "    font_size=16,\n",
    "    scene=dict(\n",
    "        aspectmode=\"manual\",  # Set the aspect ratio mode\n",
    "        aspectratio=dict(x=2, y=1, z=0.8),  # Specify the ratio for each axis\n",
    "        xaxis=dict(\n",
    "            showticklabels=False,  # Hide tick labels on the x-axis\n",
    "            title=\"x\",  # Label for the x-axis\n",
    "            titlefont=dict(family=\"Times New Roman\"),\n",
    "        ),\n",
    "        yaxis=dict(\n",
    "            showticklabels=False,  # Hide tick labels on the y-axis\n",
    "            title=\"y\",  # Label for the y-axis\n",
    "            titlefont=dict(family=\"Times New Roman\"),\n",
    "        ),\n",
    "        zaxis=dict(\n",
    "            showticklabels=False,  # Hide tick labels on the z-axis\n",
    "            title=\"z\",  # Label for the z-axis\n",
    "            titlefont=dict(family=\"Times New Roman\"),\n",
    "        ),\n",
    "    ),\n",
    ")\n",
    "\n",
    "axeslabel_3d_standard = dict(\n",
    "    xaxis_title=\"x\",\n",
    "    xaxis_title_font_family=\"Times New Roman\",\n",
    "    yaxis_title=\"y\",\n",
    "    yaxis_title_font_family=\"Times New Roman\",\n",
    "    zaxis_title=\"z\",\n",
    "    zaxis_title_font_family=\"Times New Roman\",\n",
    ")\n",
    "\n",
    "camera_3d_standard = dict(\n",
    "    up=dict(x=0, y=0, z=1),\n",
    "    center=dict(x=0, y=0, z=-0.18),\n",
    "    eye=dict(x=-2.0, y=-1.15, z=0.8),\n",
    ")"
   ]
  },
  {
   "attachments": {},
   "cell_type": "markdown",
   "id": "2e430d3d-17f5-42d3-b6a6-bf1bcf6e0b13",
   "metadata": {},
   "source": [
    "## Plot"
   ]
  },
  {
   "cell_type": "code",
   "execution_count": null,
   "id": "8a1d62d3-e123-48d9-97b2-a6578b0a123a",
   "metadata": {
    "tags": []
   },
   "outputs": [],
   "source": [
    "fig = go.Figure(\n",
    "    data=go.Volume(\n",
    "        x=x,\n",
    "        y=y,\n",
    "        z=z,\n",
    "        value=scaled_data[0].flatten(),\n",
    "        isomin=-1.0,\n",
    "        isomax=1.0,\n",
    "        opacity=0.5,\n",
    "        surface_count=15,\n",
    "        colorbar=dict(\n",
    "            thickness=5,\n",
    "            x=0.8,\n",
    "        ),\n",
    "        colorscale=colorscale,\n",
    "        cmin=-1.1,\n",
    "        cmax=1.1,\n",
    "        reversescale=True,\n",
    "    )\n",
    ")\n",
    "\n",
    "# Update layout with additional settings\n",
    "fig.update_layout(\n",
    "    layout,\n",
    "    scene=axeslabel_3d_standard,\n",
    "    scene_camera=camera_3d_standard,\n",
    "    title=dict(\n",
    "        text=f\"Time = {time[0]:.1f}\",\n",
    "        font=dict(size=16),\n",
    "        xref=\"paper\",\n",
    "        x=0.45,\n",
    "        y=0.92,\n",
    "        xanchor=\"center\",\n",
    "    ),\n",
    ")\n",
    "\n",
    "fig.show()"
   ]
  },
  {
   "attachments": {},
   "cell_type": "markdown",
   "id": "f2c6d188-63ea-4247-94c4-1e30143521ea",
   "metadata": {},
   "source": [
    "## Animation"
   ]
  },
  {
   "cell_type": "code",
   "execution_count": null,
   "id": "c5a9686a-4d9a-423f-9731-056420a56768",
   "metadata": {},
   "outputs": [],
   "source": [
    "# This code needs kaleido\n",
    "# This singularity container doesn't include kaleido\n",
    "# Therefore, please run this code in the environment where kaleido exists\n",
    "\n",
    "frames = []\n",
    "for it in tqdm(range(len(time))):\n",
    "    fig = go.Figure(\n",
    "        data=go.Volume(\n",
    "            x=x,\n",
    "            y=y,\n",
    "            z=z,\n",
    "            value=scaled_data[it].flatten(),\n",
    "            isomin=-1.0,\n",
    "            isomax=1.0,\n",
    "            opacity=0.5,\n",
    "            surface_count=15,\n",
    "            colorbar=dict(\n",
    "                thickness=5,\n",
    "                x=0.8,\n",
    "            ),\n",
    "            colorscale=colorscale,\n",
    "            cmin=-1.1,\n",
    "            cmax=1.1,\n",
    "            reversescale=True,\n",
    "        )\n",
    "    )\n",
    "\n",
    "    # Update layout with additional settings\n",
    "    fig.update_layout(\n",
    "        layout,\n",
    "        scene=axeslabel_3d_standard,\n",
    "        scene_camera=camera_3d_standard,\n",
    "        title=dict(\n",
    "            text=f\"Time = {time[it]:.1f}\",\n",
    "            font=dict(size=16),\n",
    "            xref=\"paper\",\n",
    "            x=0.45,\n",
    "            y=0.92,\n",
    "            xanchor=\"center\",\n",
    "        ),\n",
    "    )\n",
    "\n",
    "    img = fig.to_image(format=\"png\")\n",
    "    frames.append(Image.open(io.BytesIO(img)))\n",
    "\n",
    "frames[0].save(\n",
    "    f\"{FIG_DIR}/pv_3d_animation.gif\",\n",
    "    save_all=True,\n",
    "    append_images=frames[1:],\n",
    "    duration=150,\n",
    "    loop=0,\n",
    ")"
   ]
  },
  {
   "cell_type": "code",
   "execution_count": null,
   "id": "530d1e2f-60ac-4bd2-9b6b-1a0197bccf97",
   "metadata": {},
   "outputs": [],
   "source": []
  }
 ],
 "metadata": {
  "kernelspec": {
   "display_name": "Python 3 (ipykernel)",
   "language": "python",
   "name": "python3"
  },
  "language_info": {
   "codemirror_mode": {
    "name": "ipython",
    "version": 3
   },
   "file_extension": ".py",
   "mimetype": "text/x-python",
   "name": "python",
   "nbconvert_exporter": "python",
   "pygments_lexer": "ipython3",
   "version": "3.9.5"
  }
 },
 "nbformat": 4,
 "nbformat_minor": 5
}
