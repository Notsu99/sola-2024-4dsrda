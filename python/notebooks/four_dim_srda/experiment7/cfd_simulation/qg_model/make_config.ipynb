{
 "cells": [
  {
   "cell_type": "code",
   "execution_count": null,
   "id": "6066e401-2e61-45b5-b937-8a7a7f9d024a",
   "metadata": {
    "tags": []
   },
   "outputs": [],
   "source": [
    "%load_ext autoreload\n",
    "%autoreload 2\n",
    "%matplotlib inline"
   ]
  },
  {
   "attachments": {},
   "cell_type": "markdown",
   "id": "bce288a2-8f48-4600-96a2-aa6bab708642",
   "metadata": {},
   "source": [
    "# Import"
   ]
  },
  {
   "cell_type": "code",
   "execution_count": null,
   "id": "431e573a-def2-490a-a33c-d0f880fdf19c",
   "metadata": {},
   "outputs": [],
   "source": [
    "import sys\n",
    "from logging import INFO, StreamHandler, getLogger\n",
    "\n",
    "logger = getLogger()\n",
    "if not logger.hasHandlers():\n",
    "    logger.addHandler(StreamHandler(sys.stdout))\n",
    "logger.setLevel(INFO)"
   ]
  },
  {
   "cell_type": "code",
   "execution_count": null,
   "id": "c5b757c6-0374-4226-8b66-adbe73ee1fa4",
   "metadata": {
    "tags": []
   },
   "outputs": [],
   "source": [
    "import os\n",
    "import pathlib\n",
    "\n",
    "import torch\n",
    "from src.four_dim_srda.config.experiment_config import (\n",
    "    CFDConfig,\n",
    "    CFDTimeConfig,\n",
    "    DAConfig,\n",
    "    SeedConfig,\n",
    ")\n",
    "from src.qg_model.utils.config import EslerJetConfig"
   ]
  },
  {
   "attachments": {},
   "cell_type": "markdown",
   "id": "2d126ddb-5a37-4e6f-9635-a32b76ed676a",
   "metadata": {},
   "source": [
    "# Define constant"
   ]
  },
  {
   "cell_type": "code",
   "execution_count": null,
   "id": "07e74b44-4fb8-48bd-915d-fc8e4a07141d",
   "metadata": {
    "tags": []
   },
   "outputs": [],
   "source": [
    "ROOT_DIR = pathlib.Path(os.environ[\"PYTHONPATH\"]).parent.resolve()\n",
    "\n",
    "experiment_name = \"experiment7\"\n",
    "config_dir_path = (\n",
    "    f\"{ROOT_DIR}/python/configs/four_dim_srda/{experiment_name}/cfd_simulation/qg_model\"\n",
    ")\n",
    "os.makedirs(config_dir_path, exist_ok=True)"
   ]
  },
  {
   "attachments": {},
   "cell_type": "markdown",
   "id": "1b4e77fc-984c-409f-9ebb-9305a7724c3e",
   "metadata": {},
   "source": [
    "# Make & Save config"
   ]
  },
  {
   "cell_type": "code",
   "execution_count": null,
   "id": "587c2957-d618-49bf-a438-3834a2d582b9",
   "metadata": {
    "tags": []
   },
   "outputs": [],
   "source": [
    "output_lr_dt = 1.0\n",
    "output_scale_factor = 4\n",
    "lr_dt = 1e-2\n",
    "\n",
    "time_config = CFDTimeConfig(\n",
    "    start_time=0,\n",
    "    end_time=200,\n",
    "    lr_dt=lr_dt,\n",
    "    hr_dt=lr_dt / 4,\n",
    "    uhr_dt=lr_dt / 8,\n",
    "    output_lr_dt=output_lr_dt,\n",
    "    output_hr_dt=output_lr_dt / output_scale_factor,\n",
    "    output_uhr_dt=output_lr_dt / output_scale_factor,\n",
    ")\n",
    "\n",
    "seed_config = SeedConfig(\n",
    "    seed_start=0,\n",
    "    seed_end=10,\n",
    "    uhr_seed_start=9990,\n",
    "    uhr_seed_end=9999,\n",
    ")"
   ]
  },
  {
   "cell_type": "code",
   "execution_count": null,
   "id": "16dbee36-df32-431b-85d1-7008b8df22ef",
   "metadata": {},
   "outputs": [],
   "source": [
    "assimilation_interval = int(time_config.output_lr_dt / time_config.output_hr_dt)\n",
    "forecast_span = 4\n",
    "\n",
    "data_assimilation_config = DAConfig(\n",
    "    assimilation_dt=output_lr_dt,\n",
    "    assimilation_interval=assimilation_interval,\n",
    "    forecast_span=forecast_span,\n",
    "    segment_length=2 * forecast_span + 1,\n",
    ")"
   ]
  },
  {
   "cell_type": "code",
   "execution_count": null,
   "id": "379cac0e-45d5-42c8-b202-ae973feabec6",
   "metadata": {},
   "outputs": [],
   "source": [
    "hr_nx, hr_ny, hr_nz = 128, 65, 16\n",
    "lr_nx, lr_ny, lr_nz = 32, 17, 4\n",
    "uhr_nx, uhr_ny, uhr_nz = 256, 129, 32\n",
    "\n",
    "\n",
    "def calculate_cutoff_wavenumbers(nx, ny):\n",
    "    #\n",
    "    ny = ny - 1\n",
    "\n",
    "    # Calculate the cutoff wavenumber for kx\n",
    "    kx_cutoff = nx // 3\n",
    "\n",
    "    # Calculate reflected_ny for ky calculation\n",
    "    reflected_ny = (ny - 1) * 2\n",
    "\n",
    "    # Calculate the cutoff wavenumber for ky\n",
    "    ky_cutoff = reflected_ny // 3\n",
    "\n",
    "    logger.info(f\"Cutoff wavenumber for kx: {kx_cutoff}\")\n",
    "    logger.info(f\"Cutoff wavenumber for ky: {ky_cutoff}\")\n",
    "\n",
    "    return min(kx_cutoff, ky_cutoff)\n",
    "\n",
    "\n",
    "cutoff_wavenum = calculate_cutoff_wavenumbers(hr_nx, hr_ny)"
   ]
  },
  {
   "cell_type": "code",
   "execution_count": null,
   "id": "5e740cdd-aaef-4d8a-8b00-bf48f6caa80a",
   "metadata": {},
   "outputs": [],
   "source": [
    "# Characteristic scale, referring to Esler(2008)\n",
    "characteristic_length = 800e3\n",
    "characteristic_velocity = 40\n",
    "characteristic_time = characteristic_length / characteristic_velocity\n",
    "\n",
    "# Channel\n",
    "hx, hy, hz = 2 * torch.pi, torch.pi, 10e3 / characteristic_length\n",
    "\n",
    "# Coriolis frequency\n",
    "f_0 = 1e-4 * characteristic_time\n",
    "\n",
    "# Beta parameter, referring to Esler(2008)\n",
    "beta = 1.6e-11 * characteristic_length**2 / characteristic_velocity\n",
    "\n",
    "# Reduced gravity\n",
    "brunt_vaisala_frequency = 0.01 * characteristic_time  # referring to Valis (2017) p99\n",
    "dH_hr = hz / hr_nz\n",
    "dH_lr = hz / lr_nz\n",
    "dH_uhr = hz / uhr_nz\n",
    "reduced_gravity_hr = brunt_vaisala_frequency**2 * dH_hr\n",
    "reduced_gravity_lr = brunt_vaisala_frequency**2 * dH_lr\n",
    "reduced_gravity_uhr = brunt_vaisala_frequency**2 * dH_uhr\n",
    "\n",
    "# Jet width, referring to Esler(2008)\n",
    "jet_width = 0.4\n",
    "\n",
    "# Diffusion exponent\n",
    "diffusion_exponent = 2\n",
    "\n",
    "# Diffusion coefficient, referring to Scott & Polvani(2007)\n",
    "diffusion_coefficient = 30 / cutoff_wavenum ** (2 * diffusion_exponent)"
   ]
  },
  {
   "cell_type": "code",
   "execution_count": null,
   "id": "0ff51571-10d9-479d-85ae-64fdad2f206d",
   "metadata": {},
   "outputs": [],
   "source": [
    "width_z = 0.125 * hz"
   ]
  },
  {
   "cell_type": "code",
   "execution_count": null,
   "id": "d713dbfd-ac6b-4fba-b7e6-a6cfe74008d4",
   "metadata": {},
   "outputs": [],
   "source": [
    "n_batch = 20"
   ]
  },
  {
   "cell_type": "code",
   "execution_count": null,
   "id": "4df2e324-534f-442a-8c7e-b979036734a1",
   "metadata": {
    "tags": []
   },
   "outputs": [],
   "source": [
    "# device= gpu\n",
    "\n",
    "config_path = f\"{config_dir_path}/gpu_make_data_config.yml\"\n",
    "\n",
    "hr_base_config = EslerJetConfig(\n",
    "    nx=hr_nx,\n",
    "    ny=hr_ny,\n",
    "    nz=hr_nz,\n",
    "    n_batch=n_batch,\n",
    "    f_0=f_0,\n",
    "    beta=beta,\n",
    "    Lx=hx,\n",
    "    Ly=hy,\n",
    "    Lz=hz,\n",
    "    reduced_gravity=reduced_gravity_hr,\n",
    "    diffusion_coefficient=diffusion_coefficient,\n",
    "    diffusion_exponent=diffusion_exponent,\n",
    "    device=\"cuda\",\n",
    "    precision=\"double\",\n",
    "    jet_width=jet_width,\n",
    "    jet_max_velocity=1.0,\n",
    "    noise_amplitude=0.03,\n",
    "    width_z=width_z,\n",
    ")\n",
    "\n",
    "lr_base_config = EslerJetConfig(\n",
    "    nx=lr_nx,\n",
    "    ny=lr_ny,\n",
    "    nz=lr_nz,\n",
    "    n_batch=n_batch,\n",
    "    f_0=f_0,\n",
    "    beta=beta,\n",
    "    Lx=hx,\n",
    "    Ly=hy,\n",
    "    Lz=hz,\n",
    "    reduced_gravity=reduced_gravity_lr,\n",
    "    diffusion_coefficient=diffusion_coefficient,\n",
    "    diffusion_exponent=diffusion_exponent,\n",
    "    device=\"cuda\",\n",
    "    precision=\"double\",\n",
    "    jet_width=jet_width,\n",
    "    jet_max_velocity=1.0,\n",
    "    noise_amplitude=0.03,\n",
    "    width_z=width_z,\n",
    ")\n",
    "\n",
    "uhr_base_config = EslerJetConfig(\n",
    "    nx=uhr_nx,\n",
    "    ny=uhr_ny,\n",
    "    nz=uhr_nz,\n",
    "    n_batch=1,\n",
    "    f_0=f_0,\n",
    "    beta=beta,\n",
    "    Lx=hx,\n",
    "    Ly=hy,\n",
    "    Lz=hz,\n",
    "    reduced_gravity=reduced_gravity_uhr,\n",
    "    diffusion_coefficient=diffusion_coefficient,\n",
    "    diffusion_exponent=diffusion_exponent,\n",
    "    device=\"cuda\",\n",
    "    precision=\"double\",\n",
    "    jet_width=jet_width,\n",
    "    jet_max_velocity=1.0,\n",
    "    noise_amplitude=0.03,\n",
    "    width_z=width_z,\n",
    ")\n",
    "\n",
    "config = CFDConfig(\n",
    "    jet_profile=\"sech_squared_and_sigmoid\",\n",
    "    hr_base_config=hr_base_config,\n",
    "    lr_base_config=lr_base_config,\n",
    "    uhr_base_config=uhr_base_config,\n",
    "    time_config=time_config,\n",
    "    seed_config=seed_config,\n",
    "    da_config=data_assimilation_config,\n",
    ")\n",
    "\n",
    "\n",
    "config.save(pathlib.Path(config_path))"
   ]
  },
  {
   "cell_type": "code",
   "execution_count": null,
   "id": "b3608558-5647-4394-b773-774792db98a5",
   "metadata": {
    "tags": []
   },
   "outputs": [],
   "source": [
    "# For evaluation\n",
    "config.lr_base_config.n_batch = 1\n",
    "config.hr_base_config.n_batch = 1\n",
    "\n",
    "config_path = f\"{config_dir_path}/gpu_evaluation_config.yml\"\n",
    "\n",
    "config.save(pathlib.Path(config_path))"
   ]
  }
 ],
 "metadata": {
  "kernelspec": {
   "display_name": "Python 3 (ipykernel)",
   "language": "python",
   "name": "python3"
  },
  "language_info": {
   "codemirror_mode": {
    "name": "ipython",
    "version": 3
   },
   "file_extension": ".py",
   "mimetype": "text/x-python",
   "name": "python",
   "nbconvert_exporter": "python",
   "pygments_lexer": "ipython3",
   "version": "3.9.5"
  }
 },
 "nbformat": 4,
 "nbformat_minor": 5
}
