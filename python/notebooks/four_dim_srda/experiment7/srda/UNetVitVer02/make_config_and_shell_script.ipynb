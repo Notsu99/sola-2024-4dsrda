{
 "cells": [
  {
   "cell_type": "code",
   "execution_count": null,
   "id": "c9863be7-89f0-4e5f-bd1a-fd4064820edd",
   "metadata": {
    "tags": []
   },
   "outputs": [],
   "source": [
    "%load_ext autoreload\n",
    "%autoreload 2\n",
    "%matplotlib inline"
   ]
  },
  {
   "cell_type": "markdown",
   "id": "bbb0f588-5c23-45d2-b974-9dfeb6f62c99",
   "metadata": {},
   "source": [
    "# Import libraries "
   ]
  },
  {
   "cell_type": "code",
   "execution_count": null,
   "id": "3ae11043-bcb2-428c-a2d3-3e3c331c7342",
   "metadata": {
    "tags": []
   },
   "outputs": [],
   "source": [
    "import dataclasses\n",
    "import json\n",
    "import os\n",
    "import pathlib\n",
    "\n",
    "import numpy as np\n",
    "import torch\n",
    "from jinja2 import Environment, FileSystemLoader\n",
    "from src.four_dim_srda.config.config_u_net_vit_v2 import UNetVitVer02ExpConfig\n",
    "from src.four_dim_srda.config.experiment_config import LossConfig, TrainConfig\n",
    "from src.four_dim_srda.data.dataloader import DataloaderConfig\n",
    "from src.four_dim_srda.data.dataset_making_obs import DatasetMakingObsConfig\n",
    "from src.four_dim_srda.models.neural_nets.u_net_vit_v2 import UNetVitVer02Config"
   ]
  },
  {
   "cell_type": "markdown",
   "id": "229f34d4-cd7e-4ed3-86a5-eb40e968c95c",
   "metadata": {},
   "source": [
    "# Define constants"
   ]
  },
  {
   "cell_type": "code",
   "execution_count": null,
   "id": "43930464-eb47-4271-92eb-8da2a674a5d7",
   "metadata": {
    "tags": []
   },
   "outputs": [],
   "source": [
    "ROOT_DIR = pathlib.Path(os.environ[\"PYTHONPATH\"]).parent.resolve()\n",
    "\n",
    "experiment_name = \"experiment7\"\n",
    "experiment_cfg_name = UNetVitVer02ExpConfig\n",
    "\n",
    "model_name = \"UNetVitVer02\"\n",
    "model_cfg_name = UNetVitVer02Config\n",
    "\n",
    "DATA_DIR = (\n",
    "    f\"{ROOT_DIR}/data/four_dim_srda/{experiment_name}/cfd_simulation/qg_model/max_and_min_value\"\n",
    ")\n",
    "\n",
    "CFG_DIR = f\"{ROOT_DIR}/python/configs/four_dim_srda/{experiment_name}/perform_4D_SRDA/{model_name}\"\n",
    "os.makedirs(CFG_DIR, exist_ok=True)"
   ]
  },
  {
   "cell_type": "code",
   "execution_count": null,
   "id": "8bb6aade-945d-4b23-90d3-cf0ef3944ff2",
   "metadata": {
    "tags": []
   },
   "outputs": [],
   "source": [
    "SCRIPT_TRAIN_DIR = f\"{ROOT_DIR}/python/bash/four_dim_srda/{experiment_name}/DL_train_on_es/{model_name}\"\n",
    "SCRIPT_EVAL_DIR = f\"{ROOT_DIR}/python/bash/four_dim_srda/{experiment_name}/DL_evaluate_on_es/{model_name}\"\n",
    "\n",
    "os.makedirs(SCRIPT_TRAIN_DIR, exist_ok=True)\n",
    "os.makedirs(SCRIPT_EVAL_DIR, exist_ok=True)"
   ]
  },
  {
   "cell_type": "code",
   "execution_count": null,
   "id": "72421c37-f254-42c0-a041-c06140071396",
   "metadata": {
    "tags": []
   },
   "outputs": [],
   "source": [
    "data = np.load(f\"{DATA_DIR}/values.npz\")\n",
    "min_val, max_val = torch.tensor(data[\"min_val\"]), torch.tensor(data[\"max_val\"])\n",
    "\n",
    "margin = 0.1\n",
    "_min = min_val - (max_val - min_val) * margin\n",
    "_max = max_val + (max_val - min_val) * margin\n",
    "\n",
    "pv_min, pv_max = round(torch.min(_min).item(), 2), round(torch.max(_max).item(), 2)"
   ]
  },
  {
   "cell_type": "code",
   "execution_count": null,
   "id": "ed95c295-a096-4180-9a93-a9bbbf933d9e",
   "metadata": {
    "tags": []
   },
   "outputs": [],
   "source": [
    "pv_min, pv_max"
   ]
  },
  {
   "cell_type": "markdown",
   "id": "78f306a3-4f66-4f47-aa64-561e368501b7",
   "metadata": {},
   "source": [
    "# Define methods"
   ]
  },
  {
   "cell_type": "code",
   "execution_count": null,
   "id": "ac3d0d9f-a268-4c9f-b855-c13c16587375",
   "metadata": {
    "tags": []
   },
   "outputs": [],
   "source": [
    "def make_cfg_and_script(\n",
    "    *,\n",
    "    cfg,\n",
    "    experiment_name,\n",
    "    model_name,\n",
    "    cfg_dir,\n",
    "    script_train_dir,\n",
    "    script_eval_dir,\n",
    "):\n",
    "    # パラメータ\n",
    "    bea = int(cfg.dataset_config.beta_dist_alpha)\n",
    "    bed = int(cfg.dataset_config.beta_dist_beta)\n",
    "    dspe = cfg.dataset_config.data_size_per_epoch\n",
    "    nsls = cfg.dataset_config.num_searched_lr_states\n",
    "    ogx = f\"{cfg.dataset_config.obs_grid_interval_x:02}\"\n",
    "    ogy = f\"{cfg.dataset_config.obs_grid_interval_y:02}\"\n",
    "\n",
    "    n3drb = cfg.model_config.num_3d_resnet_block\n",
    "    nvb = cfg.model_config.num_vit_block\n",
    "    bias = int(cfg.model_config.bias)\n",
    "    vits = int(cfg.model_config.use_vit_skip_connect)\n",
    "\n",
    "    bs = cfg.dataloader_config.batch_size\n",
    "\n",
    "    lr = f\"{cfg.train_config.lr:.0e}\"\n",
    "\n",
    "    # Configの保存\n",
    "    cfg_name = f\"bea{bea}_bed{bed}_dspe{dspe}_nsls{nsls}_ogx{ogx}_ogy{ogy}_n3drb{n3drb}_nvb{nvb}_bias{bias}_vits{vits}_bs{bs}_lr{lr}.yml\"\n",
    "    cfg.save(pathlib.Path(f\"{cfg_dir}/{cfg_name}\"))\n",
    "\n",
    "    #\n",
    "    context = {\n",
    "        #\n",
    "        \"experiment_name\": experiment_name,\n",
    "        #\n",
    "        \"model_name\": model_name,\n",
    "        \"bea\": bea,\n",
    "        \"bed\": bed,\n",
    "        \"dspe\": dspe,\n",
    "        \"nsls\": nsls,\n",
    "        \"ogx\": ogx,\n",
    "        \"ogy\": ogy,\n",
    "        #\n",
    "        \"n3drb\": n3drb,\n",
    "        \"nvb\": nvb,\n",
    "        \"bias\": bias,\n",
    "        \"vits\": vits,\n",
    "        #\n",
    "        \"bs\": bs,\n",
    "        \"lr\": lr,\n",
    "    }\n",
    "\n",
    "    # Jinja2環境の設定\n",
    "    env = Environment(\n",
    "        loader=FileSystemLoader(f\"{script_train_dir}\"), trim_blocks=True, lstrip_blocks=True\n",
    "    )\n",
    "\n",
    "    # Trainingテンプレートの読み込み & レンダリング\n",
    "    template = env.get_template(\"template.sh.j2\")\n",
    "    rendered_script = template.render(context)\n",
    "\n",
    "    # スクリプト生成\n",
    "    output_file = f\"{script_train_dir}/train_ddp_bea{bea}_bed{bed}_dspe{dspe}_nsls{nsls}_ogx{ogx}_ogy{ogy}_n3drb{n3drb}_nvb{nvb}_bias{bias}_vits{vits}_bs{bs}_lr{lr}.sh\"\n",
    "    with open(output_file, \"w\") as f:\n",
    "        f.write(rendered_script)\n",
    "\n",
    "    # 実行権限を付与\n",
    "    os.chmod(output_file, 0o740)\n",
    "\n",
    "    # Jinja2環境の設定\n",
    "    env = Environment(\n",
    "        loader=FileSystemLoader(f\"{script_eval_dir}\"), trim_blocks=True, lstrip_blocks=True\n",
    "    )\n",
    "\n",
    "    # Testテンプレートの読み込み & レンダリング\n",
    "    template = env.get_template(\"template.sh.j2\")\n",
    "    rendered_script = template.render(context)\n",
    "\n",
    "    # スクリプト生成\n",
    "    output_file = f\"{script_eval_dir}/bea{bea}_bed{bed}_dspe{dspe}_nsls{nsls}_ogx{ogx}_ogy{ogy}_n3drb{n3drb}_nvb{nvb}_bias{bias}_vits{vits}_bs{bs}_lr{lr}.sh\"\n",
    "    with open(output_file, \"w\") as f:\n",
    "        f.write(rendered_script)\n",
    "\n",
    "    # 実行権限を付与\n",
    "    os.chmod(output_file, 0o740)\n",
    "\n",
    "    # Testテンプレートの読み込み & レンダリング\n",
    "    template = env.get_template(\"template_using_narrow_jet.sh.j2\")\n",
    "    rendered_script = template.render(context)\n",
    "\n",
    "    # スクリプト生成\n",
    "    output_file = f\"{script_eval_dir}/bea{bea}_bed{bed}_dspe{dspe}_nsls{nsls}_ogx{ogx}_ogy{ogy}_n3drb{n3drb}_nvb{nvb}_bias{bias}_vits{vits}_bs{bs}_lr{lr}_using_narrow_jet.sh\"\n",
    "    with open(output_file, \"w\") as f:\n",
    "        f.write(rendered_script)\n",
    "\n",
    "    # 実行権限を付与\n",
    "    os.chmod(output_file, 0o740)"
   ]
  },
  {
   "cell_type": "markdown",
   "id": "3e787dc2-cc03-4b01-9027-543b118e84e1",
   "metadata": {},
   "source": [
    "# Make"
   ]
  },
  {
   "cell_type": "code",
   "execution_count": null,
   "id": "374eab80-3cfb-41f1-86e9-671d0332548e",
   "metadata": {
    "tags": []
   },
   "outputs": [],
   "source": [
    "# データを作り直した場合はmax_start_time_indexの変更を忘れないこと\n",
    "# input_sequence_lengthの値の変更も忘れないこと\n",
    "# hr_sequence_lengthの値の変更も忘れないこと\n",
    "\n",
    "model_config = UNetVitVer02Config(\n",
    "    model_name=model_name,\n",
    "    bias=True,\n",
    "    input_channels=1,\n",
    "    feat_channels_0=128,\n",
    "    feat_channels_1=128,\n",
    "    feat_channels_2=128,\n",
    "    feat_channels_3=128,\n",
    "    encoder_output_channels=128,\n",
    "    input_sequence_length=3,\n",
    "    hr_sequence_length=9,\n",
    "    num_3d_resnet_block=3,\n",
    "    num_vit_block=4,\n",
    "    encoder_activation_type=\"silu\",\n",
    "    decoder_activation_type=\"silu\",\n",
    "    other_activation_type=\"silu\",\n",
    "    encoder_norm_type=\"layer\",\n",
    "    decoder_norm_type=\"layer\",\n",
    "    other_norm_type=\"layer\",\n",
    "    patch_size_x=1,\n",
    "    patch_size_y=1,\n",
    "    emb_dim=512,\n",
    "    n_head=8,\n",
    "    hidden_dim=512 * 2,\n",
    "    dropout=0.2,\n",
    "    hr_x_size=128,\n",
    "    hr_y_size=64,\n",
    "    hr_z_size=16,\n",
    "    lr_x_size=32,\n",
    "    lr_y_size=16,\n",
    "    lr_z_size=4,\n",
    "    use_vit_skip_connect=False,\n",
    ")\n",
    "\n",
    "dataset_config = DatasetMakingObsConfig(\n",
    "    data_dirs=[],\n",
    "    use_ground_truth_clipping=None,\n",
    "    lr_and_obs_time_interval=4,\n",
    "    max_start_time_index=792,\n",
    "    beta_dist_alpha=2.0,\n",
    "    beta_dist_beta=2.0,\n",
    "    data_size_per_epoch=360,\n",
    "    is_future_obs_missing=True,\n",
    "    max_ensemble_number=20,\n",
    "    missing_value=0.0,\n",
    "    num_searched_lr_states=100,\n",
    "    nx_hr=128,\n",
    "    ny_hr=65,\n",
    "    nz_hr=16,\n",
    "    pv_max=pv_max,\n",
    "    pv_min=pv_min,\n",
    "    obs_grid_interval_x=8,\n",
    "    obs_grid_interval_y=8,\n",
    "    obs_noise_std=0.022,\n",
    "    use_mixup=True,\n",
    "    use_observation=True,\n",
    ")\n",
    "\n",
    "dataloader_config = DataloaderConfig(\n",
    "    dataset_name=\"DatasetMakingObs\",\n",
    "    batch_size=12,\n",
    "    data_dir_name=f\"{experiment_name}/cfd_simulation/qg_model/hr_and_lr_pv\",\n",
    "    num_workers=2,\n",
    "    train_valid_test_ratios=[0.7, 0.2, 0.1],\n",
    "    seed=42,\n",
    ")\n",
    "\n",
    "train_config = TrainConfig(\n",
    "    early_stopping_patience=51,\n",
    "    num_epochs=400,\n",
    "    lr=0.0001,\n",
    "    seed=42,\n",
    "    use_zero=True,\n",
    ")\n",
    "\n",
    "loss_config = LossConfig(name=\"L1\")\n",
    "\n",
    "cfg = experiment_cfg_name(\n",
    "    model_config=model_config,\n",
    "    dataset_config=dataset_config,\n",
    "    dataloader_config=dataloader_config,\n",
    "    train_config=train_config,\n",
    "    loss_config=loss_config,\n",
    ")\n",
    "\n",
    "\n",
    "make_cfg_and_script(\n",
    "    cfg=cfg,\n",
    "    experiment_name=experiment_name,\n",
    "    model_name=model_name,\n",
    "    cfg_dir=CFG_DIR,\n",
    "    script_train_dir=SCRIPT_TRAIN_DIR,\n",
    "    script_eval_dir=SCRIPT_EVAL_DIR,\n",
    ")"
   ]
  },
  {
   "cell_type": "code",
   "execution_count": null,
   "id": "e9353d58-0875-4136-9ade-8c4d01d2671a",
   "metadata": {},
   "outputs": [],
   "source": [
    "# # tuning beta\n",
    "\n",
    "# betas = [3, 6, 9, 12]\n",
    "\n",
    "# for beta in betas:\n",
    "#     dataset_config.beta_dist_beta = beta\n",
    "\n",
    "#     #\n",
    "#     make_cfg_and_script(\n",
    "#         cfg=cfg,\n",
    "#         experiment_name=experiment_name,\n",
    "#         model_name=model_name,\n",
    "#         cfg_dir=CFG_DIR,\n",
    "#         script_train_dir=SCRIPT_TRAIN_DIR,\n",
    "#         script_eval_dir=SCRIPT_EVAL_DIR,\n",
    "#     )"
   ]
  },
  {
   "cell_type": "code",
   "execution_count": null,
   "id": "1ab00801-e858-4ee2-8cad-5291f1452477",
   "metadata": {
    "tags": []
   },
   "outputs": [],
   "source": [
    "# # tuning lr\n",
    "# lrs = [1e-5, 3e-5, 5e-5, 8e-5, 1e-4, 2e-4]\n",
    "# for lr in lrs:\n",
    "#     #\n",
    "#     train_config.lr = lr\n",
    "\n",
    "#     make_cfg_and_script(\n",
    "#         cfg=cfg,\n",
    "#         experiment_name=experiment_name,\n",
    "#         model_name=model_name,\n",
    "#         cfg_dir=CFG_DIR,\n",
    "#         script_train_dir=SCRIPT_TRAIN_DIR,\n",
    "#         script_eval_dir=SCRIPT_EVAL_DIR,\n",
    "#     )"
   ]
  },
  {
   "cell_type": "code",
   "execution_count": null,
   "id": "df14a862-86d8-46fa-9668-52aa0c2a871a",
   "metadata": {},
   "outputs": [],
   "source": []
  }
 ],
 "metadata": {
  "kernelspec": {
   "display_name": "Python 3 (ipykernel)",
   "language": "python",
   "name": "python3"
  },
  "language_info": {
   "codemirror_mode": {
    "name": "ipython",
    "version": 3
   },
   "file_extension": ".py",
   "mimetype": "text/x-python",
   "name": "python",
   "nbconvert_exporter": "python",
   "pygments_lexer": "ipython3",
   "version": "3.9.5"
  }
 },
 "nbformat": 4,
 "nbformat_minor": 5
}
