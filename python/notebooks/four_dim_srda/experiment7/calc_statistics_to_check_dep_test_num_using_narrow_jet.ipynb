{
 "cells": [
  {
   "cell_type": "code",
   "execution_count": null,
   "id": "b08e541a-6c1f-40f6-a823-0cdd53e027cb",
   "metadata": {
    "tags": []
   },
   "outputs": [],
   "source": [
    "%load_ext autoreload\n",
    "%autoreload 2\n",
    "%matplotlib inline"
   ]
  },
  {
   "attachments": {},
   "cell_type": "markdown",
   "id": "c2a0775a-4908-4fc5-95d8-2e6d014f9bf2",
   "metadata": {},
   "source": [
    "# Import libraries"
   ]
  },
  {
   "cell_type": "code",
   "execution_count": null,
   "id": "f38da3b4-ab94-4dc0-8c39-14e9f3b5fec5",
   "metadata": {
    "tags": []
   },
   "outputs": [],
   "source": [
    "import sys\n",
    "from logging import INFO, StreamHandler, getLogger\n",
    "\n",
    "logger = getLogger()\n",
    "if not logger.hasHandlers():\n",
    "    logger.addHandler(StreamHandler(sys.stdout))\n",
    "logger.setLevel(INFO)"
   ]
  },
  {
   "cell_type": "code",
   "execution_count": null,
   "id": "870761d2-a503-4bc1-b635-224d0cdd96dd",
   "metadata": {
    "tags": []
   },
   "outputs": [],
   "source": [
    "import os\n",
    "import pathlib\n",
    "\n",
    "import matplotlib.pyplot as plt\n",
    "import numpy as np\n",
    "import torch\n",
    "from src.four_dim_srda.config.config_loader import load_config\n",
    "from src.four_dim_srda.config.experiment_config import CFDConfig\n",
    "from src.four_dim_srda.utils.calc_statistics import (\n",
    "    calc_maer,\n",
    "    calc_maer_averaging_over_selected_iz,\n",
    "    calc_mssim,\n",
    ")\n",
    "from src.four_dim_srda.utils.ssim import MSSIM\n",
    "from src.four_dim_srda.utils.torch_interpolator import (\n",
    "    interpolate_2d,\n",
    "    interpolate_along_z,\n",
    ")\n",
    "from src.qg_model.qg_model import QGModel\n",
    "\n",
    "plt.rcParams[\"font.family\"] = \"serif\""
   ]
  },
  {
   "attachments": {},
   "cell_type": "markdown",
   "id": "f54fd779-f742-4ed9-bbcd-575a7812c438",
   "metadata": {},
   "source": [
    "# Define constants"
   ]
  },
  {
   "cell_type": "code",
   "execution_count": null,
   "id": "e629f2a3-afac-4f38-b439-cc58792f89e1",
   "metadata": {
    "tags": []
   },
   "outputs": [],
   "source": [
    "ROOT_DIR = pathlib.Path(os.environ[\"PYTHONPATH\"]).parent.resolve()"
   ]
  },
  {
   "cell_type": "code",
   "execution_count": null,
   "id": "53dffae9-0da2-4525-ab43-0e06e9ce0a18",
   "metadata": {
    "tags": []
   },
   "outputs": [],
   "source": [
    "experiment_name = \"experiment7\""
   ]
  },
  {
   "cell_type": "code",
   "execution_count": null,
   "id": "52632b59-4e51-4566-866b-8867122ba055",
   "metadata": {
    "tags": []
   },
   "outputs": [],
   "source": [
    "# model_names = [\"ConvTransNetVer01\", \"UNetMaxVitVer01\", \"UNetVitVer02\"]\n",
    "model_names = [\"ConvTransNetVer01\", \"UNetMaxVitVer01\"]\n",
    "\n",
    "CFG_DIR = f\"{ROOT_DIR}/python/configs/four_dim_srda/{experiment_name}\"\n",
    "\n",
    "# srda\n",
    "dict_cfg_srda_name = {}\n",
    "for m_name in model_names:\n",
    "    if m_name == \"ConvTransNetVer01\":\n",
    "        dict_cfg_srda_name[\n",
    "            m_name\n",
    "        ] = \"bea2_bed2_dspe360_nsls100_ogx08_ogy08_bias1_bs12_lr1e-04\"\n",
    "    #\n",
    "    elif m_name == \"UNetMaxVitVer01\":\n",
    "        dict_cfg_srda_name[\n",
    "            m_name\n",
    "        ] = \"bea2_bed2_dspe360_nsls100_ogx08_ogy08_n3drb3_nmb6_bias0_bs12_lr1e-04\"\n",
    "    #\n",
    "    elif m_name == \"UNetVitVer02\":\n",
    "        dict_cfg_srda_name[\n",
    "            m_name\n",
    "        ] = \"bea2_bed2_dspe360_nsls100_ogx08_ogy08_n3drb3_nvb4_bias0_vits0_bs12_lr1e-04\"\n",
    "\n",
    "# config srda\n",
    "CFG_SRDA_PATH = f\"{CFG_DIR}/perform_4D_SRDA/{model_names[0]}/{dict_cfg_srda_name[model_names[0]]}.yml\"\n",
    "\n",
    "\n",
    "cfg_srda = load_config(model_name=model_names[0], config_path=CFG_SRDA_PATH)\n",
    "\n",
    "# config cfd\n",
    "CFG_CFD_PATH = f\"{CFG_DIR}/cfd_simulation/qg_model/gpu_evaluation_config.yml\"\n",
    "\n",
    "cfg_cfd = CFDConfig.load(pathlib.Path(CFG_CFD_PATH))\n",
    "\n",
    "DEVICE_CPU = \"cpu\"\n",
    "DEVICE_GPU = torch.device(\"cuda\") if torch.cuda.is_available() else None\n",
    "\n",
    "cfg_cfd.lr_base_config.device = (\n",
    "    cfg_cfd.hr_base_config.device\n",
    ") = cfg_cfd.uhr_base_config.device = DEVICE_CPU\n",
    "\n",
    "dict_cfg_srda_name"
   ]
  },
  {
   "cell_type": "code",
   "execution_count": null,
   "id": "61afdda9-919d-4f41-84a3-68f0ff934fb3",
   "metadata": {
    "tags": []
   },
   "outputs": [],
   "source": [
    "list_cfg_letkf_name = [\n",
    "    \"na3e-03_letkf_cfg_ogx08_ogy08_ne100_ch16e-04_cr6e+00_if12e-01_lr57e-01_bs6\"\n",
    "]\n",
    "list_cfg_letkf_name"
   ]
  },
  {
   "cell_type": "code",
   "execution_count": null,
   "id": "a4744ed6-87c7-4062-a3cb-a1b6069c2e6a",
   "metadata": {
    "tags": []
   },
   "outputs": [],
   "source": [
    "uhr_model = QGModel(cfg_cfd.uhr_base_config, show_input_cfg_info=False)"
   ]
  },
  {
   "cell_type": "code",
   "execution_count": null,
   "id": "55820792-187f-432f-b22d-c553abd8b6e6",
   "metadata": {
    "tags": []
   },
   "outputs": [],
   "source": [
    "DATA_DIR = f\"{ROOT_DIR}/data/four_dim_srda\"\n",
    "\n",
    "LR_DATA_DIR = f\"{DATA_DIR}/{experiment_name}/cfd_simulation/qg_model/lr_pv_narrow_jet\"\n",
    "UHR_DATA_DIR = f\"{DATA_DIR}/{experiment_name}/cfd_simulation/qg_model/uhr_pv_narrow_jet\""
   ]
  },
  {
   "cell_type": "code",
   "execution_count": null,
   "id": "94099c79-08a8-43ba-afaf-05ecf0164e93",
   "metadata": {
    "tags": []
   },
   "outputs": [],
   "source": [
    "_result_dir = f\"{ROOT_DIR}/python/results/four_dim_srda/{experiment_name}\"\n",
    "RESULT_DIR = f\"{_result_dir}/analysis/use_narrow_jet\"\n",
    "FIG_DIR = f\"{RESULT_DIR}/fig\"\n",
    "os.makedirs(FIG_DIR, exist_ok=True)"
   ]
  },
  {
   "cell_type": "code",
   "execution_count": null,
   "id": "16ce2b41-ab1f-4156-8946-f1b4e35685c9",
   "metadata": {
    "tags": []
   },
   "outputs": [],
   "source": [
    "ASSIMILATION_PERIOD = (\n",
    "    cfg_cfd.da_config.segment_length - cfg_cfd.da_config.forecast_span - 1\n",
    ")\n",
    "FORECAST_SPAN = cfg_cfd.da_config.forecast_span\n",
    "\n",
    "# 対象とする時間は0 <= t <= (NUM_TIMES - 1) * cfg_cfd.time_config.output_hr_dt\n",
    "NUM_TIMES = (\n",
    "    cfg_srda.dataset_config.max_start_time_index + ASSIMILATION_PERIOD + FORECAST_SPAN\n",
    ")\n",
    "NUM_TIMES_LR = cfg_cfd.time_config.end_time"
   ]
  },
  {
   "attachments": {},
   "cell_type": "markdown",
   "id": "15c36293-9b9e-4b4b-9125-48be9dc0048f",
   "metadata": {},
   "source": [
    "# Define methods"
   ]
  },
  {
   "cell_type": "code",
   "execution_count": null,
   "id": "54830e38-5d7c-45c1-a0a9-46b96aefc60b",
   "metadata": {
    "tags": []
   },
   "outputs": [],
   "source": [
    "def _preprocess(\n",
    "    data: torch.Tensor, pv_min: float, pv_max: float, use_clipping: bool = False\n",
    ") -> torch.Tensor:\n",
    "    #\n",
    "    # batch, time, z, y, x dims\n",
    "    assert data.ndim == 5\n",
    "\n",
    "    # normalization\n",
    "    data = (data - pv_min) / (pv_max - pv_min)\n",
    "\n",
    "    if use_clipping:\n",
    "        data = torch.clamp(data, min=0.0, max=1.0)\n",
    "\n",
    "    return data"
   ]
  },
  {
   "cell_type": "code",
   "execution_count": null,
   "id": "2acd9529-6329-4294-9afd-a7576870f7f5",
   "metadata": {
    "tags": []
   },
   "outputs": [],
   "source": [
    "def plot_maer_and_mssim_loss(\n",
    "    *,\n",
    "    dict_maer: dict[str, torch.Tensor],\n",
    "    dict_mssim_loss: dict[str, torch.Tensor],\n",
    "    time: torch.Tensor,\n",
    "    num_batch: int,\n",
    "    first_peak_it: int,\n",
    "    second_peak_it: int,\n",
    "    list_ylim_maer: tuple[int, int],\n",
    "    list_ylim_mssim_loss: list[int, int],\n",
    "    base_font_size: int,\n",
    "    list_fig_size_xy: tuple[float, float],\n",
    "    num_xticks: int = 5,\n",
    "    num_yticks: int = 5,\n",
    "    save_fig: bool = False,\n",
    "):\n",
    "    #\n",
    "    plt.rcParams[\"font.size\"] = base_font_size\n",
    "\n",
    "    title_fs_scale = 1.4\n",
    "    label_fs_scale = 1.2\n",
    "    legend_fs_scale = 1.1\n",
    "    tick_label_fs_scale = 1.0\n",
    "\n",
    "    # grid_alpha = 0.8\n",
    "    lw = 2.2\n",
    "    lw_scale = 0.8\n",
    "\n",
    "    #\n",
    "    for ib in range(num_batch):\n",
    "        fig, (ax1, ax2) = plt.subplots(1, 2, figsize=list_fig_size_xy)\n",
    "        fig_name = f\"maer_and_mssim_loss_ib{ib}_plot_for_paper\"\n",
    "        #\n",
    "        keys = dict_maer.keys()\n",
    "        for key in keys:\n",
    "            if key == \"ConvTransNetVer01\":\n",
    "                c = \"tab:blue\"\n",
    "                ls = \"-.\"\n",
    "                label = \"YO23\"\n",
    "            #\n",
    "            elif key == \"UNetMaxVitVer01\":\n",
    "                c = \"tab:red\"\n",
    "                ls = \"-\"\n",
    "                label = \"4D-SRDA\"\n",
    "            #\n",
    "            elif key == \"letkf\":\n",
    "                c = \"tab:green\"\n",
    "                ls = \"--\"\n",
    "                label = \"HR-LETKF\"\n",
    "            else:\n",
    "                continue\n",
    "\n",
    "            # SRDA's results have NaN in i_s = 0, so skip it\n",
    "            i_s = 1\n",
    "\n",
    "            # maer\n",
    "            ax1.plot(\n",
    "                time[i_s:],\n",
    "                dict_maer[key][ib, i_s:],\n",
    "                c=c,\n",
    "                lw=lw,\n",
    "                linestyle=ls,\n",
    "                label=label,\n",
    "            )\n",
    "            ax1.set_xticks(np.linspace(0, 200, num_xticks))\n",
    "            ax1.set_ylim(list_ylim_maer[0], list_ylim_maer[1])\n",
    "            ax1.set_yticks(\n",
    "                np.linspace(list_ylim_maer[0], list_ylim_maer[1], num_yticks)\n",
    "            )\n",
    "\n",
    "            ax1.set_title(\n",
    "                f\"(a) MAE Ratio in UHR space (ib={ib})\",\n",
    "                fontsize=title_fs_scale * base_font_size,\n",
    "                loc=\"left\",\n",
    "                pad=20,\n",
    "            )\n",
    "            ax1.set_xlabel(\"Time\", fontsize=label_fs_scale * base_font_size)\n",
    "            ax1.set_ylabel(\n",
    "                \"MAE Ratio\", fontsize=label_fs_scale * base_font_size, labelpad=15\n",
    "            )\n",
    "\n",
    "            # ax1.grid(True, alpha=grid_alpha)\n",
    "\n",
    "            ax1.tick_params(\n",
    "                axis=\"both\",\n",
    "                which=\"major\",\n",
    "                labelsize=tick_label_fs_scale * base_font_size,\n",
    "            )\n",
    "\n",
    "            # mssim loss\n",
    "\n",
    "            # NaN in the SRDA results has already been removed.\n",
    "            # so i_s isn't used here\n",
    "            ax2.plot(\n",
    "                time[i_s:],\n",
    "                dict_mssim_loss[key][ib],\n",
    "                c=c,\n",
    "                lw=lw,\n",
    "                linestyle=ls,\n",
    "                label=label,\n",
    "            )\n",
    "            ax2.set_xticks(np.linspace(0, 200, num_xticks))\n",
    "            ax2.set_ylim(list_ylim_mssim_loss[0], list_ylim_mssim_loss[1])\n",
    "            ax2.set_yticks(\n",
    "                np.linspace(\n",
    "                    list_ylim_mssim_loss[0], list_ylim_mssim_loss[1], num_yticks\n",
    "                )\n",
    "            )\n",
    "\n",
    "            ax2.set_title(\n",
    "                f\"(b) MSSIM Loss in UHR space (ib={ib})\",\n",
    "                fontsize=title_fs_scale * base_font_size,\n",
    "                loc=\"left\",\n",
    "                pad=20,\n",
    "            )\n",
    "            ax2.set_xlabel(\"Time\", fontsize=label_fs_scale * base_font_size)\n",
    "            ax2.set_ylabel(\n",
    "                \"MSSIM Loss\", fontsize=label_fs_scale * base_font_size, labelpad=15\n",
    "            )\n",
    "\n",
    "            # ax2.grid(True, alpha=grid_alpha)\n",
    "\n",
    "            ax2.tick_params(\n",
    "                axis=\"both\",\n",
    "                which=\"major\",\n",
    "                labelsize=tick_label_fs_scale * base_font_size,\n",
    "            )\n",
    "\n",
    "            legend = ax2.legend(\n",
    "                fontsize=legend_fs_scale * base_font_size, edgecolor=\"black\"\n",
    "            )\n",
    "            legend.get_frame().set_alpha(1.0)  # 背景の透明度\n",
    "            legend.get_frame().set_edgecolor(\"black\")  # 凡例の枠線の色\n",
    "\n",
    "        # Add vertical lines at first_peak_it and second_peak_it\n",
    "        ax1.axvline(\n",
    "            x=time[first_peak_it], color=\"gray\", linestyle=\"-\", linewidth=lw_scale * lw\n",
    "        )\n",
    "        ax2.axvline(\n",
    "            x=time[first_peak_it], color=\"gray\", linestyle=\"-\", linewidth=lw_scale * lw\n",
    "        )\n",
    "        ax1.axvline(\n",
    "            x=time[second_peak_it], color=\"gray\", linestyle=\"-\", linewidth=lw_scale * lw\n",
    "        )\n",
    "        ax2.axvline(\n",
    "            x=time[second_peak_it], color=\"gray\", linestyle=\"-\", linewidth=lw_scale * lw\n",
    "        )\n",
    "\n",
    "        #\n",
    "        plt.tight_layout()\n",
    "\n",
    "        #\n",
    "        if save_fig:\n",
    "            plt.savefig(\n",
    "                f\"{FIG_DIR}/{fig_name}.jpg\",\n",
    "                dpi=300,\n",
    "                bbox_inches=\"tight\",\n",
    "            )\n",
    "\n",
    "        plt.show()"
   ]
  },
  {
   "attachments": {},
   "cell_type": "markdown",
   "id": "c06a036f-631d-4841-9a8d-8474f1cbfdc3",
   "metadata": {},
   "source": [
    "# Prepare data"
   ]
  },
  {
   "cell_type": "code",
   "execution_count": null,
   "id": "21e32b2a-2697-4012-9954-ac8dd58991e8",
   "metadata": {
    "tags": []
   },
   "outputs": [],
   "source": [
    "# Set it to use only data at analytical time\n",
    "t_slice = ASSIMILATION_PERIOD"
   ]
  },
  {
   "cell_type": "code",
   "execution_count": null,
   "id": "501a0824-f2dd-42ef-b56b-e2fa6d0fbfd2",
   "metadata": {
    "tags": []
   },
   "outputs": [],
   "source": [
    "time = torch.arange(\n",
    "    cfg_cfd.time_config.start_time,\n",
    "    cfg_cfd.time_config.end_time,\n",
    "    cfg_cfd.time_config.output_uhr_dt,\n",
    ")[::t_slice]"
   ]
  },
  {
   "cell_type": "code",
   "execution_count": null,
   "id": "02777b7c-967e-4dd6-a805-ab10c8b832e6",
   "metadata": {
    "tags": []
   },
   "outputs": [],
   "source": [
    "all_gt = []\n",
    "for i_seed_uhr in range(\n",
    "    cfg_cfd.seed_config.uhr_seed_start, cfg_cfd.seed_config.uhr_seed_end + 1\n",
    "):\n",
    "    uhr_data_path = f\"{UHR_DATA_DIR}/seed{i_seed_uhr:05}/seed{i_seed_uhr:05}_start000_end800_uhr_pv.npy\"\n",
    "    gt = np.load(f\"{uhr_data_path}\")\n",
    "    gt = torch.from_numpy(gt)[:NUM_TIMES][::t_slice]\n",
    "    all_gt.append(gt)\n",
    "\n",
    "all_gt = torch.stack(all_gt, dim=0)\n",
    "all_gt.shape, all_gt.dtype"
   ]
  },
  {
   "cell_type": "code",
   "execution_count": null,
   "id": "6abfad2c-cdf9-491a-ab50-04fc4f92e1ea",
   "metadata": {},
   "outputs": [],
   "source": [
    "all_lr_fcst = []\n",
    "for i_seed_uhr in range(\n",
    "    cfg_cfd.seed_config.uhr_seed_start, cfg_cfd.seed_config.uhr_seed_end + 1\n",
    "):\n",
    "    lr_data_path = f\"{LR_DATA_DIR}/seed{i_seed_uhr:05}/seed{i_seed_uhr:05}_start000_end200_lr_pv.npy\"\n",
    "    lr_fcst = np.load(f\"{lr_data_path}\")\n",
    "    lr_fcst = torch.from_numpy(lr_fcst)[:NUM_TIMES_LR]\n",
    "    all_lr_fcst.append(lr_fcst)\n",
    "\n",
    "all_lr_fcst = torch.stack(all_lr_fcst, dim=0)\n",
    "all_lr_fcst.shape, all_lr_fcst.dtype"
   ]
  },
  {
   "cell_type": "code",
   "execution_count": null,
   "id": "2f2ee072-73b3-42f1-835c-fbcecc13f984",
   "metadata": {
    "tags": []
   },
   "outputs": [],
   "source": [
    "dict_srda_fcsts = {}\n",
    "for m_name in dict_cfg_srda_name.keys():\n",
    "    srda_hr_fcst = []\n",
    "    #\n",
    "    for i_seed_uhr in range(\n",
    "        cfg_cfd.seed_config.uhr_seed_start, cfg_cfd.seed_config.uhr_seed_end + 1\n",
    "    ):\n",
    "        _path = f\"{_result_dir}/srda/{m_name}/use_narrow_jet/{dict_cfg_srda_name[m_name]}/UHR_seed_{i_seed_uhr:05}.npz\"\n",
    "        _result_npz = np.load(_path)\n",
    "        _srda_hr_fcst = torch.from_numpy(_result_npz[\"srda_forecast\"])\n",
    "        srda_hr_fcst.append(_srda_hr_fcst[::t_slice])\n",
    "    #\n",
    "    srda_hr_fcst = torch.stack(srda_hr_fcst, dim=0)\n",
    "    dict_srda_fcsts[m_name] = srda_hr_fcst\n",
    "\n",
    "dict_srda_fcsts[m_name].shape, dict_srda_fcsts[m_name].dtype, dict_srda_fcsts.keys()"
   ]
  },
  {
   "cell_type": "code",
   "execution_count": null,
   "id": "aa65580f-b522-4470-a8db-600c76442f0a",
   "metadata": {
    "tags": []
   },
   "outputs": [],
   "source": [
    "dict_letkf_fcsts = {}\n",
    "for cfg_name in list_cfg_letkf_name:\n",
    "    _path = f\"{_result_dir}/letkf/perform_letkf_hr_using_uhr/use_narrow_jet/{cfg_name}/all_letkf_fcst.npy\"\n",
    "    _letkf_hr_fcst = np.load(_path)\n",
    "    _letkf_hr_fcst = torch.from_numpy(_letkf_hr_fcst)\n",
    "    #\n",
    "    _key = cfg_name\n",
    "    dict_letkf_fcsts[_key] = _letkf_hr_fcst[:, ::t_slice, ...]\n",
    "\n",
    "dict_letkf_fcsts[_key].shape, dict_letkf_fcsts[_key].dtype, dict_letkf_fcsts.keys()"
   ]
  },
  {
   "cell_type": "code",
   "execution_count": null,
   "id": "80a676a5-baa0-428a-ba68-ecc903d60c3b",
   "metadata": {},
   "outputs": [],
   "source": [
    "# interpolation\n",
    "\n",
    "all_lr_fcst_uhr = []\n",
    "\n",
    "for ib in range(len(all_lr_fcst)):\n",
    "    _tmp = interpolate_2d(\n",
    "        data=all_lr_fcst[ib],\n",
    "        nx=cfg_cfd.uhr_base_config.nx,\n",
    "        ny=cfg_cfd.uhr_base_config.ny,\n",
    "        mode=\"nearest-exact\",\n",
    "    )\n",
    "    _lr_fcst_uhr = interpolate_along_z(\n",
    "        data=_tmp,\n",
    "        nz=cfg_cfd.uhr_base_config.nz,\n",
    "        mode=\"nearest-exact\",\n",
    "    )\n",
    "    all_lr_fcst_uhr.append(_lr_fcst_uhr)\n",
    "#\n",
    "all_lr_fcst_uhr = torch.stack(all_lr_fcst_uhr, dim=0)\n",
    "assert all_gt.shape == all_lr_fcst_uhr.shape\n",
    "\n",
    "all_lr_fcst_uhr.shape"
   ]
  },
  {
   "cell_type": "code",
   "execution_count": null,
   "id": "500a1e89-5cc1-44fe-8fce-84bdcebffeaf",
   "metadata": {
    "tags": []
   },
   "outputs": [],
   "source": [
    "# interpolation\n",
    "\n",
    "dict_srda_uhr_fcsts = {}\n",
    "for m_model in dict_srda_fcsts.keys():\n",
    "    srda_uhr_fcsts = []\n",
    "    for ib in range(len(dict_srda_fcsts[m_model])):\n",
    "        _tmp = interpolate_2d(\n",
    "            data=dict_srda_fcsts[m_model][ib],\n",
    "            nx=cfg_cfd.uhr_base_config.nx,\n",
    "            ny=cfg_cfd.uhr_base_config.ny,\n",
    "            mode=\"nearest-exact\",\n",
    "        )\n",
    "        _srda_uhr_fcst = interpolate_along_z(\n",
    "            data=_tmp,\n",
    "            nz=cfg_cfd.uhr_base_config.nz,\n",
    "            mode=\"nearest-exact\",\n",
    "        )\n",
    "        srda_uhr_fcsts.append(_srda_uhr_fcst)\n",
    "    #\n",
    "    srda_uhr_fcsts = torch.stack(srda_uhr_fcsts, dim=0)\n",
    "    assert all_gt.shape == srda_uhr_fcsts.shape\n",
    "\n",
    "    dict_srda_uhr_fcsts[m_model] = srda_uhr_fcsts\n",
    "\n",
    "dict_srda_uhr_fcsts[m_model].shape"
   ]
  },
  {
   "cell_type": "code",
   "execution_count": null,
   "id": "6bea7b2f-895b-49cc-81e3-8994f17b0f66",
   "metadata": {
    "tags": []
   },
   "outputs": [],
   "source": [
    "# interpolation\n",
    "\n",
    "dict_letkf_uhr_fcsts = {}\n",
    "for key in dict_letkf_fcsts.keys():\n",
    "    letkf_uhr_fcsts = []\n",
    "    for ib in range(len(dict_letkf_fcsts[key])):\n",
    "        _tmp = interpolate_2d(\n",
    "            data=dict_letkf_fcsts[key][ib],\n",
    "            nx=cfg_cfd.uhr_base_config.nx,\n",
    "            ny=cfg_cfd.uhr_base_config.ny,\n",
    "            mode=\"nearest-exact\",\n",
    "        )\n",
    "        _letkf_uhr_fcsts = interpolate_along_z(\n",
    "            data=_tmp,\n",
    "            nz=cfg_cfd.uhr_base_config.nz,\n",
    "            mode=\"nearest-exact\",\n",
    "        )\n",
    "        letkf_uhr_fcsts.append(_letkf_uhr_fcsts)\n",
    "    #\n",
    "    letkf_uhr_fcsts = torch.stack(letkf_uhr_fcsts, dim=0)\n",
    "    assert all_gt.shape == letkf_uhr_fcsts.shape\n",
    "\n",
    "    dict_letkf_uhr_fcsts[key] = letkf_uhr_fcsts\n",
    "\n",
    "dict_letkf_uhr_fcsts[key].shape"
   ]
  },
  {
   "attachments": {},
   "cell_type": "markdown",
   "id": "5cd741fd-c045-4174-a0e2-85704d4d060d",
   "metadata": {},
   "source": [
    "# Calc mae ratio"
   ]
  },
  {
   "cell_type": "code",
   "execution_count": null,
   "id": "5755c0c6-d657-4b51-925b-6df415501734",
   "metadata": {},
   "outputs": [],
   "source": [
    "selected_iz = [18, 19, 20, 21, 22]\n",
    "all_maer = {}"
   ]
  },
  {
   "cell_type": "code",
   "execution_count": null,
   "id": "8c582f34-5b7e-4ebf-be4c-0a277d17746c",
   "metadata": {
    "tags": []
   },
   "outputs": [],
   "source": [
    "lr_maer = []\n",
    "for ib in range(len(all_gt)):\n",
    "    _maer = calc_maer_averaging_over_selected_iz(\n",
    "        all_gt=all_gt[ib].unsqueeze(dim=0),\n",
    "        all_fcst=all_lr_fcst_uhr[ib].unsqueeze(dim=0),\n",
    "        selected_iz=selected_iz,\n",
    "    )\n",
    "    lr_maer.append(_maer)\n",
    "\n",
    "all_maer[\"lr\"] = torch.stack(lr_maer, dim=0)\n",
    "all_maer[\"lr\"].shape"
   ]
  },
  {
   "cell_type": "code",
   "execution_count": null,
   "id": "9d8480ba-52f8-436c-9a15-70ea07e24827",
   "metadata": {
    "tags": []
   },
   "outputs": [],
   "source": [
    "for m_model in dict_srda_uhr_fcsts.keys():\n",
    "    #\n",
    "    assert all_gt.shape == dict_srda_uhr_fcsts[m_model].shape\n",
    "\n",
    "    srda_maer = []\n",
    "    for ib in range(len(all_gt)):\n",
    "        _maer = calc_maer_averaging_over_selected_iz(\n",
    "            all_gt=all_gt[ib].unsqueeze(dim=0),\n",
    "            all_fcst=dict_srda_uhr_fcsts[m_model][ib].unsqueeze(dim=0),\n",
    "            selected_iz=selected_iz,\n",
    "        )\n",
    "        srda_maer.append(_maer)\n",
    "    srda_maer = torch.stack(srda_maer, dim=0)\n",
    "    all_maer[m_model] = srda_maer\n",
    "\n",
    "all_maer.keys(), all_maer[m_model].shape"
   ]
  },
  {
   "cell_type": "code",
   "execution_count": null,
   "id": "6d8dd5a6-9d92-44a1-a44a-9ba2abc634f5",
   "metadata": {
    "tags": []
   },
   "outputs": [],
   "source": [
    "for key in dict_letkf_uhr_fcsts.keys():\n",
    "    #\n",
    "    key_letkf = key\n",
    "    assert all_gt.shape == dict_letkf_uhr_fcsts[key].shape\n",
    "\n",
    "    letkf_maer = []\n",
    "    for ib in range(len(all_gt)):\n",
    "        _maer = calc_maer_averaging_over_selected_iz(\n",
    "            all_gt=all_gt[ib].unsqueeze(dim=0),\n",
    "            all_fcst=dict_letkf_uhr_fcsts[key][ib].unsqueeze(dim=0),\n",
    "            selected_iz=selected_iz,\n",
    "        )\n",
    "        letkf_maer.append(_maer)\n",
    "    letkf_maer = torch.stack(letkf_maer, dim=0)\n",
    "    all_maer[\"letkf\"] = letkf_maer\n",
    "\n",
    "all_maer.keys(), all_maer[\"letkf\"].shape"
   ]
  },
  {
   "attachments": {},
   "cell_type": "markdown",
   "id": "2ea280a0-3a50-454d-b3bb-4bdb2eec46af",
   "metadata": {},
   "source": [
    "# Calc mssim loss"
   ]
  },
  {
   "attachments": {},
   "cell_type": "markdown",
   "id": "683a342b-2f46-4238-9db9-edd2755481f1",
   "metadata": {},
   "source": [
    "## Normalization"
   ]
  },
  {
   "cell_type": "code",
   "execution_count": null,
   "id": "ce1c81d5-f0f2-41b1-816d-51b951c52ce8",
   "metadata": {
    "tags": []
   },
   "outputs": [],
   "source": [
    "pv_miv = cfg_srda.dataset_config.pv_min\n",
    "pv_max = cfg_srda.dataset_config.pv_max\n",
    "\n",
    "all_gt_norm = _preprocess(data=all_gt, pv_min=pv_miv, pv_max=pv_max, use_clipping=False)\n",
    "assert all_gt_norm.min() >= 0 and all_gt_norm.max() <= 1\n",
    "\n",
    "all_lr_fcst_norm = _preprocess(\n",
    "    data=all_lr_fcst_uhr, pv_min=pv_miv, pv_max=pv_max, use_clipping=False\n",
    ")\n",
    "assert all_lr_fcst_norm.min() >= 0 and all_lr_fcst_norm.max() <= 1\n",
    "\n",
    "dict_srda_uhr_fcsts_norm = {}\n",
    "\n",
    "for m_model in dict_srda_uhr_fcsts.keys():\n",
    "    dict_srda_uhr_fcsts_norm[m_model] = _preprocess(\n",
    "        dict_srda_uhr_fcsts[m_model], pv_min=pv_miv, pv_max=pv_max, use_clipping=False\n",
    "    )\n",
    "\n",
    "    # NaN を除外した上で、min と max を確認\n",
    "    valid_values = dict_srda_uhr_fcsts_norm[m_model][\n",
    "        ~torch.isnan(dict_srda_uhr_fcsts_norm[m_model])\n",
    "    ]\n",
    "\n",
    "    assert valid_values.min() >= 0 and valid_values.max() <= 1\n",
    "\n",
    "letkf_uhr_fcsts_norm = _preprocess(\n",
    "    data=dict_letkf_uhr_fcsts[key_letkf],\n",
    "    pv_min=pv_miv,\n",
    "    pv_max=pv_max,\n",
    "    use_clipping=False,\n",
    ")\n",
    "assert letkf_uhr_fcsts_norm.min() >= 0 and letkf_uhr_fcsts_norm.max() <= 1"
   ]
  },
  {
   "attachments": {},
   "cell_type": "markdown",
   "id": "c2281f44-1637-4674-ac72-4291dac0bdbe",
   "metadata": {},
   "source": [
    "## Uniform window"
   ]
  },
  {
   "cell_type": "code",
   "execution_count": null,
   "id": "7296d591-27ec-45c3-a822-6e960e175a52",
   "metadata": {
    "tags": []
   },
   "outputs": [],
   "source": [
    "num_batch = len(all_gt_norm)\n",
    "all_mssim_loss = {}"
   ]
  },
  {
   "cell_type": "code",
   "execution_count": null,
   "id": "2d26292c-3a7a-4c12-adc9-7ca35ed640a1",
   "metadata": {
    "tags": []
   },
   "outputs": [],
   "source": [
    "#\n",
    "mssim_loss_params = {\n",
    "    \"window_3d_size\": (5, 11, 11),\n",
    "    \"sigma_3d\": (0.7, 1.5, 1.5),\n",
    "    \"value_magnitude\": 1.0,\n",
    "    \"use_gaussian\": False,\n",
    "}\n",
    "\n",
    "# lr\n",
    "\n",
    "lr_mssim = []\n",
    "for ib in range(num_batch):\n",
    "    ssim = MSSIM(**mssim_loss_params)\n",
    "    _r = calc_mssim(\n",
    "        all_gt=all_gt_norm[ib, 1:].unsqueeze(0).to(DEVICE_GPU),\n",
    "        all_fcst=all_lr_fcst_norm[ib, 1:].unsqueeze(0).to(DEVICE_GPU),\n",
    "        mssim=ssim,\n",
    "    )\n",
    "    lr_mssim.append(_r.cpu())\n",
    "    #\n",
    "    del _r\n",
    "    torch.cuda.empty_cache()\n",
    "\n",
    "lr_mssim_loss = 1.0 - torch.stack(lr_mssim)\n",
    "all_mssim_loss[\"lr\"] = torch.mean(lr_mssim_loss[:, :, selected_iz], dim=2)\n",
    "\n",
    "# srda\n",
    "\n",
    "for m_model in dict_srda_uhr_fcsts_norm.keys():\n",
    "    #\n",
    "    srda_mssim = []\n",
    "    #\n",
    "    for ib in range(num_batch):\n",
    "        ssim = MSSIM(**mssim_loss_params)\n",
    "        _r = calc_mssim(\n",
    "            # fcst val is NaN at it = 0, so skip it by [ib, 1:]\n",
    "            all_gt=all_gt_norm[ib, 1:].unsqueeze(0).to(DEVICE_GPU),\n",
    "            all_fcst=dict_srda_uhr_fcsts_norm[m_model][ib, 1:]\n",
    "            .unsqueeze(0)\n",
    "            .to(DEVICE_GPU),\n",
    "            mssim=ssim,\n",
    "        )\n",
    "        srda_mssim.append(_r.cpu())\n",
    "        #\n",
    "        del _r\n",
    "        torch.cuda.empty_cache()\n",
    "\n",
    "    srda_mssim_loss = 1.0 - torch.stack(srda_mssim)\n",
    "    srda_mssim_loss = torch.mean(srda_mssim_loss[:, :, selected_iz], dim=2)\n",
    "    all_mssim_loss[m_model] = srda_mssim_loss\n",
    "\n",
    "# letkf\n",
    "\n",
    "letkf_mssim = []\n",
    "for ib in range(num_batch):\n",
    "    ssim = MSSIM(**mssim_loss_params)\n",
    "    _r = calc_mssim(\n",
    "        all_gt=all_gt_norm[ib, 1:].unsqueeze(0).to(DEVICE_GPU),\n",
    "        all_fcst=letkf_uhr_fcsts_norm[ib, 1:].unsqueeze(0).to(DEVICE_GPU),\n",
    "        mssim=ssim,\n",
    "    )\n",
    "    letkf_mssim.append(_r.cpu())\n",
    "    #\n",
    "    del _r\n",
    "    torch.cuda.empty_cache()\n",
    "\n",
    "letkf_mssim_loss = 1.0 - torch.stack(letkf_mssim)\n",
    "all_mssim_loss[\"letkf\"] = torch.mean(letkf_mssim_loss[:, :, selected_iz], dim=2)\n",
    "\n",
    "assert (\n",
    "    all_mssim_loss[\"lr\"].shape\n",
    "    == all_mssim_loss[m_model].shape\n",
    "    == all_mssim_loss[\"letkf\"].shape\n",
    ")\n",
    "\n",
    "all_mssim_loss[\"lr\"].shape"
   ]
  },
  {
   "attachments": {},
   "cell_type": "markdown",
   "id": "0c58b856-b3d7-452f-824c-67bd3ebb81a7",
   "metadata": {},
   "source": [
    "# Plot"
   ]
  },
  {
   "cell_type": "code",
   "execution_count": null,
   "id": "9f50fad1-5636-49a6-9913-bf9f2dbbb20b",
   "metadata": {
    "tags": []
   },
   "outputs": [],
   "source": [
    "plot_maer_and_mssim_loss(\n",
    "    dict_maer=all_maer,\n",
    "    dict_mssim_loss=all_mssim_loss,\n",
    "    time=time,\n",
    "    num_batch=num_batch,\n",
    "    first_peak_it=130,\n",
    "    second_peak_it=70,\n",
    "    list_fig_size_xy=[16, 6],\n",
    "    list_ylim_maer=[0.04, 0.20],\n",
    "    list_ylim_mssim_loss=[0.01, 0.10],\n",
    "    base_font_size=18,\n",
    "    num_xticks=6,\n",
    "    num_yticks=6,\n",
    "    save_fig=False,\n",
    ")"
   ]
  },
  {
   "cell_type": "code",
   "execution_count": null,
   "id": "199f98fd-7245-4280-9adb-fa1f88cd8f58",
   "metadata": {},
   "outputs": [],
   "source": []
  }
 ],
 "metadata": {
  "kernelspec": {
   "display_name": "Python 3 (ipykernel)",
   "language": "python",
   "name": "python3"
  },
  "language_info": {
   "codemirror_mode": {
    "name": "ipython",
    "version": 3
   },
   "file_extension": ".py",
   "mimetype": "text/x-python",
   "name": "python",
   "nbconvert_exporter": "python",
   "pygments_lexer": "ipython3",
   "version": "3.9.5"
  }
 },
 "nbformat": 4,
 "nbformat_minor": 5
}
