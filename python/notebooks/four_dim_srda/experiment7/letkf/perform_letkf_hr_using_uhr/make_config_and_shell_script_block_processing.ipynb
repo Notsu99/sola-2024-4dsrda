{
 "cells": [
  {
   "cell_type": "code",
   "execution_count": null,
   "id": "749178b6-09b1-4dc6-a5b1-ad9d0ae7a4b1",
   "metadata": {
    "tags": []
   },
   "outputs": [],
   "source": [
    "%load_ext autoreload\n",
    "%autoreload 2\n",
    "%matplotlib inline"
   ]
  },
  {
   "attachments": {},
   "cell_type": "markdown",
   "id": "0df1bdbb-d2f7-4790-ac0d-9f0f346191ad",
   "metadata": {},
   "source": [
    "# Import"
   ]
  },
  {
   "cell_type": "code",
   "execution_count": null,
   "id": "0122a5d1-9617-4015-a498-6e0f54753388",
   "metadata": {
    "tags": []
   },
   "outputs": [],
   "source": [
    "import sys\n",
    "from logging import INFO, StreamHandler, getLogger\n",
    "\n",
    "logger = getLogger()\n",
    "if not logger.hasHandlers():\n",
    "    logger.addHandler(StreamHandler(sys.stdout))\n",
    "logger.setLevel(INFO)"
   ]
  },
  {
   "cell_type": "code",
   "execution_count": null,
   "id": "9ce8f3ae-df97-4498-8c42-a95d9cab4997",
   "metadata": {
    "tags": []
   },
   "outputs": [],
   "source": [
    "import math\n",
    "import os\n",
    "import pathlib\n",
    "\n",
    "from jinja2 import Environment, FileSystemLoader\n",
    "from src.four_dim_srda.config.config_loader import load_config\n",
    "from src.four_dim_srda.config.experiment_config import CFDConfig\n",
    "from src.four_dim_srda.da.letkf_block_processing import LETKFBlockProcessingConfig"
   ]
  },
  {
   "attachments": {},
   "cell_type": "markdown",
   "id": "8bb3ff16-13f2-4e61-ac05-3049642c4cc0",
   "metadata": {},
   "source": [
    "# Define constant"
   ]
  },
  {
   "cell_type": "code",
   "execution_count": null,
   "id": "6b4a8455-a0b9-4bcb-8eae-04a3aa7f3deb",
   "metadata": {
    "tags": []
   },
   "outputs": [],
   "source": [
    "ROOT_DIR = pathlib.Path(os.environ[\"PYTHONPATH\"]).parent.resolve()\n",
    "\n",
    "experiment_name = \"experiment7\"\n",
    "\n",
    "CFG_DIR = f\"{ROOT_DIR}/python/configs/four_dim_srda/{experiment_name}\"\n",
    "\n",
    "cfg_cfd_path = (\n",
    "    f\"{CFG_DIR}/cfd_simulation/qg_model/gpu_make_data_config.yml\"\n",
    ")\n",
    "CFG_LETKF_DIR = f\"{CFG_DIR}/perform_letkf_hr_using_uhr\"\n",
    "os.makedirs(CFG_LETKF_DIR, exist_ok=True)"
   ]
  },
  {
   "cell_type": "code",
   "execution_count": null,
   "id": "19b69ce7-8733-4aa7-a34e-64a8a2ef4d12",
   "metadata": {
    "tags": []
   },
   "outputs": [],
   "source": [
    "SCRIPT_DIR = f\"{ROOT_DIR}/python/bash/four_dim_srda/{experiment_name}/letkf_simulation/perform_letkf_hr_using_uhr/es\"\n",
    "\n",
    "SCRIPT_NARROW_JET_DIR = f\"{SCRIPT_DIR}/use_narrow_jet\"\n",
    "\n",
    "os.makedirs(SCRIPT_DIR, exist_ok=True)\n",
    "os.makedirs(SCRIPT_NARROW_JET_DIR, exist_ok=True)"
   ]
  },
  {
   "cell_type": "code",
   "execution_count": null,
   "id": "2d1f14ff-a110-4900-8924-96e3876c3181",
   "metadata": {
    "tags": []
   },
   "outputs": [],
   "source": [
    "srda_model_name = \"UNetMaxVitVer01\"\n",
    "\n",
    "ogx = 8\n",
    "ogy = 8\n",
    "\n",
    "# srda\n",
    "bea_values = [2]\n",
    "bed_values = [2]\n",
    "dspe_values = [360]\n",
    "nsls_values = [100]\n",
    "ogx_srda_values = [ogx]\n",
    "ogy_srda_values = [ogy]\n",
    "\n",
    "n3drb_values = [3]\n",
    "nmb_values = [6]\n",
    "bias_values = [0]\n",
    "\n",
    "bs_srda_values = [12]\n",
    "lre_values = [\"1e-04\"]\n",
    "\n",
    "list_cfg_srda_name = [\n",
    "    (\n",
    "        f\"bea{bea}_bed{bed}_dspe{dspe_value}_nsls{nsls}_\"\n",
    "        f\"ogx{ogx:02}_ogy{ogy:02}_n3drb{n3drb}_nmb{nmb}_bias{bias}_\"\n",
    "        f\"bs{bs:02}_lr{lre}\"\n",
    "    )\n",
    "    for bea, bed, dspe_value, nsls, ogx, ogy, n3drb, nmb, bias, bs, lre in zip(\n",
    "        bea_values,\n",
    "        bed_values,\n",
    "        dspe_values,\n",
    "        nsls_values,\n",
    "        ogx_srda_values,\n",
    "        ogy_srda_values,\n",
    "        n3drb_values,\n",
    "        nmb_values,\n",
    "        bias_values,\n",
    "        bs_srda_values,\n",
    "        lre_values,\n",
    "    )\n",
    "]\n",
    "\n",
    "# config srda\n",
    "CFG_SRDA_PATH = f\"{CFG_DIR}/perform_4D_SRDA/{srda_model_name}/{list_cfg_srda_name[0]}.yml\"\n",
    "cfg_srda = load_config(model_name=srda_model_name, config_path=CFG_SRDA_PATH)"
   ]
  },
  {
   "attachments": {},
   "cell_type": "markdown",
   "id": "96a74baa-28ae-40a5-9775-aeb464dd9172",
   "metadata": {},
   "source": [
    "# Define methods"
   ]
  },
  {
   "cell_type": "code",
   "execution_count": null,
   "id": "ab71963d-2935-4da6-89e3-cbf1a3ee966a",
   "metadata": {},
   "outputs": [],
   "source": [
    "def format_param(value):\n",
    "    exponent = int(math.floor(math.log10(abs(value))))\n",
    "    mantissa = value / (10 ** exponent)\n",
    "    mantissa_int = int(round(mantissa * 100))\n",
    "    exponent -= 2\n",
    "\n",
    "    while mantissa_int % 10 == 0 and mantissa_int != 0:\n",
    "        mantissa_int //= 10\n",
    "        exponent += 1\n",
    "\n",
    "    return f\"{mantissa_int}e{exponent:+03d}\""
   ]
  },
  {
   "cell_type": "code",
   "execution_count": null,
   "id": "638dc061-ef79-4b07-8ae4-e935697a7d91",
   "metadata": {},
   "outputs": [],
   "source": [
    "def make_cfg_and_script(\n",
    "    *,\n",
    "    cfg_cfd,\n",
    "    cfg_letkf,\n",
    "    cfg_srda,\n",
    "    experiment_name,\n",
    "    model_name,\n",
    "    cfg_letkf_dir,\n",
    "    script_dir,\n",
    "    script_narrow_jet_dir,\n",
    "):\n",
    "    #\n",
    "    assert cfg_letkf.obs_grid_interval_x == cfg_srda.dataset_config.obs_grid_interval_x\n",
    "    assert cfg_letkf.obs_grid_interval_y == cfg_srda.dataset_config.obs_grid_interval_y\n",
    "\n",
    "    #\n",
    "    ogx = f\"{cfg_letkf.obs_grid_interval_x:02}\"\n",
    "    ogy = f\"{cfg_letkf.obs_grid_interval_y:02}\"\n",
    "\n",
    "    # CFD\n",
    "    ne = f\"{cfg_cfd.hr_base_config.n_batch}\"\n",
    "    na = format_param(cfg_cfd.hr_base_config.noise_amplitude)\n",
    "    cfg_cfd.save(\n",
    "        pathlib.Path(\n",
    "            f\"{cfg_letkf_dir}/cfd_cfg_ne{ne}_na{na}.yml\"\n",
    "        )\n",
    "    )\n",
    "    # LETKF\n",
    "    ch = format_param(cfg_letkf.cylinder_height)\n",
    "    cr = format_param(cfg_letkf.cylinder_radius)\n",
    "    inf_f = format_param(cfg_letkf.inflation_factor)\n",
    "    lr = format_param(cfg_letkf.localization_radius)\n",
    "    bs = f\"{cfg_letkf.block_size}\"\n",
    "\n",
    "    cfg_letkf.save(\n",
    "        pathlib.Path(\n",
    "            f\"{cfg_letkf_dir}/letkf_cfg_ogx{ogx}_ogy{ogy}_ne{ne}_ch{ch}_cr{cr}_if{inf_f}_lr{lr}_bs{bs}.yml\"\n",
    "        )\n",
    "    )\n",
    "\n",
    "    # SRDA model parameters\n",
    "    bea = int(cfg_srda.dataset_config.beta_dist_alpha)\n",
    "    bed = int(cfg_srda.dataset_config.beta_dist_beta)\n",
    "    dspe = cfg_srda.dataset_config.data_size_per_epoch\n",
    "    nsls = cfg_srda.dataset_config.num_searched_lr_states\n",
    "\n",
    "    n3drb = cfg_srda.model_config.num_3d_resnet_block\n",
    "    nmb = cfg_srda.model_config.num_maxvit_block\n",
    "    bias = int(cfg_srda.model_config.bias)\n",
    "\n",
    "    bs_srda = cfg_srda.dataloader_config.batch_size\n",
    "\n",
    "    lr_srda = format_param(cfg_srda.train_config.lr)\n",
    "\n",
    "    #\n",
    "    context = {\n",
    "        #\n",
    "        \"experiment_name\": experiment_name,\n",
    "        \"ogx\": ogx,\n",
    "        \"ogy\": ogy,\n",
    "\n",
    "        # CFD\n",
    "        \"ens\": ne,\n",
    "        \"na\": na,\n",
    "\n",
    "        # LETKF\n",
    "        \"ch\": ch,\n",
    "        \"cr\": cr,\n",
    "        \"inf\": inf_f,\n",
    "        \"lr\": lr,\n",
    "        \"bs\": bs,\n",
    "\n",
    "        # SRDA\n",
    "        \"model_name\": model_name,\n",
    "        #\n",
    "        \"bea\": bea,\n",
    "        \"bed\": bed,\n",
    "        \"dspe\": dspe,\n",
    "        \"nsls\": nsls,\n",
    "        #\n",
    "        \"n3drb\": n3drb,\n",
    "        \"nmb\": nmb,\n",
    "        \"bias\": bias,\n",
    "        #\n",
    "        \"bs_srda\": bs_srda,\n",
    "        \"lr_srda\": lr_srda,\n",
    "    }\n",
    "\n",
    "    # Set up Jinja2 environment\n",
    "    env = Environment(\n",
    "        loader=FileSystemLoader(f\"{script_dir}\"), trim_blocks=True, lstrip_blocks=True\n",
    "    )\n",
    "\n",
    "    # Load and render template\n",
    "    template = env.get_template(\"template.sh.j2\")\n",
    "    rendered_script = template.render(context)\n",
    "\n",
    "    # Generate script\n",
    "    output_file = f\"{script_dir}/na{na}_letkf_cfg_ogx{ogx}_ogy{ogy}_ne{ne}_ch{ch}_cr{cr}_if{inf_f}_lr{lr}_bs{bs}.sh\"\n",
    "    with open(output_file, \"w\") as f:\n",
    "        f.write(rendered_script)\n",
    "\n",
    "    # Grant execution permission\n",
    "    os.chmod(output_file, 0o740)\n",
    "\n",
    "    # Set up Jinja2 environment\n",
    "    env = Environment(\n",
    "        loader=FileSystemLoader(f\"{script_narrow_jet_dir}\"), trim_blocks=True, lstrip_blocks=True\n",
    "    )\n",
    "\n",
    "    # Load and render narrow jet template\n",
    "    template = env.get_template(\"template_using_narrow_jet.sh.j2\")\n",
    "    rendered_script = template.render(context)\n",
    "\n",
    "    # Generate narrow jet script\n",
    "    output_file = f\"{script_narrow_jet_dir}/na{na}_letkf_cfg_ogx{ogx}_ogy{ogy}_ne{ne}_ch{ch}_cr{cr}_if{inf_f}_lr{lr}_bs{bs}.sh\"\n",
    "    with open(output_file, \"w\") as f:\n",
    "        f.write(rendered_script)\n",
    "\n",
    "    # Grant execution permission\n",
    "    os.chmod(output_file, 0o740)\n"
   ]
  },
  {
   "attachments": {},
   "cell_type": "markdown",
   "id": "ef60cf3b-0121-423a-b02b-e3ff942da25d",
   "metadata": {},
   "source": [
    "# Make"
   ]
  },
  {
   "cell_type": "code",
   "execution_count": null,
   "id": "e54d055e-6f8f-4e6e-8075-4688f3304169",
   "metadata": {
    "tags": []
   },
   "outputs": [],
   "source": [
    "# CFD\n",
    "\n",
    "cfg_cfd = CFDConfig.load(pathlib.Path(cfg_cfd_path))\n",
    "cfg_cfd.hr_base_config.n_batch = 100\n",
    "cfg_cfd.hr_base_config.noise_amplitude = 3e-3\n",
    "# logger.info(f\"Input config of CFD model = {cfg_cfd.to_json_str()}\")"
   ]
  },
  {
   "cell_type": "code",
   "execution_count": null,
   "id": "9ab9443a-7e18-4da8-b37d-06d947b8a135",
   "metadata": {},
   "outputs": [],
   "source": [
    "# LETKF\n",
    "\n",
    "data_dir = f\"{experiment_name}/cfd_simulation/qg_model/hr_pv\"\n",
    "cfg_letkf = LETKFBlockProcessingConfig(\n",
    "    data_dir=data_dir,\n",
    "    train_valid_test_kinds=\"train\",\n",
    "    train_valid_test_ratios=[0.7, 0.2, 0.1],\n",
    "    num_simulation=1,\n",
    "    nx=cfg_cfd.hr_base_config.nx,\n",
    "    ny=cfg_cfd.hr_base_config.ny,\n",
    "    nz=cfg_cfd.hr_base_config.nz,\n",
    "    num_ens=cfg_cfd.hr_base_config.n_batch,\n",
    "    obs_grid_interval_x=ogx,\n",
    "    obs_grid_interval_y=ogy,\n",
    "    obs_noise_std=0.022,\n",
    "    cylinder_radius=6.0,\n",
    "    cylinder_height=1.6e-3,\n",
    "    inflation_factor=1.2,\n",
    "    localization_radius=5.7,\n",
    "    block_size=6,\n",
    ")"
   ]
  },
  {
   "cell_type": "code",
   "execution_count": null,
   "id": "033b5034-bf5e-45a7-aac2-38476b08f030",
   "metadata": {},
   "outputs": [],
   "source": [
    "make_cfg_and_script(\n",
    "    cfg_cfd=cfg_cfd,\n",
    "    cfg_letkf=cfg_letkf,\n",
    "    cfg_srda=cfg_srda,\n",
    "    experiment_name=experiment_name,\n",
    "    model_name=srda_model_name,\n",
    "    cfg_letkf_dir=CFG_LETKF_DIR,\n",
    "    script_dir=SCRIPT_DIR,\n",
    "    script_narrow_jet_dir=SCRIPT_NARROW_JET_DIR,\n",
    ")"
   ]
  },
  {
   "cell_type": "code",
   "execution_count": null,
   "id": "5e629478-259e-42c8-bbd2-1da94893dcb0",
   "metadata": {},
   "outputs": [],
   "source": []
  }
 ],
 "metadata": {
  "kernelspec": {
   "display_name": "Python 3 (ipykernel)",
   "language": "python",
   "name": "python3"
  },
  "language_info": {
   "codemirror_mode": {
    "name": "ipython",
    "version": 3
   },
   "file_extension": ".py",
   "mimetype": "text/x-python",
   "name": "python",
   "nbconvert_exporter": "python",
   "pygments_lexer": "ipython3",
   "version": "3.9.5"
  }
 },
 "nbformat": 4,
 "nbformat_minor": 5
}
