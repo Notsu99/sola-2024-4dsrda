{
 "cells": [
  {
   "cell_type": "code",
   "execution_count": null,
   "id": "b08e541a-6c1f-40f6-a823-0cdd53e027cb",
   "metadata": {
    "tags": []
   },
   "outputs": [],
   "source": [
    "%load_ext autoreload\n",
    "%autoreload 2\n",
    "%matplotlib inline"
   ]
  },
  {
   "attachments": {},
   "cell_type": "markdown",
   "id": "c2a0775a-4908-4fc5-95d8-2e6d014f9bf2",
   "metadata": {},
   "source": [
    "# Import libraries"
   ]
  },
  {
   "cell_type": "code",
   "execution_count": null,
   "id": "f38da3b4-ab94-4dc0-8c39-14e9f3b5fec5",
   "metadata": {
    "tags": []
   },
   "outputs": [],
   "source": [
    "import sys\n",
    "from logging import INFO, StreamHandler, getLogger\n",
    "\n",
    "logger = getLogger()\n",
    "if not logger.hasHandlers():\n",
    "    logger.addHandler(StreamHandler(sys.stdout))\n",
    "logger.setLevel(INFO)"
   ]
  },
  {
   "cell_type": "code",
   "execution_count": null,
   "id": "870761d2-a503-4bc1-b635-224d0cdd96dd",
   "metadata": {
    "tags": []
   },
   "outputs": [],
   "source": [
    "import os\n",
    "import pathlib\n",
    "\n",
    "import matplotlib.pyplot as plt\n",
    "import numpy as np\n",
    "import torch\n",
    "from src.four_dim_srda.config.config_loader import load_config\n",
    "from src.four_dim_srda.config.experiment_config import CFDConfig\n",
    "from src.four_dim_srda.utils.calc_statistics import (\n",
    "    calc_maer,\n",
    "    calc_maer_averaging_over_selected_iz,\n",
    "    calc_mssim,\n",
    ")\n",
    "from src.four_dim_srda.utils.io_pickle import write_pickle\n",
    "from src.four_dim_srda.utils.ssim import MSSIM\n",
    "from src.four_dim_srda.utils.torch_interpolator import (\n",
    "    interpolate_2d,\n",
    "    interpolate_along_z,\n",
    ")\n",
    "from src.qg_model.qg_model import QGModel\n",
    "\n",
    "plt.rcParams[\"font.family\"] = \"serif\""
   ]
  },
  {
   "attachments": {},
   "cell_type": "markdown",
   "id": "f54fd779-f742-4ed9-bbcd-575a7812c438",
   "metadata": {},
   "source": [
    "# Define constants"
   ]
  },
  {
   "cell_type": "code",
   "execution_count": null,
   "id": "e629f2a3-afac-4f38-b439-cc58792f89e1",
   "metadata": {
    "tags": []
   },
   "outputs": [],
   "source": [
    "ROOT_DIR = pathlib.Path(os.environ[\"PYTHONPATH\"]).parent.resolve()"
   ]
  },
  {
   "cell_type": "code",
   "execution_count": null,
   "id": "53dffae9-0da2-4525-ab43-0e06e9ce0a18",
   "metadata": {
    "tags": []
   },
   "outputs": [],
   "source": [
    "experiment_name = \"experiment7\""
   ]
  },
  {
   "cell_type": "code",
   "execution_count": null,
   "id": "52632b59-4e51-4566-866b-8867122ba055",
   "metadata": {
    "tags": []
   },
   "outputs": [],
   "source": [
    "# model_names = [\"ConvTransNetVer01\", \"UNetMaxVitVer01\", \"UNetVitVer02\"]\n",
    "model_names = [\"ConvTransNetVer01\", \"UNetMaxVitVer01\"]\n",
    "\n",
    "CFG_DIR = f\"{ROOT_DIR}/python/configs/four_dim_srda/{experiment_name}\"\n",
    "\n",
    "# srda\n",
    "dict_cfg_srda_name = {}\n",
    "for m_name in model_names:\n",
    "    if m_name == \"ConvTransNetVer01\":\n",
    "        dict_cfg_srda_name[\n",
    "            m_name\n",
    "        ] = \"bea2_bed2_dspe360_nsls100_ogx08_ogy08_bias1_bs12_lr1e-04\"\n",
    "    #\n",
    "    elif m_name == \"UNetMaxVitVer01\":\n",
    "        dict_cfg_srda_name[\n",
    "            m_name\n",
    "        ] = \"bea2_bed2_dspe360_nsls100_ogx08_ogy08_n3drb3_nmb6_bias0_bs12_lr1e-04\"\n",
    "    #\n",
    "    elif m_name == \"UNetVitVer02\":\n",
    "        dict_cfg_srda_name[\n",
    "            m_name\n",
    "        ] = \"bea2_bed2_dspe360_nsls100_ogx08_ogy08_n3drb3_nvb4_bias0_vits0_bs12_lr1e-04\"\n",
    "\n",
    "# config srda\n",
    "CFG_SRDA_PATH = f\"{CFG_DIR}/perform_4D_SRDA/{model_names[0]}/{dict_cfg_srda_name[model_names[0]]}.yml\"\n",
    "\n",
    "\n",
    "cfg_srda = load_config(model_name=model_names[0], config_path=CFG_SRDA_PATH)\n",
    "\n",
    "# config cfd\n",
    "CFG_CFD_PATH = f\"{CFG_DIR}/cfd_simulation/qg_model/gpu_evaluation_config.yml\"\n",
    "\n",
    "cfg_cfd = CFDConfig.load(pathlib.Path(CFG_CFD_PATH))\n",
    "\n",
    "DEVICE_CPU = \"cpu\"\n",
    "DEVICE_GPU = torch.device(\"cuda\") if torch.cuda.is_available() else None\n",
    "\n",
    "cfg_cfd.lr_base_config.device = (\n",
    "    cfg_cfd.hr_base_config.device\n",
    ") = cfg_cfd.uhr_base_config.device = DEVICE_CPU\n",
    "\n",
    "dict_cfg_srda_name"
   ]
  },
  {
   "cell_type": "code",
   "execution_count": null,
   "id": "61afdda9-919d-4f41-84a3-68f0ff934fb3",
   "metadata": {
    "tags": []
   },
   "outputs": [],
   "source": [
    "cfg_letkf_name = (\n",
    "    \"na3e-03_letkf_cfg_ogx08_ogy08_ne100_ch16e-04_cr6e+00_if12e-01_lr57e-01_bs6\"\n",
    ")"
   ]
  },
  {
   "cell_type": "code",
   "execution_count": null,
   "id": "a4744ed6-87c7-4062-a3cb-a1b6069c2e6a",
   "metadata": {
    "tags": []
   },
   "outputs": [],
   "source": [
    "uhr_model = QGModel(cfg_cfd.uhr_base_config, show_input_cfg_info=False)"
   ]
  },
  {
   "cell_type": "code",
   "execution_count": null,
   "id": "55820792-187f-432f-b22d-c553abd8b6e6",
   "metadata": {
    "tags": []
   },
   "outputs": [],
   "source": [
    "DATA_DIR = f\"{ROOT_DIR}/data/four_dim_srda\"\n",
    "\n",
    "LR_DATA_DIR = f\"{DATA_DIR}/{experiment_name}/cfd_simulation/qg_model/lr_pv_narrow_jet\"\n",
    "UHR_DATA_DIR = f\"{DATA_DIR}/{experiment_name}/cfd_simulation/qg_model/uhr_pv_narrow_jet\""
   ]
  },
  {
   "cell_type": "code",
   "execution_count": null,
   "id": "94099c79-08a8-43ba-afaf-05ecf0164e93",
   "metadata": {
    "tags": []
   },
   "outputs": [],
   "source": [
    "_result_dir = f\"{ROOT_DIR}/python/results/four_dim_srda/{experiment_name}\"\n",
    "RESULT_DIR = f\"{_result_dir}/analysis/use_narrow_jet/store_only_forecast\""
   ]
  },
  {
   "cell_type": "code",
   "execution_count": null,
   "id": "16ce2b41-ab1f-4156-8946-f1b4e35685c9",
   "metadata": {
    "tags": []
   },
   "outputs": [],
   "source": [
    "ASSIMILATION_PERIOD = (\n",
    "    cfg_cfd.da_config.segment_length - cfg_cfd.da_config.forecast_span - 1\n",
    ")\n",
    "FORECAST_SPAN = cfg_cfd.da_config.forecast_span\n",
    "# In this research, FORECAST_SPAN_LR = FORECAST_SPAN // 4\n",
    "FORECAST_SPAN_LR = FORECAST_SPAN // 4\n",
    "\n",
    "NUM_TIMES = (\n",
    "    cfg_srda.dataset_config.max_start_time_index + ASSIMILATION_PERIOD + FORECAST_SPAN\n",
    ")\n",
    "NUM_TIMES_LR = cfg_cfd.time_config.end_time"
   ]
  },
  {
   "attachments": {},
   "cell_type": "markdown",
   "id": "15c36293-9b9e-4b4b-9125-48be9dc0048f",
   "metadata": {},
   "source": [
    "# Define methods"
   ]
  },
  {
   "cell_type": "code",
   "execution_count": null,
   "id": "54830e38-5d7c-45c1-a0a9-46b96aefc60b",
   "metadata": {
    "tags": []
   },
   "outputs": [],
   "source": [
    "def _preprocess(\n",
    "    data: torch.Tensor, pv_min: float, pv_max: float, use_clipping: bool = False\n",
    ") -> torch.Tensor:\n",
    "    #\n",
    "    # batch, time, z, y, x dims\n",
    "    assert data.ndim == 5\n",
    "\n",
    "    # normalization\n",
    "    data = (data - pv_min) / (pv_max - pv_min)\n",
    "\n",
    "    if use_clipping:\n",
    "        data = torch.clamp(data, min=0.0, max=1.0)\n",
    "\n",
    "    return data"
   ]
  },
  {
   "attachments": {},
   "cell_type": "markdown",
   "id": "c06a036f-631d-4841-9a8d-8474f1cbfdc3",
   "metadata": {},
   "source": [
    "# Prepare data"
   ]
  },
  {
   "cell_type": "code",
   "execution_count": null,
   "id": "21e32b2a-2697-4012-9954-ac8dd58991e8",
   "metadata": {
    "tags": []
   },
   "outputs": [],
   "source": [
    "# Set it to use only data at last forecast time\n",
    "t_slice = FORECAST_SPAN"
   ]
  },
  {
   "cell_type": "code",
   "execution_count": null,
   "id": "02777b7c-967e-4dd6-a805-ab10c8b832e6",
   "metadata": {
    "tags": []
   },
   "outputs": [],
   "source": [
    "# SRDA's results have NaN at it = 0, 1, ..., FORECAST_SPAN, so skip them\n",
    "# And only the last forecast in one cycle is needed\n",
    "# So, we set 2 * FORECAST_SPAN\n",
    "\n",
    "all_gt = []\n",
    "for i_seed_uhr in range(\n",
    "    cfg_cfd.seed_config.uhr_seed_start, cfg_cfd.seed_config.uhr_seed_end + 1\n",
    "):\n",
    "    uhr_data_path = f\"{UHR_DATA_DIR}/seed{i_seed_uhr:05}/seed{i_seed_uhr:05}_start000_end800_uhr_pv.npy\"\n",
    "    gt = np.load(f\"{uhr_data_path}\")\n",
    "    gt = torch.from_numpy(gt[2 * FORECAST_SPAN : NUM_TIMES : t_slice])\n",
    "    all_gt.append(gt)\n",
    "\n",
    "all_gt = torch.stack(all_gt, dim=0)\n",
    "all_gt.shape, all_gt.dtype"
   ]
  },
  {
   "cell_type": "code",
   "execution_count": null,
   "id": "6abfad2c-cdf9-491a-ab50-04fc4f92e1ea",
   "metadata": {},
   "outputs": [],
   "source": [
    "all_lr_fcst = []\n",
    "for i_seed_uhr in range(\n",
    "    cfg_cfd.seed_config.uhr_seed_start, cfg_cfd.seed_config.uhr_seed_end + 1\n",
    "):\n",
    "    lr_data_path = f\"{LR_DATA_DIR}/seed{i_seed_uhr:05}/seed{i_seed_uhr:05}_start000_end200_lr_pv.npy\"\n",
    "    lr_fcst = np.load(f\"{lr_data_path}\")\n",
    "    lr_fcst = torch.from_numpy(lr_fcst[2 * FORECAST_SPAN_LR : NUM_TIMES_LR])\n",
    "    all_lr_fcst.append(lr_fcst)\n",
    "\n",
    "all_lr_fcst = torch.stack(all_lr_fcst, dim=0)\n",
    "all_lr_fcst.shape, all_lr_fcst.dtype"
   ]
  },
  {
   "cell_type": "code",
   "execution_count": null,
   "id": "2f2ee072-73b3-42f1-835c-fbcecc13f984",
   "metadata": {
    "tags": []
   },
   "outputs": [],
   "source": [
    "dict_srda_fcsts = {}\n",
    "for m_name in dict_cfg_srda_name.keys():\n",
    "    srda_hr_fcst = []\n",
    "    #\n",
    "    for i_seed_uhr in range(\n",
    "        cfg_cfd.seed_config.uhr_seed_start, cfg_cfd.seed_config.uhr_seed_end + 1\n",
    "    ):\n",
    "        _path = f\"{_result_dir}/srda/{m_name}/use_narrow_jet/store_only_forecast/{dict_cfg_srda_name[m_name]}/UHR_seed_{i_seed_uhr:05}.npz\"\n",
    "        _result_npz = np.load(_path)\n",
    "        _srda_hr_fcst = torch.from_numpy(\n",
    "            _result_npz[\"srda_forecast\"][2 * FORECAST_SPAN : NUM_TIMES : t_slice]\n",
    "        )\n",
    "        srda_hr_fcst.append(_srda_hr_fcst)\n",
    "    #\n",
    "    srda_hr_fcst = torch.stack(srda_hr_fcst, dim=0)\n",
    "    dict_srda_fcsts[m_name] = srda_hr_fcst\n",
    "\n",
    "dict_srda_fcsts[m_name].shape, dict_srda_fcsts[m_name].dtype, dict_srda_fcsts.keys()"
   ]
  },
  {
   "cell_type": "code",
   "execution_count": null,
   "id": "969ec59e-5074-4872-8f76-f2a6f70ed37b",
   "metadata": {
    "tags": []
   },
   "outputs": [],
   "source": [
    "dict_srda_lr = {}\n",
    "for m_name in dict_cfg_srda_name.keys():\n",
    "    srda_lr = []\n",
    "    #\n",
    "    for i_seed_uhr in range(\n",
    "        cfg_cfd.seed_config.uhr_seed_start, cfg_cfd.seed_config.uhr_seed_end + 1\n",
    "    ):\n",
    "        # The path is intentionally modified\n",
    "        # because the srda_lr's result at current time in one inference cycle is needed\n",
    "        _path = f\"{_result_dir}/srda/{m_name}/use_narrow_jet/{dict_cfg_srda_name[m_name]}/UHR_seed_{i_seed_uhr:05}.npz\"\n",
    "        _result_npz = np.load(_path)\n",
    "        _srda_lr = torch.from_numpy(\n",
    "            _result_npz[\"all_lr_forecast\"][2 * FORECAST_SPAN_LR :]\n",
    "        ).to(torch.float32)\n",
    "        srda_lr.append(_srda_lr)\n",
    "    #\n",
    "    srda_lr = torch.stack(srda_lr, dim=0)\n",
    "    dict_srda_lr[m_name] = srda_lr\n",
    "\n",
    "dict_srda_lr[m_name].shape, dict_srda_lr[m_name].dtype, dict_srda_lr.keys()"
   ]
  },
  {
   "cell_type": "code",
   "execution_count": null,
   "id": "aa65580f-b522-4470-a8db-600c76442f0a",
   "metadata": {
    "tags": []
   },
   "outputs": [],
   "source": [
    "_path = f\"{_result_dir}/letkf/perform_letkf_hr_using_uhr/use_narrow_jet/store_only_forecast/{cfg_letkf_name}/all_letkf_fcst.npy\"\n",
    "letkf_hr_fcsts = np.load(_path)\n",
    "letkf_hr_fcsts = torch.from_numpy(letkf_hr_fcsts[:, 2 * FORECAST_SPAN :: t_slice, ...])\n",
    "\n",
    "letkf_hr_fcsts.shape"
   ]
  },
  {
   "cell_type": "code",
   "execution_count": null,
   "id": "80a676a5-baa0-428a-ba68-ecc903d60c3b",
   "metadata": {},
   "outputs": [],
   "source": [
    "# interpolation\n",
    "\n",
    "all_lr_fcst_uhr = []\n",
    "\n",
    "for ib in range(len(all_lr_fcst)):\n",
    "    _tmp = interpolate_2d(\n",
    "        data=all_lr_fcst[ib],\n",
    "        nx=cfg_cfd.uhr_base_config.nx,\n",
    "        ny=cfg_cfd.uhr_base_config.ny,\n",
    "        mode=\"nearest-exact\",\n",
    "    )\n",
    "    _lr_fcst_uhr = interpolate_along_z(\n",
    "        data=_tmp,\n",
    "        nz=cfg_cfd.uhr_base_config.nz,\n",
    "        mode=\"nearest-exact\",\n",
    "    )\n",
    "    all_lr_fcst_uhr.append(_lr_fcst_uhr)\n",
    "#\n",
    "all_lr_fcst_uhr = torch.stack(all_lr_fcst_uhr, dim=0)\n",
    "assert all_gt.shape == all_lr_fcst_uhr.shape\n",
    "\n",
    "all_lr_fcst_uhr.shape"
   ]
  },
  {
   "cell_type": "code",
   "execution_count": null,
   "id": "500a1e89-5cc1-44fe-8fce-84bdcebffeaf",
   "metadata": {
    "tags": []
   },
   "outputs": [],
   "source": [
    "# interpolation\n",
    "\n",
    "dict_srda_uhr_fcsts = {}\n",
    "for m_model in dict_srda_fcsts.keys():\n",
    "    srda_uhr_fcsts = []\n",
    "    for ib in range(len(dict_srda_fcsts[m_model])):\n",
    "        _tmp = interpolate_2d(\n",
    "            data=dict_srda_fcsts[m_model][ib],\n",
    "            nx=cfg_cfd.uhr_base_config.nx,\n",
    "            ny=cfg_cfd.uhr_base_config.ny,\n",
    "            mode=\"nearest-exact\",\n",
    "        )\n",
    "        _srda_uhr_fcst = interpolate_along_z(\n",
    "            data=_tmp,\n",
    "            nz=cfg_cfd.uhr_base_config.nz,\n",
    "            mode=\"nearest-exact\",\n",
    "        )\n",
    "        srda_uhr_fcsts.append(_srda_uhr_fcst)\n",
    "    #\n",
    "    srda_uhr_fcsts = torch.stack(srda_uhr_fcsts, dim=0)\n",
    "    assert all_gt.shape == srda_uhr_fcsts.shape\n",
    "\n",
    "    dict_srda_uhr_fcsts[m_model] = srda_uhr_fcsts\n",
    "\n",
    "dict_srda_uhr_fcsts[m_model].shape"
   ]
  },
  {
   "cell_type": "code",
   "execution_count": null,
   "id": "1414ffc2-d358-4903-ba93-6cfe2a8cdcda",
   "metadata": {
    "tags": []
   },
   "outputs": [],
   "source": [
    "# interpolation\n",
    "\n",
    "dict_srda_lr_uhr = {}\n",
    "for m_model in dict_srda_lr.keys():\n",
    "    srda_lr_uhr = []\n",
    "    for ib in range(len(dict_srda_lr[m_model])):\n",
    "        _tmp = interpolate_2d(\n",
    "            data=dict_srda_lr[m_model][ib],\n",
    "            nx=cfg_cfd.uhr_base_config.nx,\n",
    "            ny=cfg_cfd.uhr_base_config.ny,\n",
    "            mode=\"nearest-exact\",\n",
    "        )\n",
    "        _srda_lr_uhr = interpolate_along_z(\n",
    "            data=_tmp,\n",
    "            nz=cfg_cfd.uhr_base_config.nz,\n",
    "            mode=\"nearest-exact\",\n",
    "        )\n",
    "        srda_lr_uhr.append(_srda_lr_uhr)\n",
    "    #\n",
    "    srda_lr_uhr = torch.stack(srda_lr_uhr, dim=0)\n",
    "    assert all_gt.shape == srda_lr_uhr.shape\n",
    "\n",
    "    dict_srda_lr_uhr[m_model] = srda_lr_uhr\n",
    "\n",
    "dict_srda_lr_uhr[m_model].shape"
   ]
  },
  {
   "cell_type": "code",
   "execution_count": null,
   "id": "6bea7b2f-895b-49cc-81e3-8994f17b0f66",
   "metadata": {
    "tags": []
   },
   "outputs": [],
   "source": [
    "# interpolation\n",
    "\n",
    "letkf_uhr_fcsts = []\n",
    "for ib in range(len(letkf_hr_fcsts)):\n",
    "    _tmp = interpolate_2d(\n",
    "        data=letkf_hr_fcsts[ib],\n",
    "        nx=cfg_cfd.uhr_base_config.nx,\n",
    "        ny=cfg_cfd.uhr_base_config.ny,\n",
    "        mode=\"nearest-exact\",\n",
    "    )\n",
    "    _letkf_uhr_fcsts = interpolate_along_z(\n",
    "        data=_tmp,\n",
    "        nz=cfg_cfd.uhr_base_config.nz,\n",
    "        mode=\"nearest-exact\",\n",
    "    )\n",
    "    letkf_uhr_fcsts.append(_letkf_uhr_fcsts)\n",
    "\n",
    "letkf_uhr_fcsts = torch.stack(letkf_uhr_fcsts, dim=0)\n",
    "assert all_gt.shape == letkf_uhr_fcsts.shape\n",
    "\n",
    "letkf_uhr_fcsts.shape"
   ]
  },
  {
   "attachments": {},
   "cell_type": "markdown",
   "id": "5cd741fd-c045-4174-a0e2-85704d4d060d",
   "metadata": {},
   "source": [
    "# Calc mae ratio"
   ]
  },
  {
   "cell_type": "code",
   "execution_count": null,
   "id": "5755c0c6-d657-4b51-925b-6df415501734",
   "metadata": {},
   "outputs": [],
   "source": [
    "selected_iz = [18, 19, 20, 21, 22]\n",
    "\n",
    "dict_all_maer = {\n",
    "    \"maer\": {},\n",
    "    \"maer_selected_iz\": {},\n",
    "    \"maer_time_avg\": {},\n",
    "}"
   ]
  },
  {
   "cell_type": "code",
   "execution_count": null,
   "id": "b3078df1-4264-45eb-97b3-dfa195aaf1c3",
   "metadata": {
    "tags": []
   },
   "outputs": [],
   "source": [
    "maer = calc_maer(all_gt=all_gt, all_fcst=all_lr_fcst_uhr)\n",
    "maer_selected_iz = calc_maer_averaging_over_selected_iz(\n",
    "    all_gt=all_gt,\n",
    "    all_fcst=all_lr_fcst_uhr,\n",
    "    selected_iz=selected_iz,\n",
    ")\n",
    "maer_time_avg = torch.mean(maer, dim=0)\n",
    "\n",
    "dict_all_maer[\"maer\"][\"lr_fcst\"] = maer\n",
    "dict_all_maer[\"maer_selected_iz\"][\"lr_fcst\"] = maer_selected_iz\n",
    "dict_all_maer[\"maer_time_avg\"][\"lr_fcst\"] = maer_time_avg\n",
    "\n",
    "dict_all_maer[\"maer\"][\"lr_fcst\"].shape, dict_all_maer[\"maer_time_avg\"][\"lr_fcst\"]"
   ]
  },
  {
   "cell_type": "code",
   "execution_count": null,
   "id": "eafc50a1-2060-49ba-ae34-480a52a6d736",
   "metadata": {
    "tags": []
   },
   "outputs": [],
   "source": [
    "dict_all_maer[\"maer\"][\"srda\"] = {}\n",
    "dict_all_maer[\"maer_selected_iz\"][\"srda\"] = {}\n",
    "dict_all_maer[\"maer_time_avg\"][\"srda\"] = {}\n",
    "\n",
    "for m_model in dict_srda_uhr_fcsts.keys():\n",
    "    #\n",
    "    assert all_gt.shape == dict_srda_uhr_fcsts[m_model].shape\n",
    "\n",
    "    #\n",
    "    maer = calc_maer(all_gt=all_gt, all_fcst=dict_srda_uhr_fcsts[m_model])\n",
    "    maer_selected_iz = calc_maer_averaging_over_selected_iz(\n",
    "        all_gt=all_gt,\n",
    "        all_fcst=dict_srda_uhr_fcsts[m_model],\n",
    "        selected_iz=selected_iz,\n",
    "    )\n",
    "    maer_time_avg = torch.mean(maer, dim=0)\n",
    "\n",
    "    dict_all_maer[\"maer\"][\"srda\"][m_model] = maer\n",
    "    dict_all_maer[\"maer_selected_iz\"][\"srda\"][m_model] = maer_selected_iz\n",
    "    dict_all_maer[\"maer_time_avg\"][\"srda\"][m_model] = maer_time_avg\n",
    "\n",
    "dict_all_maer[\"maer\"][\"srda\"].keys(), dict_all_maer[\"maer\"][\"srda\"][\n",
    "    m_model\n",
    "].shape, dict_all_maer[\"maer_time_avg\"][\"srda\"][m_model]"
   ]
  },
  {
   "cell_type": "code",
   "execution_count": null,
   "id": "264af95a-af26-4534-aa4b-584dc92cfc89",
   "metadata": {
    "tags": []
   },
   "outputs": [],
   "source": [
    "dict_all_maer[\"maer\"][\"srda_lr\"] = {}\n",
    "dict_all_maer[\"maer_selected_iz\"][\"srda_lr\"] = {}\n",
    "dict_all_maer[\"maer_time_avg\"][\"srda_lr\"] = {}\n",
    "\n",
    "for m_model in dict_srda_lr_uhr.keys():\n",
    "    #\n",
    "    assert all_gt.shape == dict_srda_lr_uhr[m_model].shape\n",
    "\n",
    "    #\n",
    "    maer = calc_maer(all_gt=all_gt, all_fcst=dict_srda_lr_uhr[m_model])\n",
    "    maer_selected_iz = calc_maer_averaging_over_selected_iz(\n",
    "        all_gt=all_gt,\n",
    "        all_fcst=dict_srda_lr_uhr[m_model],\n",
    "        selected_iz=selected_iz,\n",
    "    )\n",
    "    maer_time_avg = torch.mean(maer, dim=0)\n",
    "\n",
    "    dict_all_maer[\"maer\"][\"srda_lr\"][m_model] = maer\n",
    "    dict_all_maer[\"maer_selected_iz\"][\"srda_lr\"][m_model] = maer_selected_iz\n",
    "    dict_all_maer[\"maer_time_avg\"][\"srda_lr\"][m_model] = maer_time_avg\n",
    "\n",
    "dict_all_maer[\"maer\"][\"srda_lr\"].keys(), dict_all_maer[\"maer\"][\"srda_lr\"][\n",
    "    m_model\n",
    "].shape, dict_all_maer[\"maer_time_avg\"][\"srda_lr\"][m_model]"
   ]
  },
  {
   "cell_type": "code",
   "execution_count": null,
   "id": "a7292f1f-fbb9-4333-ab4b-8a6c3f1d6654",
   "metadata": {
    "tags": []
   },
   "outputs": [],
   "source": [
    "maer = calc_maer(all_gt=all_gt, all_fcst=letkf_uhr_fcsts)\n",
    "maer_selected_iz = calc_maer_averaging_over_selected_iz(\n",
    "    all_gt=all_gt,\n",
    "    all_fcst=letkf_uhr_fcsts,\n",
    "    selected_iz=selected_iz,\n",
    ")\n",
    "maer_time_avg = torch.mean(maer, dim=0)\n",
    "\n",
    "dict_all_maer[\"maer\"][\"letkf\"] = maer\n",
    "dict_all_maer[\"maer_selected_iz\"][\"letkf\"] = maer_selected_iz\n",
    "dict_all_maer[\"maer_time_avg\"][\"letkf\"] = maer_time_avg\n",
    "\n",
    "#\n",
    "dict_all_maer[\"maer\"][\"letkf\"].shape, dict_all_maer[\"maer_time_avg\"][\"letkf\"]"
   ]
  },
  {
   "attachments": {},
   "cell_type": "markdown",
   "id": "83e6ff82-485d-4ca2-b87e-84fff7d13cc5",
   "metadata": {},
   "source": [
    "# Save mae ratio result"
   ]
  },
  {
   "cell_type": "code",
   "execution_count": null,
   "id": "71e43e7d-451f-44d1-8f9e-b4b545ee7749",
   "metadata": {
    "tags": []
   },
   "outputs": [],
   "source": [
    "write_pickle(\n",
    "    data=dict_all_maer, file_path=f\"{RESULT_DIR}/all_maer_only_forecast_result.pkl\"\n",
    ")"
   ]
  },
  {
   "attachments": {},
   "cell_type": "markdown",
   "id": "2ea280a0-3a50-454d-b3bb-4bdb2eec46af",
   "metadata": {},
   "source": [
    "# Calc mssim loss and save"
   ]
  },
  {
   "attachments": {},
   "cell_type": "markdown",
   "id": "683a342b-2f46-4238-9db9-edd2755481f1",
   "metadata": {},
   "source": [
    "## Normalization"
   ]
  },
  {
   "cell_type": "code",
   "execution_count": null,
   "id": "ce1c81d5-f0f2-41b1-816d-51b951c52ce8",
   "metadata": {
    "tags": []
   },
   "outputs": [],
   "source": [
    "pv_miv = cfg_srda.dataset_config.pv_min\n",
    "pv_max = cfg_srda.dataset_config.pv_max\n",
    "\n",
    "all_gt_norm = _preprocess(data=all_gt, pv_min=pv_miv, pv_max=pv_max, use_clipping=False)\n",
    "assert all_gt_norm.min() >= 0 and all_gt_norm.max() <= 1\n",
    "\n",
    "all_lr_fcst_norm = _preprocess(\n",
    "    data=all_lr_fcst_uhr, pv_min=pv_miv, pv_max=pv_max, use_clipping=False\n",
    ")\n",
    "assert all_lr_fcst_norm.min() >= 0 and all_lr_fcst_norm.max() <= 1\n",
    "\n",
    "dict_srda_uhr_fcsts_norm = {}\n",
    "\n",
    "for m_model in dict_srda_uhr_fcsts.keys():\n",
    "    dict_srda_uhr_fcsts_norm[m_model] = _preprocess(\n",
    "        dict_srda_uhr_fcsts[m_model], pv_min=pv_miv, pv_max=pv_max, use_clipping=False\n",
    "    )\n",
    "\n",
    "    assert (\n",
    "        dict_srda_uhr_fcsts_norm[m_model].min() >= 0\n",
    "        and dict_srda_uhr_fcsts_norm[m_model].max() <= 1\n",
    "    )\n",
    "\n",
    "dict_srda_lr_uhr_norm = {}\n",
    "\n",
    "for m_model in dict_srda_lr_uhr.keys():\n",
    "    dict_srda_lr_uhr_norm[m_model] = _preprocess(\n",
    "        dict_srda_lr_uhr[m_model], pv_min=pv_miv, pv_max=pv_max, use_clipping=False\n",
    "    )\n",
    "\n",
    "    assert (\n",
    "        dict_srda_lr_uhr_norm[m_model].min() >= 0\n",
    "        and dict_srda_lr_uhr_norm[m_model].max() <= 1\n",
    "    )\n",
    "\n",
    "letkf_uhr_fcsts_norm = _preprocess(\n",
    "    data=letkf_uhr_fcsts,\n",
    "    pv_min=pv_miv,\n",
    "    pv_max=pv_max,\n",
    "    use_clipping=False,\n",
    ")\n",
    "assert letkf_uhr_fcsts_norm.min() >= 0 and letkf_uhr_fcsts_norm.max() <= 1"
   ]
  },
  {
   "attachments": {},
   "cell_type": "markdown",
   "id": "c2281f44-1637-4674-ac72-4291dac0bdbe",
   "metadata": {},
   "source": [
    "## Uniform window"
   ]
  },
  {
   "cell_type": "code",
   "execution_count": null,
   "id": "7296d591-27ec-45c3-a822-6e960e175a52",
   "metadata": {
    "tags": []
   },
   "outputs": [],
   "source": [
    "num_batch = len(all_gt_norm)"
   ]
  },
  {
   "cell_type": "code",
   "execution_count": null,
   "id": "2d26292c-3a7a-4c12-adc9-7ca35ed640a1",
   "metadata": {
    "tags": []
   },
   "outputs": [],
   "source": [
    "#\n",
    "dict_all_mssim_loss_uniform_wsz5 = {\n",
    "    \"mssim_loss\": {},\n",
    "    \"mssim_loss_selected_iz\": {},\n",
    "}\n",
    "\n",
    "mssim_loss_params = {\n",
    "    \"window_3d_size\": (5, 11, 11),\n",
    "    \"sigma_3d\": (0.7, 1.5, 1.5),\n",
    "    \"value_magnitude\": 1.0,\n",
    "    \"use_gaussian\": False,\n",
    "}\n",
    "\n",
    "# lr\n",
    "lr_mssim = []\n",
    "\n",
    "for ib in range(num_batch):\n",
    "    ssim = MSSIM(**mssim_loss_params)\n",
    "    _r = calc_mssim(\n",
    "        all_gt=all_gt_norm[ib].unsqueeze(0).to(DEVICE_GPU),\n",
    "        all_fcst=all_lr_fcst_norm[ib].unsqueeze(0).to(DEVICE_GPU),\n",
    "        mssim=ssim,\n",
    "    )\n",
    "    lr_mssim.append(_r.cpu())\n",
    "    #\n",
    "    del _r\n",
    "    torch.cuda.empty_cache()\n",
    "\n",
    "# mean over batch dim and calc loss\n",
    "mssim_loss = 1.0 - torch.mean(torch.stack(lr_mssim), dim=0)\n",
    "dict_all_mssim_loss_uniform_wsz5[\"mssim_loss\"][\"lr_fcst\"] = mssim_loss\n",
    "dict_all_mssim_loss_uniform_wsz5[\"mssim_loss_selected_iz\"][\"lr_fcst\"] = torch.mean(\n",
    "    mssim_loss[:, selected_iz], dim=1\n",
    ")\n",
    "\n",
    "\n",
    "# srda\n",
    "dict_all_mssim_loss_uniform_wsz5[\"mssim_loss\"][\"srda\"] = {}\n",
    "dict_all_mssim_loss_uniform_wsz5[\"mssim_loss_selected_iz\"][\"srda\"] = {}\n",
    "for m_model in dict_srda_uhr_fcsts_norm.keys():\n",
    "    #\n",
    "    srda_mssim = []\n",
    "    #\n",
    "    for ib in range(num_batch):\n",
    "        ssim = MSSIM(**mssim_loss_params)\n",
    "        _r = calc_mssim(\n",
    "            all_gt=all_gt_norm[ib].unsqueeze(0).to(DEVICE_GPU),\n",
    "            all_fcst=dict_srda_uhr_fcsts_norm[m_model][ib].unsqueeze(0).to(DEVICE_GPU),\n",
    "            mssim=ssim,\n",
    "        )\n",
    "        srda_mssim.append(_r.cpu())\n",
    "        #\n",
    "        del _r\n",
    "        torch.cuda.empty_cache()\n",
    "\n",
    "    # mean over batch dim and calc loss\n",
    "    mssim_loss = 1.0 - torch.mean(torch.stack(srda_mssim), dim=0)\n",
    "    dict_all_mssim_loss_uniform_wsz5[\"mssim_loss\"][\"srda\"][m_model] = mssim_loss\n",
    "    dict_all_mssim_loss_uniform_wsz5[\"mssim_loss_selected_iz\"][\"srda\"][\n",
    "        m_model\n",
    "    ] = torch.mean(mssim_loss[:, selected_iz], dim=1)\n",
    "\n",
    "# srda_lr\n",
    "dict_all_mssim_loss_uniform_wsz5[\"mssim_loss\"][\"srda_lr\"] = {}\n",
    "dict_all_mssim_loss_uniform_wsz5[\"mssim_loss_selected_iz\"][\"srda_lr\"] = {}\n",
    "for m_model in dict_srda_lr_uhr_norm.keys():\n",
    "    #\n",
    "    srda_lr_mssim = []\n",
    "    #\n",
    "    for ib in range(num_batch):\n",
    "        ssim = MSSIM(**mssim_loss_params)\n",
    "        _r = calc_mssim(\n",
    "            all_gt=all_gt_norm[ib].unsqueeze(0).to(DEVICE_GPU),\n",
    "            all_fcst=dict_srda_lr_uhr_norm[m_model][ib].unsqueeze(0).to(DEVICE_GPU),\n",
    "            mssim=ssim,\n",
    "        )\n",
    "        srda_lr_mssim.append(_r.cpu())\n",
    "        #\n",
    "        del _r\n",
    "        torch.cuda.empty_cache()\n",
    "\n",
    "    # mean over batch dim and calc loss\n",
    "    mssim_loss = 1.0 - torch.mean(torch.stack(srda_lr_mssim), dim=0)\n",
    "    dict_all_mssim_loss_uniform_wsz5[\"mssim_loss\"][\"srda_lr\"][m_model] = mssim_loss\n",
    "    dict_all_mssim_loss_uniform_wsz5[\"mssim_loss_selected_iz\"][\"srda_lr\"][\n",
    "        m_model\n",
    "    ] = torch.mean(mssim_loss[:, selected_iz], dim=1)\n",
    "\n",
    "# letkf\n",
    "letkf_mssim = []\n",
    "for ib in range(num_batch):\n",
    "    ssim = MSSIM(**mssim_loss_params)\n",
    "    _r = calc_mssim(\n",
    "        all_gt=all_gt_norm[ib].unsqueeze(0).to(DEVICE_GPU),\n",
    "        all_fcst=letkf_uhr_fcsts_norm[ib].unsqueeze(0).to(DEVICE_GPU),\n",
    "        mssim=ssim,\n",
    "    )\n",
    "    letkf_mssim.append(_r.cpu())\n",
    "    #\n",
    "    del _r\n",
    "    torch.cuda.empty_cache()\n",
    "\n",
    "# mean over batch dim and calc loss\n",
    "mssim_loss = 1.0 - torch.mean(torch.stack(letkf_mssim), dim=0)\n",
    "dict_all_mssim_loss_uniform_wsz5[\"mssim_loss\"][\"letkf\"] = mssim_loss\n",
    "dict_all_mssim_loss_uniform_wsz5[\"mssim_loss_selected_iz\"][\"letkf\"] = torch.mean(\n",
    "    mssim_loss[:, selected_iz], dim=1\n",
    ")\n",
    "\n",
    "# save\n",
    "write_pickle(\n",
    "    data=dict_all_mssim_loss_uniform_wsz5,\n",
    "    file_path=f\"{RESULT_DIR}/all_mssim_loss_uniform_wsz5_only_forecast_result.pkl\",\n",
    ")"
   ]
  },
  {
   "cell_type": "code",
   "execution_count": null,
   "id": "9c70db48-03c7-4717-a3d2-611351cf0c65",
   "metadata": {},
   "outputs": [],
   "source": []
  }
 ],
 "metadata": {
  "kernelspec": {
   "display_name": "Python 3 (ipykernel)",
   "language": "python",
   "name": "python3"
  },
  "language_info": {
   "codemirror_mode": {
    "name": "ipython",
    "version": 3
   },
   "file_extension": ".py",
   "mimetype": "text/x-python",
   "name": "python",
   "nbconvert_exporter": "python",
   "pygments_lexer": "ipython3",
   "version": "3.9.5"
  }
 },
 "nbformat": 4,
 "nbformat_minor": 5
}
