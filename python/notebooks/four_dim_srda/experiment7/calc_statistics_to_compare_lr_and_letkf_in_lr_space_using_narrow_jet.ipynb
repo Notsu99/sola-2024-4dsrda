{
 "cells": [
  {
   "cell_type": "code",
   "execution_count": null,
   "id": "b08e541a-6c1f-40f6-a823-0cdd53e027cb",
   "metadata": {
    "tags": []
   },
   "outputs": [],
   "source": [
    "%load_ext autoreload\n",
    "%autoreload 2\n",
    "%matplotlib inline"
   ]
  },
  {
   "attachments": {},
   "cell_type": "markdown",
   "id": "c2a0775a-4908-4fc5-95d8-2e6d014f9bf2",
   "metadata": {},
   "source": [
    "# Import libraries"
   ]
  },
  {
   "cell_type": "code",
   "execution_count": null,
   "id": "f38da3b4-ab94-4dc0-8c39-14e9f3b5fec5",
   "metadata": {
    "tags": []
   },
   "outputs": [],
   "source": [
    "import sys\n",
    "from logging import INFO, StreamHandler, getLogger\n",
    "\n",
    "logger = getLogger()\n",
    "if not logger.hasHandlers():\n",
    "    logger.addHandler(StreamHandler(sys.stdout))\n",
    "logger.setLevel(INFO)"
   ]
  },
  {
   "cell_type": "code",
   "execution_count": null,
   "id": "870761d2-a503-4bc1-b635-224d0cdd96dd",
   "metadata": {
    "tags": []
   },
   "outputs": [],
   "source": [
    "import os\n",
    "import pathlib\n",
    "\n",
    "import matplotlib.pyplot as plt\n",
    "import numpy as np\n",
    "import torch\n",
    "from src.four_dim_srda.config.config_loader import load_config\n",
    "from src.four_dim_srda.config.experiment_config import CFDConfig\n",
    "from src.four_dim_srda.utils.calc_statistics import (\n",
    "    calc_maer,\n",
    "    calc_maer_averaging_over_selected_iz,\n",
    "    calc_mssim,\n",
    ")\n",
    "from src.four_dim_srda.utils.ssim import MSSIM\n",
    "from src.four_dim_srda.utils.torch_interpolator import (\n",
    "    interpolate_2d,\n",
    "    interpolate_along_z,\n",
    ")\n",
    "from src.qg_model.low_pass_filter import LowPassFilter\n",
    "from src.qg_model.qg_model import QGModel\n",
    "\n",
    "plt.rcParams[\"font.family\"] = \"serif\""
   ]
  },
  {
   "attachments": {},
   "cell_type": "markdown",
   "id": "f54fd779-f742-4ed9-bbcd-575a7812c438",
   "metadata": {},
   "source": [
    "# Define constants"
   ]
  },
  {
   "cell_type": "code",
   "execution_count": null,
   "id": "e629f2a3-afac-4f38-b439-cc58792f89e1",
   "metadata": {
    "tags": []
   },
   "outputs": [],
   "source": [
    "ROOT_DIR = pathlib.Path(os.environ[\"PYTHONPATH\"]).parent.resolve()"
   ]
  },
  {
   "cell_type": "code",
   "execution_count": null,
   "id": "53dffae9-0da2-4525-ab43-0e06e9ce0a18",
   "metadata": {
    "tags": []
   },
   "outputs": [],
   "source": [
    "experiment_name = \"experiment7\""
   ]
  },
  {
   "cell_type": "code",
   "execution_count": null,
   "id": "52632b59-4e51-4566-866b-8867122ba055",
   "metadata": {
    "tags": []
   },
   "outputs": [],
   "source": [
    "# model_names = [\"ConvTransNetVer01\", \"UNetMaxVitVer01\", \"UNetVitVer02\"]\n",
    "model_names = [\"ConvTransNetVer01\", \"UNetMaxVitVer01\"]\n",
    "\n",
    "CFG_DIR = f\"{ROOT_DIR}/python/configs/four_dim_srda/{experiment_name}\"\n",
    "\n",
    "# srda\n",
    "dict_cfg_srda_name = {}\n",
    "for m_name in model_names:\n",
    "    if m_name == \"ConvTransNetVer01\":\n",
    "        dict_cfg_srda_name[\n",
    "            m_name\n",
    "        ] = \"bea2_bed2_dspe360_nsls100_ogx08_ogy08_bias1_bs12_lr1e-04\"\n",
    "    #\n",
    "    elif m_name == \"UNetMaxVitVer01\":\n",
    "        dict_cfg_srda_name[\n",
    "            m_name\n",
    "        ] = \"bea2_bed2_dspe360_nsls100_ogx08_ogy08_n3drb3_nmb6_bias0_bs12_lr1e-04\"\n",
    "    #\n",
    "    elif m_name == \"UNetVitVer02\":\n",
    "        dict_cfg_srda_name[\n",
    "            m_name\n",
    "        ] = \"bea2_bed2_dspe360_nsls100_ogx08_ogy08_n3drb3_nvb4_bias0_vits0_bs12_lr1e-04\"\n",
    "\n",
    "# config srda\n",
    "CFG_SRDA_PATH = f\"{CFG_DIR}/perform_4D_SRDA/{model_names[0]}/{dict_cfg_srda_name[model_names[0]]}.yml\"\n",
    "\n",
    "\n",
    "cfg_srda = load_config(model_name=model_names[0], config_path=CFG_SRDA_PATH)\n",
    "\n",
    "# config cfd\n",
    "CFG_CFD_PATH = f\"{CFG_DIR}/cfd_simulation/qg_model/gpu_evaluation_config.yml\"\n",
    "\n",
    "cfg_cfd = CFDConfig.load(pathlib.Path(CFG_CFD_PATH))\n",
    "\n",
    "DEVICE_CPU = \"cpu\"\n",
    "DEVICE_GPU = torch.device(\"cuda\") if torch.cuda.is_available() else None\n",
    "\n",
    "cfg_cfd.lr_base_config.device = (\n",
    "    cfg_cfd.hr_base_config.device\n",
    ") = cfg_cfd.uhr_base_config.device = DEVICE_CPU\n",
    "\n",
    "dict_cfg_srda_name"
   ]
  },
  {
   "cell_type": "code",
   "execution_count": null,
   "id": "61afdda9-919d-4f41-84a3-68f0ff934fb3",
   "metadata": {
    "tags": []
   },
   "outputs": [],
   "source": [
    "list_cfg_letkf_name = [\n",
    "    \"na3e-03_letkf_cfg_ogx08_ogy08_ne100_ch16e-04_cr6e+00_if12e-01_lr57e-01_bs6\"\n",
    "]\n",
    "list_cfg_letkf_name"
   ]
  },
  {
   "cell_type": "code",
   "execution_count": null,
   "id": "a4744ed6-87c7-4062-a3cb-a1b6069c2e6a",
   "metadata": {
    "tags": []
   },
   "outputs": [],
   "source": [
    "uhr_model = QGModel(cfg_cfd.uhr_base_config, show_input_cfg_info=False)"
   ]
  },
  {
   "cell_type": "code",
   "execution_count": null,
   "id": "55820792-187f-432f-b22d-c553abd8b6e6",
   "metadata": {
    "tags": []
   },
   "outputs": [],
   "source": [
    "DATA_DIR = f\"{ROOT_DIR}/data/four_dim_srda\"\n",
    "\n",
    "LR_DATA_DIR = f\"{DATA_DIR}/{experiment_name}/cfd_simulation/qg_model/lr_pv_narrow_jet\"\n",
    "UHR_DATA_DIR = f\"{DATA_DIR}/{experiment_name}/cfd_simulation/qg_model/uhr_pv_narrow_jet\""
   ]
  },
  {
   "cell_type": "code",
   "execution_count": null,
   "id": "94099c79-08a8-43ba-afaf-05ecf0164e93",
   "metadata": {
    "tags": []
   },
   "outputs": [],
   "source": [
    "_result_dir = f\"{ROOT_DIR}/python/results/four_dim_srda/{experiment_name}\"\n",
    "RESULT_DIR = f\"{_result_dir}/analysis/use_narrow_jet\"\n",
    "FIG_DIR = f\"{RESULT_DIR}/fig\"\n",
    "os.makedirs(FIG_DIR, exist_ok=True)"
   ]
  },
  {
   "cell_type": "code",
   "execution_count": null,
   "id": "16ce2b41-ab1f-4156-8946-f1b4e35685c9",
   "metadata": {
    "tags": []
   },
   "outputs": [],
   "source": [
    "ASSIMILATION_PERIOD = (\n",
    "    cfg_cfd.da_config.segment_length - cfg_cfd.da_config.forecast_span - 1\n",
    ")\n",
    "FORECAST_SPAN = cfg_cfd.da_config.forecast_span\n",
    "\n",
    "NUM_TIMES = (\n",
    "    cfg_srda.dataset_config.max_start_time_index + ASSIMILATION_PERIOD + FORECAST_SPAN\n",
    ")\n",
    "NUM_TIMES_LR = cfg_cfd.time_config.end_time"
   ]
  },
  {
   "attachments": {},
   "cell_type": "markdown",
   "id": "15c36293-9b9e-4b4b-9125-48be9dc0048f",
   "metadata": {},
   "source": [
    "# Define methods"
   ]
  },
  {
   "cell_type": "code",
   "execution_count": null,
   "id": "54830e38-5d7c-45c1-a0a9-46b96aefc60b",
   "metadata": {
    "tags": []
   },
   "outputs": [],
   "source": [
    "def _preprocess(\n",
    "    data: torch.Tensor, pv_min: float, pv_max: float, use_clipping: bool = False\n",
    ") -> torch.Tensor:\n",
    "    #\n",
    "    # batch, time, z, y, x dims\n",
    "    assert data.ndim == 5\n",
    "\n",
    "    # normalization\n",
    "    data = (data - pv_min) / (pv_max - pv_min)\n",
    "\n",
    "    if use_clipping:\n",
    "        data = torch.clamp(data, min=0.0, max=1.0)\n",
    "\n",
    "    return data"
   ]
  },
  {
   "cell_type": "code",
   "execution_count": null,
   "id": "9d4c4856-5680-4187-8b9c-35783d44c55c",
   "metadata": {
    "tags": []
   },
   "outputs": [],
   "source": [
    "def plot_maer_and_mssim_loss(\n",
    "    *,\n",
    "    dict_maer: dict[str, torch.Tensor],\n",
    "    dict_mssim_loss: dict[str, torch.Tensor],\n",
    "    time: torch.Tensor,\n",
    "    list_ylim_maer: tuple[int, int],\n",
    "    list_ylim_mssim_loss: list[int, int],\n",
    "    base_font_size: int,\n",
    "    list_fig_size_xy: tuple[float, float],\n",
    "    num_xticks: int = 5,\n",
    "    num_yticks: int = 5,\n",
    "    save_fig: bool = False,\n",
    "    fig_name: str = \"maer_and_mssim_loss_lr_space_plots_for_paper\",\n",
    "):\n",
    "    #\n",
    "    plt.rcParams[\"font.size\"] = base_font_size\n",
    "\n",
    "    title_fs_scale = 1.4\n",
    "    label_fs_scale = 1.2\n",
    "    legend_fs_scale = 1.1\n",
    "    tick_label_fs_scale = 1.0\n",
    "\n",
    "    # grid_alpha = 0.8\n",
    "    lw = 2.2\n",
    "\n",
    "    #\n",
    "    fig, (ax1, ax2) = plt.subplots(1, 2, figsize=list_fig_size_xy)\n",
    "\n",
    "    # SRDA's results have NaN in i_s = 0, so skip it\n",
    "    i_s = 1\n",
    "\n",
    "    keys = dict_maer.keys()\n",
    "    for key in keys:\n",
    "        if key == \"lr_fcst\":\n",
    "            c = \"tab:red\"\n",
    "            ls = \"-\"\n",
    "            label = \"LR-Forecast\"\n",
    "        #\n",
    "        elif key == \"letkf\":\n",
    "            c = \"tab:green\"\n",
    "            ls = \"--\"\n",
    "            label = \"HR-LETKF\"\n",
    "        else:\n",
    "            continue\n",
    "\n",
    "        # maer\n",
    "        ax1.plot(\n",
    "            time[i_s:],\n",
    "            dict_maer[key][i_s:],\n",
    "            c=c,\n",
    "            lw=lw,\n",
    "            linestyle=ls,\n",
    "            label=label,\n",
    "        )\n",
    "        ax1.set_xticks(np.linspace(0, 200, num_xticks))\n",
    "        ax1.set_ylim(list_ylim_maer[0], list_ylim_maer[1])\n",
    "        ax1.set_yticks(np.linspace(list_ylim_maer[0], list_ylim_maer[1], num_yticks))\n",
    "\n",
    "        ax1.set_title(\n",
    "            \"(a) MAE Ratio in LR space\",\n",
    "            fontsize=title_fs_scale * base_font_size,\n",
    "            loc=\"left\",\n",
    "            pad=20,\n",
    "        )\n",
    "        ax1.set_xlabel(\"Time\", fontsize=label_fs_scale * base_font_size)\n",
    "        ax1.set_ylabel(\n",
    "            \"MAE Ratio\", fontsize=label_fs_scale * base_font_size, labelpad=15\n",
    "        )\n",
    "\n",
    "        # ax1.grid(True, alpha=grid_alpha)\n",
    "\n",
    "        ax1.tick_params(\n",
    "            axis=\"both\", which=\"major\", labelsize=tick_label_fs_scale * base_font_size\n",
    "        )\n",
    "\n",
    "        # mssim loss\n",
    "\n",
    "        # NaN in the SRDA results has already been removed.\n",
    "        # so i_s isn't used here\n",
    "        ax2.plot(\n",
    "            time[i_s:],\n",
    "            dict_mssim_loss[key],\n",
    "            c=c,\n",
    "            lw=lw,\n",
    "            linestyle=ls,\n",
    "            label=label,\n",
    "        )\n",
    "        ax2.set_xticks(np.linspace(0, 200, num_xticks))\n",
    "        ax2.set_ylim(list_ylim_mssim_loss[0], list_ylim_mssim_loss[1])\n",
    "        ax2.set_yticks(\n",
    "            np.linspace(list_ylim_mssim_loss[0], list_ylim_mssim_loss[1], num_yticks)\n",
    "        )\n",
    "\n",
    "        ax2.set_title(\n",
    "            \"(b) MSSIM Loss in LR space\",\n",
    "            fontsize=title_fs_scale * base_font_size,\n",
    "            loc=\"left\",\n",
    "            pad=20,\n",
    "        )\n",
    "        ax2.set_xlabel(\"Time\", fontsize=label_fs_scale * base_font_size)\n",
    "        ax2.set_ylabel(\n",
    "            \"MSSIM Loss\", fontsize=label_fs_scale * base_font_size, labelpad=15\n",
    "        )\n",
    "\n",
    "        # ax2.grid(True, alpha=grid_alpha)\n",
    "\n",
    "        ax2.tick_params(\n",
    "            axis=\"both\", which=\"major\", labelsize=tick_label_fs_scale * base_font_size\n",
    "        )\n",
    "\n",
    "        legend = ax2.legend(\n",
    "            fontsize=legend_fs_scale * base_font_size, edgecolor=\"black\"\n",
    "        )\n",
    "        legend.get_frame().set_alpha(1.0)  # 背景の透明度\n",
    "        legend.get_frame().set_edgecolor(\"black\")  # 凡例の枠線の色\n",
    "    #\n",
    "    plt.tight_layout()\n",
    "\n",
    "    #\n",
    "    if save_fig:\n",
    "        plt.savefig(\n",
    "            f\"{FIG_DIR}/{fig_name}.jpg\",\n",
    "            dpi=300,\n",
    "            bbox_inches=\"tight\",\n",
    "        )\n",
    "\n",
    "    plt.show()"
   ]
  },
  {
   "attachments": {},
   "cell_type": "markdown",
   "id": "c06a036f-631d-4841-9a8d-8474f1cbfdc3",
   "metadata": {},
   "source": [
    "# Prepare data"
   ]
  },
  {
   "cell_type": "code",
   "execution_count": null,
   "id": "21e32b2a-2697-4012-9954-ac8dd58991e8",
   "metadata": {
    "tags": []
   },
   "outputs": [],
   "source": [
    "# Set it to use only data at analytical time\n",
    "t_slice = ASSIMILATION_PERIOD"
   ]
  },
  {
   "cell_type": "code",
   "execution_count": null,
   "id": "1c32558b-9bb6-48cb-b2ea-bfd231d705a8",
   "metadata": {
    "tags": []
   },
   "outputs": [],
   "source": [
    "time = torch.arange(\n",
    "    cfg_cfd.time_config.start_time,\n",
    "    cfg_cfd.time_config.end_time,\n",
    "    cfg_cfd.time_config.output_uhr_dt,\n",
    ")[::t_slice]"
   ]
  },
  {
   "cell_type": "code",
   "execution_count": null,
   "id": "02777b7c-967e-4dd6-a805-ab10c8b832e6",
   "metadata": {
    "tags": []
   },
   "outputs": [],
   "source": [
    "all_gt = []\n",
    "for i_seed_uhr in range(\n",
    "    cfg_cfd.seed_config.uhr_seed_start, cfg_cfd.seed_config.uhr_seed_end + 1\n",
    "):\n",
    "    uhr_data_path = f\"{UHR_DATA_DIR}/seed{i_seed_uhr:05}/seed{i_seed_uhr:05}_start000_end800_uhr_pv.npy\"\n",
    "    gt = np.load(f\"{uhr_data_path}\")\n",
    "    gt = torch.from_numpy(gt)[:NUM_TIMES][::t_slice]\n",
    "    all_gt.append(gt)\n",
    "\n",
    "all_gt = torch.stack(all_gt, dim=0)\n",
    "\n",
    "# Downscale to low resolution\n",
    "lowpass_filter = LowPassFilter(\n",
    "    nx_lr=cfg_cfd.lr_base_config.nx,\n",
    "    ny_lr=cfg_cfd.lr_base_config.ny,\n",
    "    nz_lr=cfg_cfd.lr_base_config.nz,\n",
    "    nx_hr=cfg_cfd.uhr_base_config.nx,\n",
    "    ny_hr=cfg_cfd.uhr_base_config.ny,\n",
    "    nz_hr=cfg_cfd.uhr_base_config.nz,\n",
    "    dtype=torch.complex128,\n",
    "    device=\"cpu\",\n",
    ")\n",
    "\n",
    "lr_all_gt = []\n",
    "for it in range(all_gt.shape[1]):\n",
    "    #\n",
    "    gt = all_gt[:, it, :, :, :]\n",
    "    lr_gt = lowpass_filter.apply(hr_grid_data=gt)\n",
    "    lr_all_gt.append(lr_gt)\n",
    "\n",
    "lr_all_gt = torch.stack(lr_all_gt, dim=1)\n",
    "\n",
    "lr_all_gt.dtype, lr_all_gt.shape"
   ]
  },
  {
   "cell_type": "code",
   "execution_count": null,
   "id": "6abfad2c-cdf9-491a-ab50-04fc4f92e1ea",
   "metadata": {},
   "outputs": [],
   "source": [
    "all_lr_fcst = []\n",
    "for i_seed_uhr in range(\n",
    "    cfg_cfd.seed_config.uhr_seed_start, cfg_cfd.seed_config.uhr_seed_end + 1\n",
    "):\n",
    "    lr_data_path = f\"{LR_DATA_DIR}/seed{i_seed_uhr:05}/seed{i_seed_uhr:05}_start000_end200_lr_pv.npy\"\n",
    "    lr_fcst = np.load(f\"{lr_data_path}\")\n",
    "    lr_fcst = torch.from_numpy(lr_fcst)[:NUM_TIMES_LR]\n",
    "    all_lr_fcst.append(lr_fcst)\n",
    "\n",
    "all_lr_fcst = torch.stack(all_lr_fcst, dim=0)\n",
    "all_lr_fcst.shape, all_lr_fcst.dtype"
   ]
  },
  {
   "cell_type": "code",
   "execution_count": null,
   "id": "aa65580f-b522-4470-a8db-600c76442f0a",
   "metadata": {
    "tags": []
   },
   "outputs": [],
   "source": [
    "dict_letkf_fcsts = {}\n",
    "for cfg_name in list_cfg_letkf_name:\n",
    "    _path = f\"{_result_dir}/letkf/perform_letkf_hr_using_uhr/use_narrow_jet/{cfg_name}/all_letkf_fcst.npy\"\n",
    "    _letkf_hr_fcst = np.load(_path)\n",
    "    _letkf_hr_fcst = torch.from_numpy(_letkf_hr_fcst)\n",
    "    #\n",
    "    _key = cfg_name\n",
    "    dict_letkf_fcsts[_key] = _letkf_hr_fcst[:, ::t_slice, ...]\n",
    "\n",
    "# Downscale to low resolution\n",
    "lowpass_filter = LowPassFilter(\n",
    "    nx_lr=cfg_cfd.lr_base_config.nx,\n",
    "    ny_lr=cfg_cfd.lr_base_config.ny,\n",
    "    nz_lr=cfg_cfd.lr_base_config.nz,\n",
    "    nx_hr=cfg_cfd.hr_base_config.nx,\n",
    "    ny_hr=cfg_cfd.hr_base_config.ny,\n",
    "    nz_hr=cfg_cfd.hr_base_config.nz,\n",
    "    dtype=torch.complex128,\n",
    "    device=\"cpu\",\n",
    ")\n",
    "\n",
    "lr_letkf_fcst = []\n",
    "for it in range(dict_letkf_fcsts[_key].shape[1]):\n",
    "    #\n",
    "    fcst = dict_letkf_fcsts[_key][:, it, :, :, :]\n",
    "    lr_fcst = lowpass_filter.apply(hr_grid_data=fcst)\n",
    "    lr_letkf_fcst.append(lr_fcst)\n",
    "\n",
    "lr_letkf_fcst = torch.stack(lr_letkf_fcst, dim=1)\n",
    "\n",
    "dict_letkf_fcsts[_key].shape, dict_letkf_fcsts[\n",
    "    _key\n",
    "].dtype, dict_letkf_fcsts.keys(), lr_letkf_fcst.shape"
   ]
  },
  {
   "attachments": {},
   "cell_type": "markdown",
   "id": "5cd741fd-c045-4174-a0e2-85704d4d060d",
   "metadata": {},
   "source": [
    "# Calc mae ratio"
   ]
  },
  {
   "cell_type": "code",
   "execution_count": null,
   "id": "b3078df1-4264-45eb-97b3-dfa195aaf1c3",
   "metadata": {
    "tags": []
   },
   "outputs": [],
   "source": [
    "# lr\n",
    "\n",
    "assert lr_all_gt.shape == all_lr_fcst.shape\n",
    "lr_maer = calc_maer(all_gt=lr_all_gt, all_fcst=all_lr_fcst)\n",
    "\n",
    "lr_maer.shape"
   ]
  },
  {
   "cell_type": "code",
   "execution_count": null,
   "id": "a7292f1f-fbb9-4333-ab4b-8a6c3f1d6654",
   "metadata": {
    "tags": []
   },
   "outputs": [],
   "source": [
    "# letkf\n",
    "\n",
    "assert lr_all_gt.shape == lr_letkf_fcst.shape\n",
    "letkf_maer = calc_maer(all_gt=lr_all_gt, all_fcst=lr_letkf_fcst)\n",
    "\n",
    "letkf_maer.shape"
   ]
  },
  {
   "attachments": {},
   "cell_type": "markdown",
   "id": "2ea280a0-3a50-454d-b3bb-4bdb2eec46af",
   "metadata": {},
   "source": [
    "# Calc mssim loss"
   ]
  },
  {
   "attachments": {},
   "cell_type": "markdown",
   "id": "683a342b-2f46-4238-9db9-edd2755481f1",
   "metadata": {},
   "source": [
    "## Normalization"
   ]
  },
  {
   "cell_type": "code",
   "execution_count": null,
   "id": "ce1c81d5-f0f2-41b1-816d-51b951c52ce8",
   "metadata": {
    "tags": []
   },
   "outputs": [],
   "source": [
    "pv_miv = cfg_srda.dataset_config.pv_min\n",
    "pv_max = cfg_srda.dataset_config.pv_max\n",
    "\n",
    "lr_all_gt_norm = _preprocess(\n",
    "    data=lr_all_gt, pv_min=pv_miv, pv_max=pv_max, use_clipping=False\n",
    ")\n",
    "assert lr_all_gt_norm.min() >= 0 and lr_all_gt_norm.max() <= 1\n",
    "\n",
    "all_lr_fcst_norm = _preprocess(\n",
    "    data=all_lr_fcst, pv_min=pv_miv, pv_max=pv_max, use_clipping=False\n",
    ")\n",
    "assert all_lr_fcst_norm.min() >= 0 and all_lr_fcst_norm.max() <= 1\n",
    "\n",
    "\n",
    "lr_letkf_fcst_norm = _preprocess(\n",
    "    data=lr_letkf_fcst,\n",
    "    pv_min=pv_miv,\n",
    "    pv_max=pv_max,\n",
    "    use_clipping=False,\n",
    ")\n",
    "assert lr_letkf_fcst_norm.min() >= 0 and lr_letkf_fcst_norm.max() <= 1"
   ]
  },
  {
   "attachments": {},
   "cell_type": "markdown",
   "id": "c2281f44-1637-4674-ac72-4291dac0bdbe",
   "metadata": {},
   "source": [
    "## Uniform window"
   ]
  },
  {
   "cell_type": "code",
   "execution_count": null,
   "id": "7296d591-27ec-45c3-a822-6e960e175a52",
   "metadata": {
    "tags": []
   },
   "outputs": [],
   "source": [
    "num_batch = len(lr_all_gt_norm)"
   ]
  },
  {
   "cell_type": "code",
   "execution_count": null,
   "id": "2d26292c-3a7a-4c12-adc9-7ca35ed640a1",
   "metadata": {
    "tags": []
   },
   "outputs": [],
   "source": [
    "#\n",
    "mssim_loss_params = {\n",
    "    \"window_3d_size\": (5, 11, 11),\n",
    "    \"sigma_3d\": (0.7, 1.5, 1.5),\n",
    "    \"value_magnitude\": 1.0,\n",
    "    \"use_gaussian\": False,\n",
    "}\n",
    "\n",
    "# lr\n",
    "lr_mssim = []\n",
    "\n",
    "for ib in range(num_batch):\n",
    "    ssim = MSSIM(**mssim_loss_params)\n",
    "    _r = calc_mssim(\n",
    "        all_gt=lr_all_gt_norm[ib, 1:].float().unsqueeze(0).to(DEVICE_GPU),\n",
    "        all_fcst=all_lr_fcst_norm[ib, 1:].float().unsqueeze(0).to(DEVICE_GPU),\n",
    "        mssim=ssim,\n",
    "    )\n",
    "    lr_mssim.append(_r.cpu())\n",
    "    #\n",
    "    del _r\n",
    "    torch.cuda.empty_cache()\n",
    "\n",
    "# mean over batch dim and calc loss\n",
    "lr_mssim_loss = 1.0 - torch.mean(torch.stack(lr_mssim), dim=0)\n",
    "lr_mssim_loss = torch.mean(lr_mssim_loss, dim=1)\n",
    "\n",
    "# letkf\n",
    "letkf_mssim = []\n",
    "\n",
    "for ib in range(num_batch):\n",
    "    ssim = MSSIM(**mssim_loss_params)\n",
    "    _r = calc_mssim(\n",
    "        all_gt=lr_all_gt_norm[ib, 1:].float().unsqueeze(0).to(DEVICE_GPU),\n",
    "        all_fcst=lr_letkf_fcst_norm[ib, 1:].float().unsqueeze(0).to(DEVICE_GPU),\n",
    "        mssim=ssim,\n",
    "    )\n",
    "    letkf_mssim.append(_r.cpu())\n",
    "    #\n",
    "    del _r\n",
    "    torch.cuda.empty_cache()\n",
    "\n",
    "# mean over batch dim and calc loss\n",
    "letkf_mssim_loss = 1.0 - torch.mean(torch.stack(letkf_mssim), dim=0)\n",
    "letkf_mssim_loss = torch.mean(letkf_mssim_loss, dim=1)\n",
    "\n",
    "assert lr_mssim_loss.shape == letkf_mssim_loss.shape\n",
    "lr_mssim_loss.shape"
   ]
  },
  {
   "attachments": {},
   "cell_type": "markdown",
   "id": "1bf9f061-e3a5-4272-8933-1315d4e38092",
   "metadata": {},
   "source": [
    "# Plot"
   ]
  },
  {
   "cell_type": "code",
   "execution_count": null,
   "id": "55c25313-2521-4f46-bc94-589c12ecf9d8",
   "metadata": {
    "tags": []
   },
   "outputs": [],
   "source": [
    "all_maer = {\"lr_fcst\": lr_maer, \"letkf\": letkf_maer}\n",
    "all_mssim_loss = {\"lr_fcst\": lr_mssim_loss, \"letkf\": letkf_mssim_loss}\n",
    "\n",
    "plot_maer_and_mssim_loss(\n",
    "    dict_maer=all_maer,\n",
    "    dict_mssim_loss=all_mssim_loss,\n",
    "    time=time,\n",
    "    list_fig_size_xy=[16, 6],\n",
    "    list_ylim_maer=[0.0, 1.2],\n",
    "    list_ylim_mssim_loss=[0.0, 0.1],\n",
    "    base_font_size=20,\n",
    "    num_xticks=6,\n",
    "    num_yticks=6,\n",
    "    save_fig=True,\n",
    ")"
   ]
  },
  {
   "cell_type": "code",
   "execution_count": null,
   "id": "a5513dd9-7198-49d1-8932-5cca39d6b77b",
   "metadata": {},
   "outputs": [],
   "source": []
  }
 ],
 "metadata": {
  "kernelspec": {
   "display_name": "Python 3 (ipykernel)",
   "language": "python",
   "name": "python3"
  },
  "language_info": {
   "codemirror_mode": {
    "name": "ipython",
    "version": 3
   },
   "file_extension": ".py",
   "mimetype": "text/x-python",
   "name": "python",
   "nbconvert_exporter": "python",
   "pygments_lexer": "ipython3",
   "version": "3.9.5"
  }
 },
 "nbformat": 4,
 "nbformat_minor": 5
}
