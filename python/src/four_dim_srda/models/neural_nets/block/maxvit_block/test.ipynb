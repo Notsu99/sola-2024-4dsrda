{
 "cells": [
  {
   "cell_type": "code",
   "execution_count": null,
   "id": "2351309b-8036-4849-ba89-3cd5ee7b331e",
   "metadata": {
    "tags": []
   },
   "outputs": [],
   "source": [
    "import torch\n",
    "from src.four_dim_srda.models.neural_nets.block.maxvit_block.maxvit_block import (\n",
    "    MaxViTBlock,\n",
    ")\n",
    "from src.four_dim_srda.models.neural_nets.block.maxvit_block.multi_axis_self_attention import (\n",
    "    MulitAxisSelfAttention,\n",
    ")"
   ]
  },
  {
   "cell_type": "code",
   "execution_count": null,
   "id": "d8e2c72b-daf4-40c4-bbec-656794b138e0",
   "metadata": {
    "tags": []
   },
   "outputs": [],
   "source": [
    "# Parameters\n",
    "n_head = 4\n",
    "grid_window_size_h = 4\n",
    "grid_window_size_w = 4\n",
    "emb_dim = 64\n",
    "\n",
    "input_tensor = torch.randn(1, emb_dim, 32, 32)\n",
    "\n",
    "model = MulitAxisSelfAttention(\n",
    "    n_head=n_head,\n",
    "    emb_dim=emb_dim,\n",
    "    grid_window_size_h=grid_window_size_h,\n",
    "    grid_window_size_w=grid_window_size_w,\n",
    "    dropout=0.1,\n",
    ")\n",
    "\n",
    "# Forward\n",
    "output = model(input_tensor)\n",
    "\n",
    "# Check output shape and contents\n",
    "print(f\"Input shape: {input_tensor.shape}\")\n",
    "print(f\"Output shape: {output.shape}\")"
   ]
  },
  {
   "cell_type": "code",
   "execution_count": null,
   "id": "c6d68a58-28c4-434c-877f-5db3a28d180a",
   "metadata": {},
   "outputs": [],
   "source": [
    "model = MaxViTBlock(\n",
    "    emb_dim=64,  # 入力の埋め込み次元\n",
    "    expansion_rate=4,  # 拡張率\n",
    "    shrink_rate=0.25,  # SEモジュールの縮小率\n",
    "    bias=True,\n",
    "    use_downsample=False,\n",
    "    n_head=32,  # マルチヘッドアテンションのヘッド数\n",
    "    grid_window_size_h=8,  # グリッドウィンドウの高さ\n",
    "    grid_window_size_w=8,  # グリッドウィンドウの幅\n",
    "    dropout=0.1,  # ドロップアウト率\n",
    ")\n",
    "\n",
    "# テスト用のテンソル (バッチサイズ: 1, チャネル数: 64, 高さ: 32, 幅: 32)\n",
    "x = torch.randn(1, 64, 32, 32)\n",
    "\n",
    "# モデルを実行\n",
    "output = model(x)\n",
    "\n",
    "# 出力の形状を確認\n",
    "print(\"Output shape:\", output.shape)"
   ]
  },
  {
   "cell_type": "code",
   "execution_count": null,
   "id": "ea555a8a-9b28-4116-9f49-aad6fa3f5707",
   "metadata": {},
   "outputs": [],
   "source": []
  }
 ],
 "metadata": {
  "kernelspec": {
   "display_name": "Python 3 (ipykernel)",
   "language": "python",
   "name": "python3"
  },
  "language_info": {
   "codemirror_mode": {
    "name": "ipython",
    "version": 3
   },
   "file_extension": ".py",
   "mimetype": "text/x-python",
   "name": "python",
   "nbconvert_exporter": "python",
   "pygments_lexer": "ipython3",
   "version": "3.9.5"
  }
 },
 "nbformat": 4,
 "nbformat_minor": 5
}
